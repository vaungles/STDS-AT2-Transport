{
 "cells": [
  {
   "cell_type": "markdown",
   "metadata": {},
   "source": [
    "# Introduction"
   ]
  },
  {
   "cell_type": "markdown",
   "metadata": {},
   "source": [
    "This script explores \n",
    "1. the characteristics of the **Ku-ring-gai** LGA with those of other LGAs in the same cluster\n",
    "2. the characteristics of the clusters that contain the **Ku-ring-gai** LGA, with another cluster. The variables will be aggregated at a cluster level and the same analyses as (1) followed"
   ]
  },
  {
   "cell_type": "code",
   "execution_count": 14,
   "metadata": {},
   "outputs": [],
   "source": [
    "library(MASS)\n",
    "library(tidyverse)\n",
    "library(magrittr)\n",
    "library(reshape2)\n",
    "library(ggplot2)\n",
    "library(scales)\n",
    "library(ggrepel)\n",
    "library(readxl)\n",
    "library(corrplot)\n",
    "library(purrr)\n",
    "library(rlang)\n",
    "library(ggcorrplot)\n",
    "library(ggfortify)\n",
    "library(AER)"
   ]
  },
  {
   "cell_type": "markdown",
   "metadata": {},
   "source": [
    "### Theme for plotting"
   ]
  },
  {
   "cell_type": "code",
   "execution_count": 133,
   "metadata": {},
   "outputs": [],
   "source": [
    "my_theme <- function(base_size = 12, base_family = \"sans\"){\n",
    " theme_grey(base_size = base_size, base_family = base_family) +\n",
    "   theme(\n",
    "     axis.text = element_text(size = 12),\n",
    "     axis.text.x = element_text(angle = 90, vjust = 0.5, hjust = 1),\n",
    "     axis.ticks.length = unit(.25, \"cm\"),\n",
    "     axis.title = element_text(size = 14),\n",
    "     panel.grid.major = element_line(color = \"grey\"),\n",
    "     panel.grid.minor = element_blank(),\n",
    "     panel.background = element_rect(fill = \"aliceblue\"), # alice blue could be replaced with NA as well,\n",
    "     panel.border = element_rect(linetype = \"solid\", fill = NA),\n",
    "     strip.background = element_rect(fill = \"lightgrey\", color = \"grey\", size = 1),\n",
    "     strip.text = element_text(face = \"bold\", size = 12, color = \"navy\"),\n",
    "     legend.position = \"right\",\n",
    "     legend.background = element_blank(),\n",
    "     legend.title = element_text(face = \"bold\"),\n",
    "     panel.spacing  = unit(.5, \"lines\")\n",
    "     #panel.border = element_rect(color = \"grey\", fill = NA, size = 0.5)\n",
    "   )\n",
    "}"
   ]
  },
  {
   "cell_type": "code",
   "execution_count": 152,
   "metadata": {},
   "outputs": [],
   "source": [
    "data_path <- \"D:/OneDrive - UTS/36103/AT2B/data2\"\n",
    "cluster_path <- \"D:/OneDrive - UTS/36103/AT2/Git/STDS-AT2-Transport/LGA clustering/KMClustGroups2_cosine.csv\"\n",
    "chart_dir <- \"D:/OneDrive - UTS/36103/AT2B/charts\""
   ]
  },
  {
   "cell_type": "code",
   "execution_count": 153,
   "metadata": {},
   "outputs": [
    {
     "name": "stderr",
     "output_type": "stream",
     "text": [
      "Parsed with column specification:\n",
      "cols(\n",
      "  LGA = \u001b[31mcol_character()\u001b[39m,\n",
      "  crime_tot_per_lga = \u001b[32mcol_double()\u001b[39m,\n",
      "  crime_rate_per_lga = \u001b[32mcol_double()\u001b[39m,\n",
      "  Sex = \u001b[31mcol_character()\u001b[39m,\n",
      "  Age = \u001b[31mcol_character()\u001b[39m,\n",
      "  pop_age_lga = \u001b[32mcol_double()\u001b[39m,\n",
      "  pop_total = \u001b[32mcol_double()\u001b[39m,\n",
      "  birthplace_of_person = \u001b[31mcol_character()\u001b[39m,\n",
      "  birth_value = \u001b[32mcol_double()\u001b[39m,\n",
      "  `Industry of Employment` = \u001b[31mcol_character()\u001b[39m,\n",
      "  emp_value = \u001b[32mcol_double()\u001b[39m,\n",
      "  labour_type = \u001b[31mcol_character()\u001b[39m,\n",
      "  labour_value = \u001b[32mcol_double()\u001b[39m,\n",
      "  Pop_Dens_km2 = \u001b[32mcol_double()\u001b[39m,\n",
      "  seifa_value = \u001b[32mcol_double()\u001b[39m,\n",
      "  num_service = \u001b[32mcol_double()\u001b[39m\n",
      ")\n"
     ]
    },
    {
     "data": {
      "text/html": [
       "<table>\n",
       "<thead><tr><th scope=col>LGA</th><th scope=col>crime_tot_per_lga</th><th scope=col>crime_rate_per_lga</th><th scope=col>Sex</th><th scope=col>Age</th><th scope=col>pop_age_lga</th><th scope=col>pop_total</th><th scope=col>birthplace_of_person</th><th scope=col>birth_value</th><th scope=col>Industry of Employment</th><th scope=col>emp_value</th><th scope=col>labour_type</th><th scope=col>labour_value</th><th scope=col>Pop_Dens_km2</th><th scope=col>seifa_value</th><th scope=col>num_service</th></tr></thead>\n",
       "<tbody>\n",
       "\t<tr><td>albury                           </td><td>6233                             </td><td>0.1220219                        </td><td>Females                          </td><td>85 and over                      </td><td>845                              </td><td>51081                            </td><td>New Zealand                      </td><td>2510                             </td><td>Agriculture, Forestry and Fishing</td><td>0                                </td><td>employed                         </td><td>  0                              </td><td>170.5                            </td><td>964                              </td><td>1769                             </td></tr>\n",
       "\t<tr><td>albury                           </td><td>6233                             </td><td>0.1220219                        </td><td>Females                          </td><td>85 and over                      </td><td>845                              </td><td>51081                            </td><td>New Zealand                      </td><td>2510                             </td><td>Agriculture, Forestry and Fishing</td><td>0                                </td><td>unemployed                       </td><td>834                              </td><td>170.5                            </td><td>964                              </td><td>1769                             </td></tr>\n",
       "\t<tr><td>albury                           </td><td>6233                             </td><td>0.1220219                        </td><td>Females                          </td><td>85 and over                      </td><td>845                              </td><td>51081                            </td><td>New Zealand                      </td><td>2510                             </td><td>Mining                           </td><td>0                                </td><td>employed                         </td><td>  0                              </td><td>170.5                            </td><td>964                              </td><td>1769                             </td></tr>\n",
       "\t<tr><td>albury                           </td><td>6233                             </td><td>0.1220219                        </td><td>Females                          </td><td>85 and over                      </td><td>845                              </td><td>51081                            </td><td>New Zealand                      </td><td>2510                             </td><td>Mining                           </td><td>0                                </td><td>unemployed                       </td><td>834                              </td><td>170.5                            </td><td>964                              </td><td>1769                             </td></tr>\n",
       "\t<tr><td>albury                           </td><td>6233                             </td><td>0.1220219                        </td><td>Females                          </td><td>85 and over                      </td><td>845                              </td><td>51081                            </td><td>New Zealand                      </td><td>2510                             </td><td>Manufacturing                    </td><td>0                                </td><td>employed                         </td><td>  0                              </td><td>170.5                            </td><td>964                              </td><td>1769                             </td></tr>\n",
       "\t<tr><td>albury                           </td><td>6233                             </td><td>0.1220219                        </td><td>Females                          </td><td>85 and over                      </td><td>845                              </td><td>51081                            </td><td>New Zealand                      </td><td>2510                             </td><td>Manufacturing                    </td><td>0                                </td><td>unemployed                       </td><td>834                              </td><td>170.5                            </td><td>964                              </td><td>1769                             </td></tr>\n",
       "</tbody>\n",
       "</table>\n"
      ],
      "text/latex": [
       "\\begin{tabular}{r|llllllllllllllll}\n",
       " LGA & crime\\_tot\\_per\\_lga & crime\\_rate\\_per\\_lga & Sex & Age & pop\\_age\\_lga & pop\\_total & birthplace\\_of\\_person & birth\\_value & Industry of Employment & emp\\_value & labour\\_type & labour\\_value & Pop\\_Dens\\_km2 & seifa\\_value & num\\_service\\\\\n",
       "\\hline\n",
       "\t albury                            & 6233                              & 0.1220219                         & Females                           & 85 and over                       & 845                               & 51081                             & New Zealand                       & 2510                              & Agriculture, Forestry and Fishing & 0                                 & employed                          &   0                               & 170.5                             & 964                               & 1769                             \\\\\n",
       "\t albury                            & 6233                              & 0.1220219                         & Females                           & 85 and over                       & 845                               & 51081                             & New Zealand                       & 2510                              & Agriculture, Forestry and Fishing & 0                                 & unemployed                        & 834                               & 170.5                             & 964                               & 1769                             \\\\\n",
       "\t albury                            & 6233                              & 0.1220219                         & Females                           & 85 and over                       & 845                               & 51081                             & New Zealand                       & 2510                              & Mining                            & 0                                 & employed                          &   0                               & 170.5                             & 964                               & 1769                             \\\\\n",
       "\t albury                            & 6233                              & 0.1220219                         & Females                           & 85 and over                       & 845                               & 51081                             & New Zealand                       & 2510                              & Mining                            & 0                                 & unemployed                        & 834                               & 170.5                             & 964                               & 1769                             \\\\\n",
       "\t albury                            & 6233                              & 0.1220219                         & Females                           & 85 and over                       & 845                               & 51081                             & New Zealand                       & 2510                              & Manufacturing                     & 0                                 & employed                          &   0                               & 170.5                             & 964                               & 1769                             \\\\\n",
       "\t albury                            & 6233                              & 0.1220219                         & Females                           & 85 and over                       & 845                               & 51081                             & New Zealand                       & 2510                              & Manufacturing                     & 0                                 & unemployed                        & 834                               & 170.5                             & 964                               & 1769                             \\\\\n",
       "\\end{tabular}\n"
      ],
      "text/markdown": [
       "\n",
       "| LGA | crime_tot_per_lga | crime_rate_per_lga | Sex | Age | pop_age_lga | pop_total | birthplace_of_person | birth_value | Industry of Employment | emp_value | labour_type | labour_value | Pop_Dens_km2 | seifa_value | num_service |\n",
       "|---|---|---|---|---|---|---|---|---|---|---|---|---|---|---|---|\n",
       "| albury                            | 6233                              | 0.1220219                         | Females                           | 85 and over                       | 845                               | 51081                             | New Zealand                       | 2510                              | Agriculture, Forestry and Fishing | 0                                 | employed                          |   0                               | 170.5                             | 964                               | 1769                              |\n",
       "| albury                            | 6233                              | 0.1220219                         | Females                           | 85 and over                       | 845                               | 51081                             | New Zealand                       | 2510                              | Agriculture, Forestry and Fishing | 0                                 | unemployed                        | 834                               | 170.5                             | 964                               | 1769                              |\n",
       "| albury                            | 6233                              | 0.1220219                         | Females                           | 85 and over                       | 845                               | 51081                             | New Zealand                       | 2510                              | Mining                            | 0                                 | employed                          |   0                               | 170.5                             | 964                               | 1769                              |\n",
       "| albury                            | 6233                              | 0.1220219                         | Females                           | 85 and over                       | 845                               | 51081                             | New Zealand                       | 2510                              | Mining                            | 0                                 | unemployed                        | 834                               | 170.5                             | 964                               | 1769                              |\n",
       "| albury                            | 6233                              | 0.1220219                         | Females                           | 85 and over                       | 845                               | 51081                             | New Zealand                       | 2510                              | Manufacturing                     | 0                                 | employed                          |   0                               | 170.5                             | 964                               | 1769                              |\n",
       "| albury                            | 6233                              | 0.1220219                         | Females                           | 85 and over                       | 845                               | 51081                             | New Zealand                       | 2510                              | Manufacturing                     | 0                                 | unemployed                        | 834                               | 170.5                             | 964                               | 1769                              |\n",
       "\n"
      ],
      "text/plain": [
       "  LGA    crime_tot_per_lga crime_rate_per_lga Sex     Age         pop_age_lga\n",
       "1 albury 6233              0.1220219          Females 85 and over 845        \n",
       "2 albury 6233              0.1220219          Females 85 and over 845        \n",
       "3 albury 6233              0.1220219          Females 85 and over 845        \n",
       "4 albury 6233              0.1220219          Females 85 and over 845        \n",
       "5 albury 6233              0.1220219          Females 85 and over 845        \n",
       "6 albury 6233              0.1220219          Females 85 and over 845        \n",
       "  pop_total birthplace_of_person birth_value Industry of Employment           \n",
       "1 51081     New Zealand          2510        Agriculture, Forestry and Fishing\n",
       "2 51081     New Zealand          2510        Agriculture, Forestry and Fishing\n",
       "3 51081     New Zealand          2510        Mining                           \n",
       "4 51081     New Zealand          2510        Mining                           \n",
       "5 51081     New Zealand          2510        Manufacturing                    \n",
       "6 51081     New Zealand          2510        Manufacturing                    \n",
       "  emp_value labour_type labour_value Pop_Dens_km2 seifa_value num_service\n",
       "1 0         employed      0          170.5        964         1769       \n",
       "2 0         unemployed  834          170.5        964         1769       \n",
       "3 0         employed      0          170.5        964         1769       \n",
       "4 0         unemployed  834          170.5        964         1769       \n",
       "5 0         employed      0          170.5        964         1769       \n",
       "6 0         unemployed  834          170.5        964         1769       "
      ]
     },
     "metadata": {},
     "output_type": "display_data"
    },
    {
     "name": "stdout",
     "output_type": "stream",
     "text": [
      "Observations: 11,616,480\n",
      "Variables: 16\n",
      "$ LGA                      \u001b[3m\u001b[90m<chr>\u001b[39m\u001b[23m \"albury\", \"albury\", \"albury\", \"albury\", \"a...\n",
      "$ crime_tot_per_lga        \u001b[3m\u001b[90m<dbl>\u001b[39m\u001b[23m 6233, 6233, 6233, 6233, 6233, 6233, 6233, ...\n",
      "$ crime_rate_per_lga       \u001b[3m\u001b[90m<dbl>\u001b[39m\u001b[23m 0.1220219, 0.1220219, 0.1220219, 0.1220219...\n",
      "$ Sex                      \u001b[3m\u001b[90m<chr>\u001b[39m\u001b[23m \"Females\", \"Females\", \"Females\", \"Females\"...\n",
      "$ Age                      \u001b[3m\u001b[90m<chr>\u001b[39m\u001b[23m \"85 and over\", \"85 and over\", \"85 and over...\n",
      "$ pop_age_lga              \u001b[3m\u001b[90m<dbl>\u001b[39m\u001b[23m 845, 845, 845, 845, 845, 845, 845, 845, 84...\n",
      "$ pop_total                \u001b[3m\u001b[90m<dbl>\u001b[39m\u001b[23m 51081, 51081, 51081, 51081, 51081, 51081, ...\n",
      "$ birthplace_of_person     \u001b[3m\u001b[90m<chr>\u001b[39m\u001b[23m \"New Zealand\", \"New Zealand\", \"New Zealand...\n",
      "$ birth_value              \u001b[3m\u001b[90m<dbl>\u001b[39m\u001b[23m 2510, 2510, 2510, 2510, 2510, 2510, 2510, ...\n",
      "$ `Industry of Employment` \u001b[3m\u001b[90m<chr>\u001b[39m\u001b[23m \"Agriculture, Forestry and Fishing\", \"Agri...\n",
      "$ emp_value                \u001b[3m\u001b[90m<dbl>\u001b[39m\u001b[23m 0, 0, 0, 0, 0, 0, 0, 0, 0, 0, 0, 0, 0, 0, ...\n",
      "$ labour_type              \u001b[3m\u001b[90m<chr>\u001b[39m\u001b[23m \"employed\", \"unemployed\", \"employed\", \"une...\n",
      "$ labour_value             \u001b[3m\u001b[90m<dbl>\u001b[39m\u001b[23m 0, 834, 0, 834, 0, 834, 0, 834, 0, 834, 0,...\n",
      "$ Pop_Dens_km2             \u001b[3m\u001b[90m<dbl>\u001b[39m\u001b[23m 170.5, 170.5, 170.5, 170.5, 170.5, 170.5, ...\n",
      "$ seifa_value              \u001b[3m\u001b[90m<dbl>\u001b[39m\u001b[23m 964, 964, 964, 964, 964, 964, 964, 964, 96...\n",
      "$ num_service              \u001b[3m\u001b[90m<dbl>\u001b[39m\u001b[23m 1769, 1769, 1769, 1769, 1769, 1769, 1769, ...\n"
     ]
    }
   ],
   "source": [
    "data <- readr::read_csv(paste(data_path, \"unified4.csv\", sep = \"/\"))\n",
    "head(data)\n",
    "glimpse(data)"
   ]
  },
  {
   "cell_type": "code",
   "execution_count": 154,
   "metadata": {},
   "outputs": [
    {
     "data": {
      "text/html": [
       "<table>\n",
       "<thead><tr><th scope=col>lga</th><th scope=col>crime_tot_per_lga</th><th scope=col>crime_rate_per_lga</th><th scope=col>sex</th><th scope=col>age</th><th scope=col>pop_age_lga</th><th scope=col>pop_total</th><th scope=col>birthplace_of_person</th><th scope=col>birth_value</th><th scope=col>industry of employment</th><th scope=col>emp_value</th><th scope=col>labour_type</th><th scope=col>labour_value</th><th scope=col>pop_dens_km2</th><th scope=col>seifa_value</th><th scope=col>num_service</th></tr></thead>\n",
       "<tbody>\n",
       "\t<tr><td>albury                           </td><td>6233                             </td><td>0.1220219                        </td><td>Females                          </td><td>85 and over                      </td><td>845                              </td><td>51081                            </td><td>New Zealand                      </td><td>2510                             </td><td>Agriculture, Forestry and Fishing</td><td>0                                </td><td>employed                         </td><td>  0                              </td><td>170.5                            </td><td>964                              </td><td>1769                             </td></tr>\n",
       "\t<tr><td>albury                           </td><td>6233                             </td><td>0.1220219                        </td><td>Females                          </td><td>85 and over                      </td><td>845                              </td><td>51081                            </td><td>New Zealand                      </td><td>2510                             </td><td>Agriculture, Forestry and Fishing</td><td>0                                </td><td>unemployed                       </td><td>834                              </td><td>170.5                            </td><td>964                              </td><td>1769                             </td></tr>\n",
       "\t<tr><td>albury                           </td><td>6233                             </td><td>0.1220219                        </td><td>Females                          </td><td>85 and over                      </td><td>845                              </td><td>51081                            </td><td>New Zealand                      </td><td>2510                             </td><td>Mining                           </td><td>0                                </td><td>employed                         </td><td>  0                              </td><td>170.5                            </td><td>964                              </td><td>1769                             </td></tr>\n",
       "\t<tr><td>albury                           </td><td>6233                             </td><td>0.1220219                        </td><td>Females                          </td><td>85 and over                      </td><td>845                              </td><td>51081                            </td><td>New Zealand                      </td><td>2510                             </td><td>Mining                           </td><td>0                                </td><td>unemployed                       </td><td>834                              </td><td>170.5                            </td><td>964                              </td><td>1769                             </td></tr>\n",
       "\t<tr><td>albury                           </td><td>6233                             </td><td>0.1220219                        </td><td>Females                          </td><td>85 and over                      </td><td>845                              </td><td>51081                            </td><td>New Zealand                      </td><td>2510                             </td><td>Manufacturing                    </td><td>0                                </td><td>employed                         </td><td>  0                              </td><td>170.5                            </td><td>964                              </td><td>1769                             </td></tr>\n",
       "\t<tr><td>albury                           </td><td>6233                             </td><td>0.1220219                        </td><td>Females                          </td><td>85 and over                      </td><td>845                              </td><td>51081                            </td><td>New Zealand                      </td><td>2510                             </td><td>Manufacturing                    </td><td>0                                </td><td>unemployed                       </td><td>834                              </td><td>170.5                            </td><td>964                              </td><td>1769                             </td></tr>\n",
       "</tbody>\n",
       "</table>\n"
      ],
      "text/latex": [
       "\\begin{tabular}{r|llllllllllllllll}\n",
       " lga & crime\\_tot\\_per\\_lga & crime\\_rate\\_per\\_lga & sex & age & pop\\_age\\_lga & pop\\_total & birthplace\\_of\\_person & birth\\_value & industry of employment & emp\\_value & labour\\_type & labour\\_value & pop\\_dens\\_km2 & seifa\\_value & num\\_service\\\\\n",
       "\\hline\n",
       "\t albury                            & 6233                              & 0.1220219                         & Females                           & 85 and over                       & 845                               & 51081                             & New Zealand                       & 2510                              & Agriculture, Forestry and Fishing & 0                                 & employed                          &   0                               & 170.5                             & 964                               & 1769                             \\\\\n",
       "\t albury                            & 6233                              & 0.1220219                         & Females                           & 85 and over                       & 845                               & 51081                             & New Zealand                       & 2510                              & Agriculture, Forestry and Fishing & 0                                 & unemployed                        & 834                               & 170.5                             & 964                               & 1769                             \\\\\n",
       "\t albury                            & 6233                              & 0.1220219                         & Females                           & 85 and over                       & 845                               & 51081                             & New Zealand                       & 2510                              & Mining                            & 0                                 & employed                          &   0                               & 170.5                             & 964                               & 1769                             \\\\\n",
       "\t albury                            & 6233                              & 0.1220219                         & Females                           & 85 and over                       & 845                               & 51081                             & New Zealand                       & 2510                              & Mining                            & 0                                 & unemployed                        & 834                               & 170.5                             & 964                               & 1769                             \\\\\n",
       "\t albury                            & 6233                              & 0.1220219                         & Females                           & 85 and over                       & 845                               & 51081                             & New Zealand                       & 2510                              & Manufacturing                     & 0                                 & employed                          &   0                               & 170.5                             & 964                               & 1769                             \\\\\n",
       "\t albury                            & 6233                              & 0.1220219                         & Females                           & 85 and over                       & 845                               & 51081                             & New Zealand                       & 2510                              & Manufacturing                     & 0                                 & unemployed                        & 834                               & 170.5                             & 964                               & 1769                             \\\\\n",
       "\\end{tabular}\n"
      ],
      "text/markdown": [
       "\n",
       "| lga | crime_tot_per_lga | crime_rate_per_lga | sex | age | pop_age_lga | pop_total | birthplace_of_person | birth_value | industry of employment | emp_value | labour_type | labour_value | pop_dens_km2 | seifa_value | num_service |\n",
       "|---|---|---|---|---|---|---|---|---|---|---|---|---|---|---|---|\n",
       "| albury                            | 6233                              | 0.1220219                         | Females                           | 85 and over                       | 845                               | 51081                             | New Zealand                       | 2510                              | Agriculture, Forestry and Fishing | 0                                 | employed                          |   0                               | 170.5                             | 964                               | 1769                              |\n",
       "| albury                            | 6233                              | 0.1220219                         | Females                           | 85 and over                       | 845                               | 51081                             | New Zealand                       | 2510                              | Agriculture, Forestry and Fishing | 0                                 | unemployed                        | 834                               | 170.5                             | 964                               | 1769                              |\n",
       "| albury                            | 6233                              | 0.1220219                         | Females                           | 85 and over                       | 845                               | 51081                             | New Zealand                       | 2510                              | Mining                            | 0                                 | employed                          |   0                               | 170.5                             | 964                               | 1769                              |\n",
       "| albury                            | 6233                              | 0.1220219                         | Females                           | 85 and over                       | 845                               | 51081                             | New Zealand                       | 2510                              | Mining                            | 0                                 | unemployed                        | 834                               | 170.5                             | 964                               | 1769                              |\n",
       "| albury                            | 6233                              | 0.1220219                         | Females                           | 85 and over                       | 845                               | 51081                             | New Zealand                       | 2510                              | Manufacturing                     | 0                                 | employed                          |   0                               | 170.5                             | 964                               | 1769                              |\n",
       "| albury                            | 6233                              | 0.1220219                         | Females                           | 85 and over                       | 845                               | 51081                             | New Zealand                       | 2510                              | Manufacturing                     | 0                                 | unemployed                        | 834                               | 170.5                             | 964                               | 1769                              |\n",
       "\n"
      ],
      "text/plain": [
       "  lga    crime_tot_per_lga crime_rate_per_lga sex     age         pop_age_lga\n",
       "1 albury 6233              0.1220219          Females 85 and over 845        \n",
       "2 albury 6233              0.1220219          Females 85 and over 845        \n",
       "3 albury 6233              0.1220219          Females 85 and over 845        \n",
       "4 albury 6233              0.1220219          Females 85 and over 845        \n",
       "5 albury 6233              0.1220219          Females 85 and over 845        \n",
       "6 albury 6233              0.1220219          Females 85 and over 845        \n",
       "  pop_total birthplace_of_person birth_value industry of employment           \n",
       "1 51081     New Zealand          2510        Agriculture, Forestry and Fishing\n",
       "2 51081     New Zealand          2510        Agriculture, Forestry and Fishing\n",
       "3 51081     New Zealand          2510        Mining                           \n",
       "4 51081     New Zealand          2510        Mining                           \n",
       "5 51081     New Zealand          2510        Manufacturing                    \n",
       "6 51081     New Zealand          2510        Manufacturing                    \n",
       "  emp_value labour_type labour_value pop_dens_km2 seifa_value num_service\n",
       "1 0         employed      0          170.5        964         1769       \n",
       "2 0         unemployed  834          170.5        964         1769       \n",
       "3 0         employed      0          170.5        964         1769       \n",
       "4 0         unemployed  834          170.5        964         1769       \n",
       "5 0         employed      0          170.5        964         1769       \n",
       "6 0         unemployed  834          170.5        964         1769       "
      ]
     },
     "metadata": {},
     "output_type": "display_data"
    },
    {
     "name": "stdout",
     "output_type": "stream",
     "text": [
      "Observations: 11,616,480\n",
      "Variables: 16\n",
      "$ lga                      \u001b[3m\u001b[90m<chr>\u001b[39m\u001b[23m \"albury\", \"albury\", \"albury\", \"albury\", \"a...\n",
      "$ crime_tot_per_lga        \u001b[3m\u001b[90m<dbl>\u001b[39m\u001b[23m 6233, 6233, 6233, 6233, 6233, 6233, 6233, ...\n",
      "$ crime_rate_per_lga       \u001b[3m\u001b[90m<dbl>\u001b[39m\u001b[23m 0.1220219, 0.1220219, 0.1220219, 0.1220219...\n",
      "$ sex                      \u001b[3m\u001b[90m<chr>\u001b[39m\u001b[23m \"Females\", \"Females\", \"Females\", \"Females\"...\n",
      "$ age                      \u001b[3m\u001b[90m<chr>\u001b[39m\u001b[23m \"85 and over\", \"85 and over\", \"85 and over...\n",
      "$ pop_age_lga              \u001b[3m\u001b[90m<dbl>\u001b[39m\u001b[23m 845, 845, 845, 845, 845, 845, 845, 845, 84...\n",
      "$ pop_total                \u001b[3m\u001b[90m<dbl>\u001b[39m\u001b[23m 51081, 51081, 51081, 51081, 51081, 51081, ...\n",
      "$ birthplace_of_person     \u001b[3m\u001b[90m<chr>\u001b[39m\u001b[23m \"New Zealand\", \"New Zealand\", \"New Zealand...\n",
      "$ birth_value              \u001b[3m\u001b[90m<dbl>\u001b[39m\u001b[23m 2510, 2510, 2510, 2510, 2510, 2510, 2510, ...\n",
      "$ `industry of employment` \u001b[3m\u001b[90m<chr>\u001b[39m\u001b[23m \"Agriculture, Forestry and Fishing\", \"Agri...\n",
      "$ emp_value                \u001b[3m\u001b[90m<dbl>\u001b[39m\u001b[23m 0, 0, 0, 0, 0, 0, 0, 0, 0, 0, 0, 0, 0, 0, ...\n",
      "$ labour_type              \u001b[3m\u001b[90m<chr>\u001b[39m\u001b[23m \"employed\", \"unemployed\", \"employed\", \"une...\n",
      "$ labour_value             \u001b[3m\u001b[90m<dbl>\u001b[39m\u001b[23m 0, 834, 0, 834, 0, 834, 0, 834, 0, 834, 0,...\n",
      "$ pop_dens_km2             \u001b[3m\u001b[90m<dbl>\u001b[39m\u001b[23m 170.5, 170.5, 170.5, 170.5, 170.5, 170.5, ...\n",
      "$ seifa_value              \u001b[3m\u001b[90m<dbl>\u001b[39m\u001b[23m 964, 964, 964, 964, 964, 964, 964, 964, 96...\n",
      "$ num_service              \u001b[3m\u001b[90m<dbl>\u001b[39m\u001b[23m 1769, 1769, 1769, 1769, 1769, 1769, 1769, ...\n"
     ]
    }
   ],
   "source": [
    "names(data) %<>% tolower\n",
    "\n",
    "head(data)\n",
    "glimpse(data)"
   ]
  },
  {
   "cell_type": "code",
   "execution_count": 155,
   "metadata": {},
   "outputs": [],
   "source": [
    "data %<>%\n",
    "    mutate(lga = as.factor(lga))"
   ]
  },
  {
   "cell_type": "markdown",
   "metadata": {},
   "source": [
    "# Loading the Cluster Data"
   ]
  },
  {
   "cell_type": "code",
   "execution_count": 156,
   "metadata": {},
   "outputs": [
    {
     "name": "stderr",
     "output_type": "stream",
     "text": [
      "Warning message:\n",
      "\"Missing column names filled in: 'X1' [1]\"Parsed with column specification:\n",
      "cols(\n",
      "  X1 = \u001b[31mcol_character()\u001b[39m,\n",
      "  x = \u001b[32mcol_double()\u001b[39m\n",
      ")\n"
     ]
    },
    {
     "data": {
      "text/html": [
       "<table>\n",
       "<thead><tr><th scope=col>X1</th><th scope=col>x</th></tr></thead>\n",
       "<tbody>\n",
       "\t<tr><td>albury           </td><td>1                </td></tr>\n",
       "\t<tr><td>ballina          </td><td>1                </td></tr>\n",
       "\t<tr><td>balranald        </td><td>4                </td></tr>\n",
       "\t<tr><td>bathurst regional</td><td>1                </td></tr>\n",
       "\t<tr><td>bega valley      </td><td>5                </td></tr>\n",
       "\t<tr><td>bellingen        </td><td>2                </td></tr>\n",
       "</tbody>\n",
       "</table>\n"
      ],
      "text/latex": [
       "\\begin{tabular}{r|ll}\n",
       " X1 & x\\\\\n",
       "\\hline\n",
       "\t albury            & 1                \\\\\n",
       "\t ballina           & 1                \\\\\n",
       "\t balranald         & 4                \\\\\n",
       "\t bathurst regional & 1                \\\\\n",
       "\t bega valley       & 5                \\\\\n",
       "\t bellingen         & 2                \\\\\n",
       "\\end{tabular}\n"
      ],
      "text/markdown": [
       "\n",
       "| X1 | x |\n",
       "|---|---|\n",
       "| albury            | 1                 |\n",
       "| ballina           | 1                 |\n",
       "| balranald         | 4                 |\n",
       "| bathurst regional | 1                 |\n",
       "| bega valley       | 5                 |\n",
       "| bellingen         | 2                 |\n",
       "\n"
      ],
      "text/plain": [
       "  X1                x\n",
       "1 albury            1\n",
       "2 ballina           1\n",
       "3 balranald         4\n",
       "4 bathurst regional 1\n",
       "5 bega valley       5\n",
       "6 bellingen         2"
      ]
     },
     "metadata": {},
     "output_type": "display_data"
    },
    {
     "name": "stdout",
     "output_type": "stream",
     "text": [
      "Observations: 105\n",
      "Variables: 2\n",
      "$ X1 \u001b[3m\u001b[90m<chr>\u001b[39m\u001b[23m \"albury\", \"ballina\", \"balranald\", \"bathurst regional\", \"bega val...\n",
      "$ x  \u001b[3m\u001b[90m<dbl>\u001b[39m\u001b[23m 1, 1, 4, 1, 5, 2, 4, 3, 4, 2, 3, 4, 4, 4, 3, 5, 2, 3, 3, 3, 3, 4...\n"
     ]
    }
   ],
   "source": [
    "clusters <- readr::read_csv(cluster_path)\n",
    "head(clusters)\n",
    "glimpse(clusters)"
   ]
  },
  {
   "cell_type": "code",
   "execution_count": 157,
   "metadata": {},
   "outputs": [
    {
     "data": {
      "text/html": [
       "<table>\n",
       "<thead><tr><th scope=col>lga</th><th scope=col>cluster</th></tr></thead>\n",
       "<tbody>\n",
       "\t<tr><td>albury           </td><td>1                </td></tr>\n",
       "\t<tr><td>ballina          </td><td>1                </td></tr>\n",
       "\t<tr><td>balranald        </td><td>4                </td></tr>\n",
       "\t<tr><td>bathurst regional</td><td>1                </td></tr>\n",
       "\t<tr><td>bega valley      </td><td>5                </td></tr>\n",
       "\t<tr><td>bellingen        </td><td>2                </td></tr>\n",
       "</tbody>\n",
       "</table>\n"
      ],
      "text/latex": [
       "\\begin{tabular}{r|ll}\n",
       " lga & cluster\\\\\n",
       "\\hline\n",
       "\t albury            & 1                \\\\\n",
       "\t ballina           & 1                \\\\\n",
       "\t balranald         & 4                \\\\\n",
       "\t bathurst regional & 1                \\\\\n",
       "\t bega valley       & 5                \\\\\n",
       "\t bellingen         & 2                \\\\\n",
       "\\end{tabular}\n"
      ],
      "text/markdown": [
       "\n",
       "| lga | cluster |\n",
       "|---|---|\n",
       "| albury            | 1                 |\n",
       "| ballina           | 1                 |\n",
       "| balranald         | 4                 |\n",
       "| bathurst regional | 1                 |\n",
       "| bega valley       | 5                 |\n",
       "| bellingen         | 2                 |\n",
       "\n"
      ],
      "text/plain": [
       "  lga               cluster\n",
       "1 albury            1      \n",
       "2 ballina           1      \n",
       "3 balranald         4      \n",
       "4 bathurst regional 1      \n",
       "5 bega valley       5      \n",
       "6 bellingen         2      "
      ]
     },
     "metadata": {},
     "output_type": "display_data"
    },
    {
     "name": "stdout",
     "output_type": "stream",
     "text": [
      "Observations: 105\n",
      "Variables: 2\n",
      "$ lga     \u001b[3m\u001b[90m<chr>\u001b[39m\u001b[23m \"albury\", \"ballina\", \"balranald\", \"bathurst regional\", \"beg...\n",
      "$ cluster \u001b[3m\u001b[90m<dbl>\u001b[39m\u001b[23m 1, 1, 4, 1, 5, 2, 4, 3, 4, 2, 3, 4, 4, 4, 3, 5, 2, 3, 3, 3,...\n"
     ]
    }
   ],
   "source": [
    "clusters %<>%\n",
    "    rename(lga = X1, cluster = x)\n",
    "head(clusters)\n",
    "glimpse(clusters)"
   ]
  },
  {
   "cell_type": "code",
   "execution_count": 158,
   "metadata": {},
   "outputs": [
    {
     "data": {
      "text/html": [
       "5"
      ],
      "text/latex": [
       "5"
      ],
      "text/markdown": [
       "5"
      ],
      "text/plain": [
       "[1] 5"
      ]
     },
     "metadata": {},
     "output_type": "display_data"
    }
   ],
   "source": [
    "n_clusters <- clusters %>%\n",
    "    dplyr::select(cluster) %>%\n",
    "    distinct %>%\n",
    "    count %>%\n",
    "    pull(n)\n",
    "\n",
    "n_clusters"
   ]
  },
  {
   "cell_type": "markdown",
   "metadata": {},
   "source": [
    "# Joining Cluster to the Data"
   ]
  },
  {
   "cell_type": "code",
   "execution_count": 159,
   "metadata": {},
   "outputs": [
    {
     "name": "stderr",
     "output_type": "stream",
     "text": [
      "Warning message:\n",
      "\"Column `lga` joining factor and character vector, coercing into character vector\""
     ]
    },
    {
     "data": {
      "text/html": [
       "<table>\n",
       "<thead><tr><th scope=col>lga</th><th scope=col>crime_tot_per_lga</th><th scope=col>crime_rate_per_lga</th><th scope=col>sex</th><th scope=col>age</th><th scope=col>pop_age_lga</th><th scope=col>pop_total</th><th scope=col>birthplace_of_person</th><th scope=col>birth_value</th><th scope=col>industry of employment</th><th scope=col>emp_value</th><th scope=col>labour_type</th><th scope=col>labour_value</th><th scope=col>pop_dens_km2</th><th scope=col>seifa_value</th><th scope=col>num_service</th><th scope=col>cluster</th></tr></thead>\n",
       "<tbody>\n",
       "\t<tr><td>albury                           </td><td>6233                             </td><td>0.1220219                        </td><td>Females                          </td><td>85 and over                      </td><td>845                              </td><td>51081                            </td><td>New Zealand                      </td><td>2510                             </td><td>Agriculture, Forestry and Fishing</td><td>0                                </td><td>employed                         </td><td>  0                              </td><td>170.5                            </td><td>964                              </td><td>1769                             </td><td>1                                </td></tr>\n",
       "\t<tr><td>albury                           </td><td>6233                             </td><td>0.1220219                        </td><td>Females                          </td><td>85 and over                      </td><td>845                              </td><td>51081                            </td><td>New Zealand                      </td><td>2510                             </td><td>Agriculture, Forestry and Fishing</td><td>0                                </td><td>unemployed                       </td><td>834                              </td><td>170.5                            </td><td>964                              </td><td>1769                             </td><td>1                                </td></tr>\n",
       "\t<tr><td>albury                           </td><td>6233                             </td><td>0.1220219                        </td><td>Females                          </td><td>85 and over                      </td><td>845                              </td><td>51081                            </td><td>New Zealand                      </td><td>2510                             </td><td>Mining                           </td><td>0                                </td><td>employed                         </td><td>  0                              </td><td>170.5                            </td><td>964                              </td><td>1769                             </td><td>1                                </td></tr>\n",
       "\t<tr><td>albury                           </td><td>6233                             </td><td>0.1220219                        </td><td>Females                          </td><td>85 and over                      </td><td>845                              </td><td>51081                            </td><td>New Zealand                      </td><td>2510                             </td><td>Mining                           </td><td>0                                </td><td>unemployed                       </td><td>834                              </td><td>170.5                            </td><td>964                              </td><td>1769                             </td><td>1                                </td></tr>\n",
       "\t<tr><td>albury                           </td><td>6233                             </td><td>0.1220219                        </td><td>Females                          </td><td>85 and over                      </td><td>845                              </td><td>51081                            </td><td>New Zealand                      </td><td>2510                             </td><td>Manufacturing                    </td><td>0                                </td><td>employed                         </td><td>  0                              </td><td>170.5                            </td><td>964                              </td><td>1769                             </td><td>1                                </td></tr>\n",
       "\t<tr><td>albury                           </td><td>6233                             </td><td>0.1220219                        </td><td>Females                          </td><td>85 and over                      </td><td>845                              </td><td>51081                            </td><td>New Zealand                      </td><td>2510                             </td><td>Manufacturing                    </td><td>0                                </td><td>unemployed                       </td><td>834                              </td><td>170.5                            </td><td>964                              </td><td>1769                             </td><td>1                                </td></tr>\n",
       "</tbody>\n",
       "</table>\n"
      ],
      "text/latex": [
       "\\begin{tabular}{r|lllllllllllllllll}\n",
       " lga & crime\\_tot\\_per\\_lga & crime\\_rate\\_per\\_lga & sex & age & pop\\_age\\_lga & pop\\_total & birthplace\\_of\\_person & birth\\_value & industry of employment & emp\\_value & labour\\_type & labour\\_value & pop\\_dens\\_km2 & seifa\\_value & num\\_service & cluster\\\\\n",
       "\\hline\n",
       "\t albury                            & 6233                              & 0.1220219                         & Females                           & 85 and over                       & 845                               & 51081                             & New Zealand                       & 2510                              & Agriculture, Forestry and Fishing & 0                                 & employed                          &   0                               & 170.5                             & 964                               & 1769                              & 1                                \\\\\n",
       "\t albury                            & 6233                              & 0.1220219                         & Females                           & 85 and over                       & 845                               & 51081                             & New Zealand                       & 2510                              & Agriculture, Forestry and Fishing & 0                                 & unemployed                        & 834                               & 170.5                             & 964                               & 1769                              & 1                                \\\\\n",
       "\t albury                            & 6233                              & 0.1220219                         & Females                           & 85 and over                       & 845                               & 51081                             & New Zealand                       & 2510                              & Mining                            & 0                                 & employed                          &   0                               & 170.5                             & 964                               & 1769                              & 1                                \\\\\n",
       "\t albury                            & 6233                              & 0.1220219                         & Females                           & 85 and over                       & 845                               & 51081                             & New Zealand                       & 2510                              & Mining                            & 0                                 & unemployed                        & 834                               & 170.5                             & 964                               & 1769                              & 1                                \\\\\n",
       "\t albury                            & 6233                              & 0.1220219                         & Females                           & 85 and over                       & 845                               & 51081                             & New Zealand                       & 2510                              & Manufacturing                     & 0                                 & employed                          &   0                               & 170.5                             & 964                               & 1769                              & 1                                \\\\\n",
       "\t albury                            & 6233                              & 0.1220219                         & Females                           & 85 and over                       & 845                               & 51081                             & New Zealand                       & 2510                              & Manufacturing                     & 0                                 & unemployed                        & 834                               & 170.5                             & 964                               & 1769                              & 1                                \\\\\n",
       "\\end{tabular}\n"
      ],
      "text/markdown": [
       "\n",
       "| lga | crime_tot_per_lga | crime_rate_per_lga | sex | age | pop_age_lga | pop_total | birthplace_of_person | birth_value | industry of employment | emp_value | labour_type | labour_value | pop_dens_km2 | seifa_value | num_service | cluster |\n",
       "|---|---|---|---|---|---|---|---|---|---|---|---|---|---|---|---|---|\n",
       "| albury                            | 6233                              | 0.1220219                         | Females                           | 85 and over                       | 845                               | 51081                             | New Zealand                       | 2510                              | Agriculture, Forestry and Fishing | 0                                 | employed                          |   0                               | 170.5                             | 964                               | 1769                              | 1                                 |\n",
       "| albury                            | 6233                              | 0.1220219                         | Females                           | 85 and over                       | 845                               | 51081                             | New Zealand                       | 2510                              | Agriculture, Forestry and Fishing | 0                                 | unemployed                        | 834                               | 170.5                             | 964                               | 1769                              | 1                                 |\n",
       "| albury                            | 6233                              | 0.1220219                         | Females                           | 85 and over                       | 845                               | 51081                             | New Zealand                       | 2510                              | Mining                            | 0                                 | employed                          |   0                               | 170.5                             | 964                               | 1769                              | 1                                 |\n",
       "| albury                            | 6233                              | 0.1220219                         | Females                           | 85 and over                       | 845                               | 51081                             | New Zealand                       | 2510                              | Mining                            | 0                                 | unemployed                        | 834                               | 170.5                             | 964                               | 1769                              | 1                                 |\n",
       "| albury                            | 6233                              | 0.1220219                         | Females                           | 85 and over                       | 845                               | 51081                             | New Zealand                       | 2510                              | Manufacturing                     | 0                                 | employed                          |   0                               | 170.5                             | 964                               | 1769                              | 1                                 |\n",
       "| albury                            | 6233                              | 0.1220219                         | Females                           | 85 and over                       | 845                               | 51081                             | New Zealand                       | 2510                              | Manufacturing                     | 0                                 | unemployed                        | 834                               | 170.5                             | 964                               | 1769                              | 1                                 |\n",
       "\n"
      ],
      "text/plain": [
       "  lga    crime_tot_per_lga crime_rate_per_lga sex     age         pop_age_lga\n",
       "1 albury 6233              0.1220219          Females 85 and over 845        \n",
       "2 albury 6233              0.1220219          Females 85 and over 845        \n",
       "3 albury 6233              0.1220219          Females 85 and over 845        \n",
       "4 albury 6233              0.1220219          Females 85 and over 845        \n",
       "5 albury 6233              0.1220219          Females 85 and over 845        \n",
       "6 albury 6233              0.1220219          Females 85 and over 845        \n",
       "  pop_total birthplace_of_person birth_value industry of employment           \n",
       "1 51081     New Zealand          2510        Agriculture, Forestry and Fishing\n",
       "2 51081     New Zealand          2510        Agriculture, Forestry and Fishing\n",
       "3 51081     New Zealand          2510        Mining                           \n",
       "4 51081     New Zealand          2510        Mining                           \n",
       "5 51081     New Zealand          2510        Manufacturing                    \n",
       "6 51081     New Zealand          2510        Manufacturing                    \n",
       "  emp_value labour_type labour_value pop_dens_km2 seifa_value num_service\n",
       "1 0         employed      0          170.5        964         1769       \n",
       "2 0         unemployed  834          170.5        964         1769       \n",
       "3 0         employed      0          170.5        964         1769       \n",
       "4 0         unemployed  834          170.5        964         1769       \n",
       "5 0         employed      0          170.5        964         1769       \n",
       "6 0         unemployed  834          170.5        964         1769       \n",
       "  cluster\n",
       "1 1      \n",
       "2 1      \n",
       "3 1      \n",
       "4 1      \n",
       "5 1      \n",
       "6 1      "
      ]
     },
     "metadata": {},
     "output_type": "display_data"
    },
    {
     "name": "stdout",
     "output_type": "stream",
     "text": [
      "Observations: 9,639,360\n",
      "Variables: 17\n",
      "$ lga                      \u001b[3m\u001b[90m<chr>\u001b[39m\u001b[23m \"albury\", \"albury\", \"albury\", \"albury\", \"a...\n",
      "$ crime_tot_per_lga        \u001b[3m\u001b[90m<dbl>\u001b[39m\u001b[23m 6233, 6233, 6233, 6233, 6233, 6233, 6233, ...\n",
      "$ crime_rate_per_lga       \u001b[3m\u001b[90m<dbl>\u001b[39m\u001b[23m 0.1220219, 0.1220219, 0.1220219, 0.1220219...\n",
      "$ sex                      \u001b[3m\u001b[90m<chr>\u001b[39m\u001b[23m \"Females\", \"Females\", \"Females\", \"Females\"...\n",
      "$ age                      \u001b[3m\u001b[90m<chr>\u001b[39m\u001b[23m \"85 and over\", \"85 and over\", \"85 and over...\n",
      "$ pop_age_lga              \u001b[3m\u001b[90m<dbl>\u001b[39m\u001b[23m 845, 845, 845, 845, 845, 845, 845, 845, 84...\n",
      "$ pop_total                \u001b[3m\u001b[90m<dbl>\u001b[39m\u001b[23m 51081, 51081, 51081, 51081, 51081, 51081, ...\n",
      "$ birthplace_of_person     \u001b[3m\u001b[90m<chr>\u001b[39m\u001b[23m \"New Zealand\", \"New Zealand\", \"New Zealand...\n",
      "$ birth_value              \u001b[3m\u001b[90m<dbl>\u001b[39m\u001b[23m 2510, 2510, 2510, 2510, 2510, 2510, 2510, ...\n",
      "$ `industry of employment` \u001b[3m\u001b[90m<chr>\u001b[39m\u001b[23m \"Agriculture, Forestry and Fishing\", \"Agri...\n",
      "$ emp_value                \u001b[3m\u001b[90m<dbl>\u001b[39m\u001b[23m 0, 0, 0, 0, 0, 0, 0, 0, 0, 0, 0, 0, 0, 0, ...\n",
      "$ labour_type              \u001b[3m\u001b[90m<chr>\u001b[39m\u001b[23m \"employed\", \"unemployed\", \"employed\", \"une...\n",
      "$ labour_value             \u001b[3m\u001b[90m<dbl>\u001b[39m\u001b[23m 0, 834, 0, 834, 0, 834, 0, 834, 0, 834, 0,...\n",
      "$ pop_dens_km2             \u001b[3m\u001b[90m<dbl>\u001b[39m\u001b[23m 170.5, 170.5, 170.5, 170.5, 170.5, 170.5, ...\n",
      "$ seifa_value              \u001b[3m\u001b[90m<dbl>\u001b[39m\u001b[23m 964, 964, 964, 964, 964, 964, 964, 964, 96...\n",
      "$ num_service              \u001b[3m\u001b[90m<dbl>\u001b[39m\u001b[23m 1769, 1769, 1769, 1769, 1769, 1769, 1769, ...\n",
      "$ cluster                  \u001b[3m\u001b[90m<dbl>\u001b[39m\u001b[23m 1, 1, 1, 1, 1, 1, 1, 1, 1, 1, 1, 1, 1, 1, ...\n"
     ]
    }
   ],
   "source": [
    "data %<>%\n",
    "    inner_join(clusters, by = \"lga\")\n",
    "\n",
    "head(data)\n",
    "glimpse(data)"
   ]
  },
  {
   "cell_type": "markdown",
   "metadata": {},
   "source": [
    "# Cluster Distribution"
   ]
  },
  {
   "cell_type": "code",
   "execution_count": 160,
   "metadata": {},
   "outputs": [
    {
     "data": {
      "text/html": [
       "5"
      ],
      "text/latex": [
       "5"
      ],
      "text/markdown": [
       "5"
      ],
      "text/plain": [
       "[1] 5"
      ]
     },
     "metadata": {},
     "output_type": "display_data"
    }
   ],
   "source": [
    "dim(table(clusters$cluster))"
   ]
  },
  {
   "cell_type": "code",
   "execution_count": 161,
   "metadata": {},
   "outputs": [
    {
     "data": {
      "text/html": [
       "<table>\n",
       "<thead><tr><th scope=col>cluster</th><th scope=col>count</th></tr></thead>\n",
       "<tbody>\n",
       "\t<tr><td>1 </td><td>10</td></tr>\n",
       "\t<tr><td>2 </td><td>16</td></tr>\n",
       "\t<tr><td>3 </td><td>42</td></tr>\n",
       "\t<tr><td>4 </td><td>28</td></tr>\n",
       "\t<tr><td>5 </td><td> 9</td></tr>\n",
       "</tbody>\n",
       "</table>\n"
      ],
      "text/latex": [
       "\\begin{tabular}{r|ll}\n",
       " cluster & count\\\\\n",
       "\\hline\n",
       "\t 1  & 10\\\\\n",
       "\t 2  & 16\\\\\n",
       "\t 3  & 42\\\\\n",
       "\t 4  & 28\\\\\n",
       "\t 5  &  9\\\\\n",
       "\\end{tabular}\n"
      ],
      "text/markdown": [
       "\n",
       "| cluster | count |\n",
       "|---|---|\n",
       "| 1  | 10 |\n",
       "| 2  | 16 |\n",
       "| 3  | 42 |\n",
       "| 4  | 28 |\n",
       "| 5  |  9 |\n",
       "\n"
      ],
      "text/plain": [
       "  cluster count\n",
       "1 1       10   \n",
       "2 2       16   \n",
       "3 3       42   \n",
       "4 4       28   \n",
       "5 5        9   "
      ]
     },
     "metadata": {},
     "output_type": "display_data"
    }
   ],
   "source": [
    "cluster_count <- tibble(cluster = seq(1, dim(table(clusters$cluster))), count = table(clusters$cluster))\n",
    "cluster_count"
   ]
  },
  {
   "cell_type": "code",
   "execution_count": 168,
   "metadata": {},
   "outputs": [
    {
     "name": "stderr",
     "output_type": "stream",
     "text": [
      "Don't know how to automatically pick scale for object of type table. Defaulting to continuous.\n",
      "Saving 6.67 x 6.67 in image\n",
      "Don't know how to automatically pick scale for object of type table. Defaulting to continuous.\n",
      "Saving 6.67 x 6.67 in image\n",
      "Don't know how to automatically pick scale for object of type table. Defaulting to continuous.\n"
     ]
    },
    {
     "data": {
      "image/png": "[encoded data removed]",
      "text/plain": [
       "plot without title"
      ]
     },
     "metadata": {},
     "output_type": "display_data"
    }
   ],
   "source": [
    "title = \"Cluster Count\"\n",
    "filename = paste(chart_dir, \"cluster_count\", sep = \"/\")\n",
    "\n",
    "ggplot(cluster_count, aes(x = cluster, y = count)) +\n",
    "    geom_bar(stat = \"identity\") + \n",
    "    ggtitle(title) +\n",
    "    my_theme() +\n",
    "    theme(axis.text.x = element_text(angle = 0, vjust = 0.5, hjust = 1))\n",
    "\n",
    "ggsave(filename = paste(filename, \".svg\", sep = \"\"))\n",
    "ggsave(filename = paste(filename, \".png\", sep = \"\"))"
   ]
  },
  {
   "cell_type": "code",
   "execution_count": 163,
   "metadata": {},
   "outputs": [
    {
     "data": {
      "text/html": [
       "3"
      ],
      "text/latex": [
       "3"
      ],
      "text/markdown": [
       "3"
      ],
      "text/plain": [
       "[1] 3"
      ]
     },
     "metadata": {},
     "output_type": "display_data"
    }
   ],
   "source": [
    "clusters %>%\n",
    "    filter(lga == \"ku-ring-gai\") %>%\n",
    "    pull(cluster)"
   ]
  },
  {
   "cell_type": "markdown",
   "metadata": {},
   "source": [
    "**Ku-ring-gai** belongs to cluster three, which is the most numerous, at 42 counts."
   ]
  },
  {
   "cell_type": "markdown",
   "metadata": {},
   "source": [
    "# Ku-ring-gai Cluster"
   ]
  },
  {
   "cell_type": "code",
   "execution_count": 169,
   "metadata": {},
   "outputs": [
    {
     "data": {
      "text/html": [
       "<table>\n",
       "<thead><tr><th scope=col>lga</th><th scope=col>crime_tot_per_lga</th><th scope=col>crime_rate_per_lga</th><th scope=col>sex</th><th scope=col>age</th><th scope=col>pop_age_lga</th><th scope=col>pop_total</th><th scope=col>birthplace_of_person</th><th scope=col>birth_value</th><th scope=col>industry of employment</th><th scope=col>emp_value</th><th scope=col>labour_type</th><th scope=col>labour_value</th><th scope=col>pop_dens_km2</th><th scope=col>seifa_value</th><th scope=col>num_service</th><th scope=col>cluster</th></tr></thead>\n",
       "<tbody>\n",
       "\t<tr><td>blacktown                        </td><td>45643                            </td><td>0.1354464                        </td><td>Females                          </td><td>85 and over                      </td><td>2306                             </td><td>336982                           </td><td>New Zealand                      </td><td>35171                            </td><td>Agriculture, Forestry and Fishing</td><td>0                                </td><td>employed                         </td><td>  14                             </td><td>1449.8                           </td><td>995                              </td><td>248915                           </td><td>3                                </td></tr>\n",
       "\t<tr><td>blacktown                        </td><td>45643                            </td><td>0.1354464                        </td><td>Females                          </td><td>85 and over                      </td><td>2306                             </td><td>336982                           </td><td>New Zealand                      </td><td>35171                            </td><td>Agriculture, Forestry and Fishing</td><td>0                                </td><td>unemployed                       </td><td>2289                             </td><td>1449.8                           </td><td>995                              </td><td>248915                           </td><td>3                                </td></tr>\n",
       "\t<tr><td>blacktown                        </td><td>45643                            </td><td>0.1354464                        </td><td>Females                          </td><td>85 and over                      </td><td>2306                             </td><td>336982                           </td><td>New Zealand                      </td><td>35171                            </td><td>Mining                           </td><td>0                                </td><td>employed                         </td><td>  14                             </td><td>1449.8                           </td><td>995                              </td><td>248915                           </td><td>3                                </td></tr>\n",
       "\t<tr><td>blacktown                        </td><td>45643                            </td><td>0.1354464                        </td><td>Females                          </td><td>85 and over                      </td><td>2306                             </td><td>336982                           </td><td>New Zealand                      </td><td>35171                            </td><td>Mining                           </td><td>0                                </td><td>unemployed                       </td><td>2289                             </td><td>1449.8                           </td><td>995                              </td><td>248915                           </td><td>3                                </td></tr>\n",
       "\t<tr><td>blacktown                        </td><td>45643                            </td><td>0.1354464                        </td><td>Females                          </td><td>85 and over                      </td><td>2306                             </td><td>336982                           </td><td>New Zealand                      </td><td>35171                            </td><td>Manufacturing                    </td><td>0                                </td><td>employed                         </td><td>  14                             </td><td>1449.8                           </td><td>995                              </td><td>248915                           </td><td>3                                </td></tr>\n",
       "\t<tr><td>blacktown                        </td><td>45643                            </td><td>0.1354464                        </td><td>Females                          </td><td>85 and over                      </td><td>2306                             </td><td>336982                           </td><td>New Zealand                      </td><td>35171                            </td><td>Manufacturing                    </td><td>0                                </td><td>unemployed                       </td><td>2289                             </td><td>1449.8                           </td><td>995                              </td><td>248915                           </td><td>3                                </td></tr>\n",
       "</tbody>\n",
       "</table>\n"
      ],
      "text/latex": [
       "\\begin{tabular}{r|lllllllllllllllll}\n",
       " lga & crime\\_tot\\_per\\_lga & crime\\_rate\\_per\\_lga & sex & age & pop\\_age\\_lga & pop\\_total & birthplace\\_of\\_person & birth\\_value & industry of employment & emp\\_value & labour\\_type & labour\\_value & pop\\_dens\\_km2 & seifa\\_value & num\\_service & cluster\\\\\n",
       "\\hline\n",
       "\t blacktown                         & 45643                             & 0.1354464                         & Females                           & 85 and over                       & 2306                              & 336982                            & New Zealand                       & 35171                             & Agriculture, Forestry and Fishing & 0                                 & employed                          &   14                              & 1449.8                            & 995                               & 248915                            & 3                                \\\\\n",
       "\t blacktown                         & 45643                             & 0.1354464                         & Females                           & 85 and over                       & 2306                              & 336982                            & New Zealand                       & 35171                             & Agriculture, Forestry and Fishing & 0                                 & unemployed                        & 2289                              & 1449.8                            & 995                               & 248915                            & 3                                \\\\\n",
       "\t blacktown                         & 45643                             & 0.1354464                         & Females                           & 85 and over                       & 2306                              & 336982                            & New Zealand                       & 35171                             & Mining                            & 0                                 & employed                          &   14                              & 1449.8                            & 995                               & 248915                            & 3                                \\\\\n",
       "\t blacktown                         & 45643                             & 0.1354464                         & Females                           & 85 and over                       & 2306                              & 336982                            & New Zealand                       & 35171                             & Mining                            & 0                                 & unemployed                        & 2289                              & 1449.8                            & 995                               & 248915                            & 3                                \\\\\n",
       "\t blacktown                         & 45643                             & 0.1354464                         & Females                           & 85 and over                       & 2306                              & 336982                            & New Zealand                       & 35171                             & Manufacturing                     & 0                                 & employed                          &   14                              & 1449.8                            & 995                               & 248915                            & 3                                \\\\\n",
       "\t blacktown                         & 45643                             & 0.1354464                         & Females                           & 85 and over                       & 2306                              & 336982                            & New Zealand                       & 35171                             & Manufacturing                     & 0                                 & unemployed                        & 2289                              & 1449.8                            & 995                               & 248915                            & 3                                \\\\\n",
       "\\end{tabular}\n"
      ],
      "text/markdown": [
       "\n",
       "| lga | crime_tot_per_lga | crime_rate_per_lga | sex | age | pop_age_lga | pop_total | birthplace_of_person | birth_value | industry of employment | emp_value | labour_type | labour_value | pop_dens_km2 | seifa_value | num_service | cluster |\n",
       "|---|---|---|---|---|---|---|---|---|---|---|---|---|---|---|---|---|\n",
       "| blacktown                         | 45643                             | 0.1354464                         | Females                           | 85 and over                       | 2306                              | 336982                            | New Zealand                       | 35171                             | Agriculture, Forestry and Fishing | 0                                 | employed                          |   14                              | 1449.8                            | 995                               | 248915                            | 3                                 |\n",
       "| blacktown                         | 45643                             | 0.1354464                         | Females                           | 85 and over                       | 2306                              | 336982                            | New Zealand                       | 35171                             | Agriculture, Forestry and Fishing | 0                                 | unemployed                        | 2289                              | 1449.8                            | 995                               | 248915                            | 3                                 |\n",
       "| blacktown                         | 45643                             | 0.1354464                         | Females                           | 85 and over                       | 2306                              | 336982                            | New Zealand                       | 35171                             | Mining                            | 0                                 | employed                          |   14                              | 1449.8                            | 995                               | 248915                            | 3                                 |\n",
       "| blacktown                         | 45643                             | 0.1354464                         | Females                           | 85 and over                       | 2306                              | 336982                            | New Zealand                       | 35171                             | Mining                            | 0                                 | unemployed                        | 2289                              | 1449.8                            | 995                               | 248915                            | 3                                 |\n",
       "| blacktown                         | 45643                             | 0.1354464                         | Females                           | 85 and over                       | 2306                              | 336982                            | New Zealand                       | 35171                             | Manufacturing                     | 0                                 | employed                          |   14                              | 1449.8                            | 995                               | 248915                            | 3                                 |\n",
       "| blacktown                         | 45643                             | 0.1354464                         | Females                           | 85 and over                       | 2306                              | 336982                            | New Zealand                       | 35171                             | Manufacturing                     | 0                                 | unemployed                        | 2289                              | 1449.8                            | 995                               | 248915                            | 3                                 |\n",
       "\n"
      ],
      "text/plain": [
       "  lga       crime_tot_per_lga crime_rate_per_lga sex     age        \n",
       "1 blacktown 45643             0.1354464          Females 85 and over\n",
       "2 blacktown 45643             0.1354464          Females 85 and over\n",
       "3 blacktown 45643             0.1354464          Females 85 and over\n",
       "4 blacktown 45643             0.1354464          Females 85 and over\n",
       "5 blacktown 45643             0.1354464          Females 85 and over\n",
       "6 blacktown 45643             0.1354464          Females 85 and over\n",
       "  pop_age_lga pop_total birthplace_of_person birth_value\n",
       "1 2306        336982    New Zealand          35171      \n",
       "2 2306        336982    New Zealand          35171      \n",
       "3 2306        336982    New Zealand          35171      \n",
       "4 2306        336982    New Zealand          35171      \n",
       "5 2306        336982    New Zealand          35171      \n",
       "6 2306        336982    New Zealand          35171      \n",
       "  industry of employment            emp_value labour_type labour_value\n",
       "1 Agriculture, Forestry and Fishing 0         employed      14        \n",
       "2 Agriculture, Forestry and Fishing 0         unemployed  2289        \n",
       "3 Mining                            0         employed      14        \n",
       "4 Mining                            0         unemployed  2289        \n",
       "5 Manufacturing                     0         employed      14        \n",
       "6 Manufacturing                     0         unemployed  2289        \n",
       "  pop_dens_km2 seifa_value num_service cluster\n",
       "1 1449.8       995         248915      3      \n",
       "2 1449.8       995         248915      3      \n",
       "3 1449.8       995         248915      3      \n",
       "4 1449.8       995         248915      3      \n",
       "5 1449.8       995         248915      3      \n",
       "6 1449.8       995         248915      3      "
      ]
     },
     "metadata": {},
     "output_type": "display_data"
    },
    {
     "name": "stdout",
     "output_type": "stream",
     "text": [
      "Observations: 6,861,600\n",
      "Variables: 17\n",
      "$ lga                      \u001b[3m\u001b[90m<chr>\u001b[39m\u001b[23m \"blacktown\", \"blacktown\", \"blacktown\", \"bl...\n",
      "$ crime_tot_per_lga        \u001b[3m\u001b[90m<dbl>\u001b[39m\u001b[23m 45643, 45643, 45643, 45643, 45643, 45643, ...\n",
      "$ crime_rate_per_lga       \u001b[3m\u001b[90m<dbl>\u001b[39m\u001b[23m 0.1354464, 0.1354464, 0.1354464, 0.1354464...\n",
      "$ sex                      \u001b[3m\u001b[90m<chr>\u001b[39m\u001b[23m \"Females\", \"Females\", \"Females\", \"Females\"...\n",
      "$ age                      \u001b[3m\u001b[90m<chr>\u001b[39m\u001b[23m \"85 and over\", \"85 and over\", \"85 and over...\n",
      "$ pop_age_lga              \u001b[3m\u001b[90m<dbl>\u001b[39m\u001b[23m 2306, 2306, 2306, 2306, 2306, 2306, 2306, ...\n",
      "$ pop_total                \u001b[3m\u001b[90m<dbl>\u001b[39m\u001b[23m 336982, 336982, 336982, 336982, 336982, 33...\n",
      "$ birthplace_of_person     \u001b[3m\u001b[90m<chr>\u001b[39m\u001b[23m \"New Zealand\", \"New Zealand\", \"New Zealand...\n",
      "$ birth_value              \u001b[3m\u001b[90m<dbl>\u001b[39m\u001b[23m 35171, 35171, 35171, 35171, 35171, 35171, ...\n",
      "$ `industry of employment` \u001b[3m\u001b[90m<chr>\u001b[39m\u001b[23m \"Agriculture, Forestry and Fishing\", \"Agri...\n",
      "$ emp_value                \u001b[3m\u001b[90m<dbl>\u001b[39m\u001b[23m 0, 0, 0, 0, 0, 0, 0, 0, 0, 0, 0, 0, 0, 0, ...\n",
      "$ labour_type              \u001b[3m\u001b[90m<chr>\u001b[39m\u001b[23m \"employed\", \"unemployed\", \"employed\", \"une...\n",
      "$ labour_value             \u001b[3m\u001b[90m<dbl>\u001b[39m\u001b[23m 14, 2289, 14, 2289, 14, 2289, 14, 2289, 14...\n",
      "$ pop_dens_km2             \u001b[3m\u001b[90m<dbl>\u001b[39m\u001b[23m 1449.8, 1449.8, 1449.8, 1449.8, 1449.8, 14...\n",
      "$ seifa_value              \u001b[3m\u001b[90m<dbl>\u001b[39m\u001b[23m 995, 995, 995, 995, 995, 995, 995, 995, 99...\n",
      "$ num_service              \u001b[3m\u001b[90m<dbl>\u001b[39m\u001b[23m 248915, 248915, 248915, 248915, 248915, 24...\n",
      "$ cluster                  \u001b[3m\u001b[90m<dbl>\u001b[39m\u001b[23m 3, 3, 3, 3, 3, 3, 3, 3, 3, 3, 3, 3, 3, 3, ...\n"
     ]
    }
   ],
   "source": [
    "cluster <- 3\n",
    "kuringgai_cluster <- data %>%\n",
    "    filter(cluster == !!cluster)\n",
    "\n",
    "head(kuringgai_cluster)\n",
    "glimpse(kuringgai_cluster)"
   ]
  },
  {
   "cell_type": "markdown",
   "metadata": {},
   "source": [
    "## Population Density Distribution in the Ku-ring-gai Cluster"
   ]
  },
  {
   "cell_type": "code",
   "execution_count": 171,
   "metadata": {},
   "outputs": [
    {
     "name": "stderr",
     "output_type": "stream",
     "text": [
      "Saving 6.67 x 6.67 in image\n",
      "Saving 6.67 x 6.67 in image\n"
     ]
    },
    {
     "data": {
      "image/png": "[encoded data removed]",
      "text/plain": [
       "plot without title"
      ]
     },
     "metadata": {},
     "output_type": "display_data"
    }
   ],
   "source": [
    "title = paste(\"Population Density: Cluster \", cluster, sep = \"\")\n",
    "type = \"bar\"\n",
    "x_lab = \"LGA\"\n",
    "y_lab = \"Density (per km squared)\"\n",
    "x_var = \"lga\"\n",
    "y_var = \"pop_dens_km2\"\n",
    "\n",
    "filename = paste(type, y_var, \"vs\", x_var, \"cluster\", cluster, sep = \"_\")\n",
    "\n",
    "kuringgai_cluster %>%\n",
    "    dplyr::select(!!sym(x_var), !!sym(y_var)) %>%\n",
    "    distinct %>%\n",
    "    ggplot(aes(x = reorder(!!sym(x_var), !!sym(y_var)), y = !!sym(y_var))) + \n",
    "        geom_bar(stat = \"identity\") +\n",
    "        xlab(x_lab) +\n",
    "        ylab(y_lab) +\n",
    "        ggtitle(title) +\n",
    "        #theme(axis.text.x = element_text(angle = 90, hjust = 1))\n",
    "        coord_flip() +\n",
    "        my_theme()\n",
    "\n",
    "ggsave(paste(chart_dir, paste(filename, \".png\", sep = \"\"), sep = \"/\"))\n",
    "ggsave(paste(chart_dir, paste(filename, \".svg\", sep = \"\"), sep = \"/\"))"
   ]
  },
  {
   "cell_type": "markdown",
   "metadata": {},
   "source": [
    "There is a wide difference in the population density within the cluster."
   ]
  },
  {
   "cell_type": "markdown",
   "metadata": {},
   "source": [
    "## Transport Distribution in the Ku-ring-gai Cluster (cluster 3)"
   ]
  },
  {
   "cell_type": "code",
   "execution_count": 172,
   "metadata": {},
   "outputs": [
    {
     "name": "stderr",
     "output_type": "stream",
     "text": [
      "Saving 6.67 x 6.67 in image\n",
      "Saving 6.67 x 6.67 in image\n"
     ]
    },
    {
     "data": {
      "image/png": "[encoded data removed]",
      "text/plain": [
       "plot without title"
      ]
     },
     "metadata": {},
     "output_type": "display_data"
    }
   ],
   "source": [
    "title = paste(\"Public Transport: Cluster \", cluster, sep = \"\")\n",
    "type = \"bar\"\n",
    "x_lab = \"LGA\"\n",
    "y_lab = \"Level of Public Transportation\"\n",
    "x_var = \"lga\"\n",
    "y_var = \"num_service\"\n",
    "\n",
    "filename = paste(type, y_var, \"vs\", x_var, \"cluster\", cluster, sep = \"_\")\n",
    "\n",
    "kuringgai_cluster %>%\n",
    "    dplyr::select(!!sym(x_var), !!sym(y_var)) %>%\n",
    "    distinct %>%\n",
    "    ggplot(aes(x = reorder(!!sym(x_var), !!sym(y_var)), y = !!sym(y_var))) + \n",
    "        geom_bar(stat = \"identity\") +\n",
    "        xlab(x_lab) +\n",
    "        ylab(y_lab) +\n",
    "        ggtitle(title) +\n",
    "        #theme(axis.text.x = element_text(angle = 90, hjust = 1))\n",
    "        coord_flip() +\n",
    "        scale_y_continuous(labels = scales::comma) +\n",
    "        # to make the right x tick not get cut off\n",
    "        theme(plot.margin = margin(1, 15, 1, 1)) +\n",
    "        my_theme()\n",
    "\n",
    "ggsave(paste(chart_dir, paste(filename, \".png\", sep = \"\"), sep = \"/\"))\n",
    "ggsave(paste(chart_dir, paste(filename, \".svg\", sep = \"\"), sep = \"/\"))"
   ]
  },
  {
   "cell_type": "markdown",
   "metadata": {},
   "source": [
    "## SEIFA Distribution in the Ku-ring-gai Cluster"
   ]
  },
  {
   "cell_type": "code",
   "execution_count": 173,
   "metadata": {},
   "outputs": [
    {
     "name": "stderr",
     "output_type": "stream",
     "text": [
      "Saving 6.67 x 6.67 in image\n",
      "Saving 6.67 x 6.67 in image\n"
     ]
    },
    {
     "data": {
      "image/png": "[encoded data removed]",
      "text/plain": [
       "plot without title"
      ]
     },
     "metadata": {},
     "output_type": "display_data"
    }
   ],
   "source": [
    "title = paste(\"SEIFA: Cluster \", cluster, sep = \"\")\n",
    "type = \"bar\"\n",
    "x_lab = \"LGA\"\n",
    "y_lab = \"SEIFA\"\n",
    "x_var = \"lga\"\n",
    "y_var = \"seifa_value\"\n",
    "\n",
    "filename = paste(type, y_var, \"vs\", x_var, \"cluster\", cluster, sep = \"_\")\n",
    "\n",
    "kuringgai_cluster %>%\n",
    "    dplyr::select(!!sym(x_var), !!sym(y_var)) %>%\n",
    "    distinct %>%\n",
    "    ggplot(aes(x = reorder(!!sym(x_var), !!sym(y_var)), y = !!sym(y_var))) + \n",
    "        geom_bar(stat = \"identity\") +\n",
    "        xlab(x_lab) +\n",
    "        ylab(y_lab) +\n",
    "        ggtitle(title) +\n",
    "        #theme(axis.text.x = element_text(angle = 90, hjust = 1))\n",
    "        coord_flip() +\n",
    "        scale_y_continuous(labels = scales::comma) +\n",
    "        # to make the right x tick not get cut off\n",
    "        theme(plot.margin = margin(1, 15, 1, 1)) +\n",
    "        my_theme()\n",
    "\n",
    "ggsave(paste(chart_dir, paste(filename, \".png\", sep = \"\"), sep = \"/\"))\n",
    "ggsave(paste(chart_dir, paste(filename, \".svg\", sep = \"\"), sep = \"/\"))"
   ]
  },
  {
   "cell_type": "markdown",
   "metadata": {},
   "source": [
    "# Cluster 4"
   ]
  },
  {
   "cell_type": "code",
   "execution_count": 174,
   "metadata": {},
   "outputs": [
    {
     "data": {
      "text/html": [
       "<table>\n",
       "<thead><tr><th scope=col>lga</th><th scope=col>crime_tot_per_lga</th><th scope=col>crime_rate_per_lga</th><th scope=col>sex</th><th scope=col>age</th><th scope=col>pop_age_lga</th><th scope=col>pop_total</th><th scope=col>birthplace_of_person</th><th scope=col>birth_value</th><th scope=col>industry of employment</th><th scope=col>emp_value</th><th scope=col>labour_type</th><th scope=col>labour_value</th><th scope=col>pop_dens_km2</th><th scope=col>seifa_value</th><th scope=col>num_service</th><th scope=col>cluster</th></tr></thead>\n",
       "<tbody>\n",
       "\t<tr><td>balranald                        </td><td>192                              </td><td>0.08376963                       </td><td>Females                          </td><td>85 and over                      </td><td>24                               </td><td>2292                             </td><td>New Zealand                      </td><td>45                               </td><td>Agriculture, Forestry and Fishing</td><td>0                                </td><td>employed                         </td><td> 0                               </td><td>0.1                              </td><td>969                              </td><td>4                                </td><td>4                                </td></tr>\n",
       "\t<tr><td>balranald                        </td><td>192                              </td><td>0.08376963                       </td><td>Females                          </td><td>85 and over                      </td><td>24                               </td><td>2292                             </td><td>New Zealand                      </td><td>45                               </td><td>Agriculture, Forestry and Fishing</td><td>0                                </td><td>unemployed                       </td><td>21                               </td><td>0.1                              </td><td>969                              </td><td>4                                </td><td>4                                </td></tr>\n",
       "\t<tr><td>balranald                        </td><td>192                              </td><td>0.08376963                       </td><td>Females                          </td><td>85 and over                      </td><td>24                               </td><td>2292                             </td><td>New Zealand                      </td><td>45                               </td><td>Mining                           </td><td>0                                </td><td>employed                         </td><td> 0                               </td><td>0.1                              </td><td>969                              </td><td>4                                </td><td>4                                </td></tr>\n",
       "\t<tr><td>balranald                        </td><td>192                              </td><td>0.08376963                       </td><td>Females                          </td><td>85 and over                      </td><td>24                               </td><td>2292                             </td><td>New Zealand                      </td><td>45                               </td><td>Mining                           </td><td>0                                </td><td>unemployed                       </td><td>21                               </td><td>0.1                              </td><td>969                              </td><td>4                                </td><td>4                                </td></tr>\n",
       "\t<tr><td>balranald                        </td><td>192                              </td><td>0.08376963                       </td><td>Females                          </td><td>85 and over                      </td><td>24                               </td><td>2292                             </td><td>New Zealand                      </td><td>45                               </td><td>Manufacturing                    </td><td>0                                </td><td>employed                         </td><td> 0                               </td><td>0.1                              </td><td>969                              </td><td>4                                </td><td>4                                </td></tr>\n",
       "\t<tr><td>balranald                        </td><td>192                              </td><td>0.08376963                       </td><td>Females                          </td><td>85 and over                      </td><td>24                               </td><td>2292                             </td><td>New Zealand                      </td><td>45                               </td><td>Manufacturing                    </td><td>0                                </td><td>unemployed                       </td><td>21                               </td><td>0.1                              </td><td>969                              </td><td>4                                </td><td>4                                </td></tr>\n",
       "</tbody>\n",
       "</table>\n"
      ],
      "text/latex": [
       "\\begin{tabular}{r|lllllllllllllllll}\n",
       " lga & crime\\_tot\\_per\\_lga & crime\\_rate\\_per\\_lga & sex & age & pop\\_age\\_lga & pop\\_total & birthplace\\_of\\_person & birth\\_value & industry of employment & emp\\_value & labour\\_type & labour\\_value & pop\\_dens\\_km2 & seifa\\_value & num\\_service & cluster\\\\\n",
       "\\hline\n",
       "\t balranald                         & 192                               & 0.08376963                        & Females                           & 85 and over                       & 24                                & 2292                              & New Zealand                       & 45                                & Agriculture, Forestry and Fishing & 0                                 & employed                          &  0                                & 0.1                               & 969                               & 4                                 & 4                                \\\\\n",
       "\t balranald                         & 192                               & 0.08376963                        & Females                           & 85 and over                       & 24                                & 2292                              & New Zealand                       & 45                                & Agriculture, Forestry and Fishing & 0                                 & unemployed                        & 21                                & 0.1                               & 969                               & 4                                 & 4                                \\\\\n",
       "\t balranald                         & 192                               & 0.08376963                        & Females                           & 85 and over                       & 24                                & 2292                              & New Zealand                       & 45                                & Mining                            & 0                                 & employed                          &  0                                & 0.1                               & 969                               & 4                                 & 4                                \\\\\n",
       "\t balranald                         & 192                               & 0.08376963                        & Females                           & 85 and over                       & 24                                & 2292                              & New Zealand                       & 45                                & Mining                            & 0                                 & unemployed                        & 21                                & 0.1                               & 969                               & 4                                 & 4                                \\\\\n",
       "\t balranald                         & 192                               & 0.08376963                        & Females                           & 85 and over                       & 24                                & 2292                              & New Zealand                       & 45                                & Manufacturing                     & 0                                 & employed                          &  0                                & 0.1                               & 969                               & 4                                 & 4                                \\\\\n",
       "\t balranald                         & 192                               & 0.08376963                        & Females                           & 85 and over                       & 24                                & 2292                              & New Zealand                       & 45                                & Manufacturing                     & 0                                 & unemployed                        & 21                                & 0.1                               & 969                               & 4                                 & 4                                \\\\\n",
       "\\end{tabular}\n"
      ],
      "text/markdown": [
       "\n",
       "| lga | crime_tot_per_lga | crime_rate_per_lga | sex | age | pop_age_lga | pop_total | birthplace_of_person | birth_value | industry of employment | emp_value | labour_type | labour_value | pop_dens_km2 | seifa_value | num_service | cluster |\n",
       "|---|---|---|---|---|---|---|---|---|---|---|---|---|---|---|---|---|\n",
       "| balranald                         | 192                               | 0.08376963                        | Females                           | 85 and over                       | 24                                | 2292                              | New Zealand                       | 45                                | Agriculture, Forestry and Fishing | 0                                 | employed                          |  0                                | 0.1                               | 969                               | 4                                 | 4                                 |\n",
       "| balranald                         | 192                               | 0.08376963                        | Females                           | 85 and over                       | 24                                | 2292                              | New Zealand                       | 45                                | Agriculture, Forestry and Fishing | 0                                 | unemployed                        | 21                                | 0.1                               | 969                               | 4                                 | 4                                 |\n",
       "| balranald                         | 192                               | 0.08376963                        | Females                           | 85 and over                       | 24                                | 2292                              | New Zealand                       | 45                                | Mining                            | 0                                 | employed                          |  0                                | 0.1                               | 969                               | 4                                 | 4                                 |\n",
       "| balranald                         | 192                               | 0.08376963                        | Females                           | 85 and over                       | 24                                | 2292                              | New Zealand                       | 45                                | Mining                            | 0                                 | unemployed                        | 21                                | 0.1                               | 969                               | 4                                 | 4                                 |\n",
       "| balranald                         | 192                               | 0.08376963                        | Females                           | 85 and over                       | 24                                | 2292                              | New Zealand                       | 45                                | Manufacturing                     | 0                                 | employed                          |  0                                | 0.1                               | 969                               | 4                                 | 4                                 |\n",
       "| balranald                         | 192                               | 0.08376963                        | Females                           | 85 and over                       | 24                                | 2292                              | New Zealand                       | 45                                | Manufacturing                     | 0                                 | unemployed                        | 21                                | 0.1                               | 969                               | 4                                 | 4                                 |\n",
       "\n"
      ],
      "text/plain": [
       "  lga       crime_tot_per_lga crime_rate_per_lga sex     age        \n",
       "1 balranald 192               0.08376963         Females 85 and over\n",
       "2 balranald 192               0.08376963         Females 85 and over\n",
       "3 balranald 192               0.08376963         Females 85 and over\n",
       "4 balranald 192               0.08376963         Females 85 and over\n",
       "5 balranald 192               0.08376963         Females 85 and over\n",
       "6 balranald 192               0.08376963         Females 85 and over\n",
       "  pop_age_lga pop_total birthplace_of_person birth_value\n",
       "1 24          2292      New Zealand          45         \n",
       "2 24          2292      New Zealand          45         \n",
       "3 24          2292      New Zealand          45         \n",
       "4 24          2292      New Zealand          45         \n",
       "5 24          2292      New Zealand          45         \n",
       "6 24          2292      New Zealand          45         \n",
       "  industry of employment            emp_value labour_type labour_value\n",
       "1 Agriculture, Forestry and Fishing 0         employed     0          \n",
       "2 Agriculture, Forestry and Fishing 0         unemployed  21          \n",
       "3 Mining                            0         employed     0          \n",
       "4 Mining                            0         unemployed  21          \n",
       "5 Manufacturing                     0         employed     0          \n",
       "6 Manufacturing                     0         unemployed  21          \n",
       "  pop_dens_km2 seifa_value num_service cluster\n",
       "1 0.1          969         4           4      \n",
       "2 0.1          969         4           4      \n",
       "3 0.1          969         4           4      \n",
       "4 0.1          969         4           4      \n",
       "5 0.1          969         4           4      \n",
       "6 0.1          969         4           4      "
      ]
     },
     "metadata": {},
     "output_type": "display_data"
    },
    {
     "name": "stdout",
     "output_type": "stream",
     "text": [
      "Observations: 548,640\n",
      "Variables: 17\n",
      "$ lga                      \u001b[3m\u001b[90m<chr>\u001b[39m\u001b[23m \"balranald\", \"balranald\", \"balranald\", \"ba...\n",
      "$ crime_tot_per_lga        \u001b[3m\u001b[90m<dbl>\u001b[39m\u001b[23m 192, 192, 192, 192, 192, 192, 192, 192, 19...\n",
      "$ crime_rate_per_lga       \u001b[3m\u001b[90m<dbl>\u001b[39m\u001b[23m 0.08376963, 0.08376963, 0.08376963, 0.0837...\n",
      "$ sex                      \u001b[3m\u001b[90m<chr>\u001b[39m\u001b[23m \"Females\", \"Females\", \"Females\", \"Females\"...\n",
      "$ age                      \u001b[3m\u001b[90m<chr>\u001b[39m\u001b[23m \"85 and over\", \"85 and over\", \"85 and over...\n",
      "$ pop_age_lga              \u001b[3m\u001b[90m<dbl>\u001b[39m\u001b[23m 24, 24, 24, 24, 24, 24, 24, 24, 24, 24, 24...\n",
      "$ pop_total                \u001b[3m\u001b[90m<dbl>\u001b[39m\u001b[23m 2292, 2292, 2292, 2292, 2292, 2292, 2292, ...\n",
      "$ birthplace_of_person     \u001b[3m\u001b[90m<chr>\u001b[39m\u001b[23m \"New Zealand\", \"New Zealand\", \"New Zealand...\n",
      "$ birth_value              \u001b[3m\u001b[90m<dbl>\u001b[39m\u001b[23m 45, 45, 45, 45, 45, 45, 45, 45, 45, 45, 45...\n",
      "$ `industry of employment` \u001b[3m\u001b[90m<chr>\u001b[39m\u001b[23m \"Agriculture, Forestry and Fishing\", \"Agri...\n",
      "$ emp_value                \u001b[3m\u001b[90m<dbl>\u001b[39m\u001b[23m 0, 0, 0, 0, 0, 0, 0, 0, 0, 0, 0, 0, 0, 0, ...\n",
      "$ labour_type              \u001b[3m\u001b[90m<chr>\u001b[39m\u001b[23m \"employed\", \"unemployed\", \"employed\", \"une...\n",
      "$ labour_value             \u001b[3m\u001b[90m<dbl>\u001b[39m\u001b[23m 0, 21, 0, 21, 0, 21, 0, 21, 0, 21, 0, 21, ...\n",
      "$ pop_dens_km2             \u001b[3m\u001b[90m<dbl>\u001b[39m\u001b[23m 0.1, 0.1, 0.1, 0.1, 0.1, 0.1, 0.1, 0.1, 0....\n",
      "$ seifa_value              \u001b[3m\u001b[90m<dbl>\u001b[39m\u001b[23m 969, 969, 969, 969, 969, 969, 969, 969, 96...\n",
      "$ num_service              \u001b[3m\u001b[90m<dbl>\u001b[39m\u001b[23m 4, 4, 4, 4, 4, 4, 4, 4, 4, 4, 4, 4, 4, 4, ...\n",
      "$ cluster                  \u001b[3m\u001b[90m<dbl>\u001b[39m\u001b[23m 4, 4, 4, 4, 4, 4, 4, 4, 4, 4, 4, 4, 4, 4, ...\n"
     ]
    }
   ],
   "source": [
    "cluster <- 4\n",
    "cluster_4 <- data %>%\n",
    "    filter(cluster == !!cluster)\n",
    "\n",
    "head(cluster_4)\n",
    "glimpse(cluster_4)"
   ]
  },
  {
   "cell_type": "markdown",
   "metadata": {},
   "source": [
    "## Population Density Distribution in the Cluster 4"
   ]
  },
  {
   "cell_type": "code",
   "execution_count": 175,
   "metadata": {},
   "outputs": [
    {
     "name": "stderr",
     "output_type": "stream",
     "text": [
      "Saving 6.67 x 6.67 in image\n",
      "Saving 6.67 x 6.67 in image\n"
     ]
    },
    {
     "data": {
      "image/png": "[encoded data removed]",
      "text/plain": [
       "plot without title"
      ]
     },
     "metadata": {},
     "output_type": "display_data"
    }
   ],
   "source": [
    "title = paste(\"Population Density: Cluster \", cluster, sep = \"\")\n",
    "type = \"bar\"\n",
    "x_lab = \"LGA\"\n",
    "y_lab = \"Density (per km squared)\"\n",
    "x_var = \"lga\"\n",
    "y_var = \"pop_dens_km2\"\n",
    "\n",
    "filename = paste(type, y_var, \"vs\", x_var, \"cluster\", cluster, sep = \"_\")\n",
    "\n",
    "cluster_4 %>%\n",
    "    dplyr::select(!!sym(x_var), !!sym(y_var)) %>%\n",
    "    distinct %>%\n",
    "    ggplot(aes(x = reorder(!!sym(x_var), !!sym(y_var)), y = !!sym(y_var))) + \n",
    "        geom_bar(stat = \"identity\") +\n",
    "        xlab(x_lab) +\n",
    "        ylab(y_lab) +\n",
    "        ggtitle(title) +\n",
    "        #theme(axis.text.x = element_text(angle = 90, hjust = 1))\n",
    "        coord_flip() +\n",
    "        my_theme()\n",
    "\n",
    "ggsave(paste(chart_dir, paste(filename, \".png\", sep = \"\"), sep = \"/\"))\n",
    "ggsave(paste(chart_dir, paste(filename, \".svg\", sep = \"\"), sep = \"/\"))"
   ]
  },
  {
   "cell_type": "markdown",
   "metadata": {},
   "source": [
    "There is a wide difference in the population density within the cluster."
   ]
  },
  {
   "cell_type": "markdown",
   "metadata": {},
   "source": [
    "## Transport Distribution in the Cluster 4"
   ]
  },
  {
   "cell_type": "code",
   "execution_count": 176,
   "metadata": {},
   "outputs": [
    {
     "name": "stderr",
     "output_type": "stream",
     "text": [
      "Saving 6.67 x 6.67 in image\n",
      "Saving 6.67 x 6.67 in image\n"
     ]
    },
    {
     "data": {
      "image/png": "[encoded data removed]",
      "text/plain": [
       "plot without title"
      ]
     },
     "metadata": {},
     "output_type": "display_data"
    }
   ],
   "source": [
    "title = paste(\"Public Transport: Cluster \", cluster, sep = \"\")\n",
    "type = \"bar\"\n",
    "x_lab = \"LGA\"\n",
    "y_lab = \"Level of Public Transportation\"\n",
    "x_var = \"lga\"\n",
    "y_var = \"num_service\"\n",
    "\n",
    "filename = paste(type, y_var, \"vs\", x_var, \"cluster\", cluster, sep = \"_\")\n",
    "\n",
    "cluster_4 %>%\n",
    "    dplyr::select(!!sym(x_var), !!sym(y_var)) %>%\n",
    "    distinct %>%\n",
    "    ggplot(aes(x = reorder(!!sym(x_var), !!sym(y_var)), y = !!sym(y_var))) + \n",
    "        geom_bar(stat = \"identity\") +\n",
    "        xlab(x_lab) +\n",
    "        ylab(y_lab) +\n",
    "        ggtitle(title) +\n",
    "        #theme(axis.text.x = element_text(angle = 90, hjust = 1))\n",
    "        coord_flip() +\n",
    "        scale_y_continuous(labels = scales::comma) +\n",
    "        # to make the right x tick not get cut off\n",
    "        theme(plot.margin = margin(1, 15, 1, 1))\n",
    "\n",
    "ggsave(paste(chart_dir, paste(filename, \".png\", sep = \"\"), sep = \"/\"))\n",
    "ggsave(paste(chart_dir, paste(filename, \".svg\", sep = \"\"), sep = \"/\"))"
   ]
  },
  {
   "cell_type": "markdown",
   "metadata": {},
   "source": [
    "## SEIFA Distribution in the Cluster 4"
   ]
  },
  {
   "cell_type": "code",
   "execution_count": 177,
   "metadata": {},
   "outputs": [
    {
     "name": "stderr",
     "output_type": "stream",
     "text": [
      "Saving 6.67 x 6.67 in image\n",
      "Saving 6.67 x 6.67 in image\n"
     ]
    },
    {
     "data": {
      "image/png": "[encoded data removed]",
      "text/plain": [
       "plot without title"
      ]
     },
     "metadata": {},
     "output_type": "display_data"
    }
   ],
   "source": [
    "title = paste(\"SEIFA: Cluster \", cluster, sep = \"\")\n",
    "type = \"bar\"\n",
    "x_lab = \"LGA\"\n",
    "y_lab = \"SEIFA\"\n",
    "x_var = \"lga\"\n",
    "y_var = \"seifa_value\"\n",
    "\n",
    "filename = paste(type, y_var, \"vs\", x_var, \"cluster\", cluster, sep = \"_\")\n",
    "\n",
    "cluster_4 %>%\n",
    "    dplyr::select(!!sym(x_var), !!sym(y_var)) %>%\n",
    "    distinct %>%\n",
    "    ggplot(aes(x = reorder(!!sym(x_var), !!sym(y_var)), y = !!sym(y_var))) + \n",
    "        geom_bar(stat = \"identity\") +\n",
    "        xlab(x_lab) +\n",
    "        ylab(y_lab) +\n",
    "        ggtitle(title) +\n",
    "        #theme(axis.text.x = element_text(angle = 90, hjust = 1))\n",
    "        coord_flip() +\n",
    "        scale_y_continuous(labels = scales::comma) +\n",
    "        # to make the right x tick not get cut off\n",
    "        theme(plot.margin = margin(1, 15, 1, 1))\n",
    "\n",
    "ggsave(paste(chart_dir, paste(filename, \".png\", sep = \"\"), sep = \"/\"))\n",
    "ggsave(paste(chart_dir, paste(filename, \".svg\", sep = \"\"), sep = \"/\"))"
   ]
  },
  {
   "cell_type": "markdown",
   "metadata": {},
   "source": [
    "# Facetting by Cluster"
   ]
  },
  {
   "cell_type": "markdown",
   "metadata": {},
   "source": [
    "## Population Density For All Clusters"
   ]
  },
  {
   "cell_type": "code",
   "execution_count": 182,
   "metadata": {},
   "outputs": [
    {
     "name": "stderr",
     "output_type": "stream",
     "text": [
      "Saving 6.67 x 6.67 in image\n",
      "Saving 6.67 x 6.67 in image\n"
     ]
    },
    {
     "data": {
      "image/png": "[encoded data removed]",
      "text/plain": [
       "plot without title"
      ]
     },
     "metadata": {},
     "output_type": "display_data"
    }
   ],
   "source": [
    "title = \"Population Density\"\n",
    "type = \"facet_bar\"\n",
    "x_lab = \"LGA\"\n",
    "y_lab = \"Density (per km squared)\"\n",
    "x_var = \"lga\"\n",
    "y_var = \"pop_dens_km2\"\n",
    "\n",
    "filename = paste(type, y_var, \"vs\", x_var, \"cluster\", cluster, sep = \"_\")\n",
    "\n",
    "data %>%\n",
    "    dplyr::select(!!sym(x_var), !!sym(y_var), cluster) %>%\n",
    "    distinct %>%\n",
    "    ggplot(aes(x = reorder(!!sym(x_var), !!sym(y_var)), y = !!sym(y_var))) + \n",
    "        geom_bar(stat = \"identity\") +\n",
    "        xlab(x_lab) +\n",
    "        ylab(y_lab) +\n",
    "        ggtitle(title) +\n",
    "        #theme(axis.text.x = element_text(angle = 90, hjust = 1))\n",
    "        coord_flip() +\n",
    "        # remove the x labels\n",
    "        theme(axis.text.y = element_blank(),\n",
    "              axis.ticks.y = element_blank(),\n",
    "              axis.text.x = element_text(angle = 0, hjust = 1)) +\n",
    "        facet_wrap(cluster ~ ., nrow = n_clusters, scales = \"free\")\n",
    "        \n",
    "\n",
    "ggsave(paste(chart_dir, paste(filename, \".png\", sep = \"\"), sep = \"/\"))\n",
    "ggsave(paste(chart_dir, paste(filename, \".svg\", sep = \"\"), sep = \"/\"))"
   ]
  },
  {
   "cell_type": "markdown",
   "metadata": {},
   "source": [
    "There is a wide difference in the population density within the cluster."
   ]
  },
  {
   "cell_type": "markdown",
   "metadata": {},
   "source": [
    "## Transport Distribution For All Clusters"
   ]
  },
  {
   "cell_type": "code",
   "execution_count": 181,
   "metadata": {},
   "outputs": [
    {
     "name": "stderr",
     "output_type": "stream",
     "text": [
      "Saving 6.67 x 6.67 in image\n",
      "Saving 6.67 x 6.67 in image\n"
     ]
    },
    {
     "data": {
      "image/png": "[encoded data removed]",
      "text/plain": [
       "plot without title"
      ]
     },
     "metadata": {},
     "output_type": "display_data"
    }
   ],
   "source": [
    "title = \"Public Transport\"\n",
    "type = \"facet_bar\"\n",
    "x_lab = \"LGA\"\n",
    "y_lab = \"Level of Public Transportation\"\n",
    "x_var = \"lga\"\n",
    "y_var = \"num_service\"\n",
    "\n",
    "filename = paste(type, y_var, \"vs\", x_var, \"cluster\", cluster, sep = \"_\")\n",
    "\n",
    "data %>%\n",
    "    dplyr::select(!!sym(x_var), !!sym(y_var), cluster) %>%\n",
    "    distinct %>%\n",
    "    ggplot(aes(x = reorder(!!sym(x_var), !!sym(y_var)), y = !!sym(y_var))) + \n",
    "        geom_bar(stat = \"identity\") +\n",
    "        xlab(x_lab) +\n",
    "        ylab(y_lab) +\n",
    "        ggtitle(title) +\n",
    "        #theme(axis.text.x = element_text(angle = 90, hjust = 1))\n",
    "        coord_flip() +\n",
    "        # remove the x labels\n",
    "        theme(axis.text.y = element_blank(),\n",
    "              axis.ticks.y = element_blank(),\n",
    "              plot.margin = margin(1, 15, 1, 1)) +\n",
    "        scale_y_continuous(labels = scales::comma) +\n",
    "        facet_wrap(cluster ~ ., nrow = n_clusters, scales = \"free\")\n",
    "        \n",
    "\n",
    "ggsave(paste(chart_dir, paste(filename, \".png\", sep = \"\"), sep = \"/\"))\n",
    "ggsave(paste(chart_dir, paste(filename, \".svg\", sep = \"\"), sep = \"/\"))"
   ]
  },
  {
   "cell_type": "markdown",
   "metadata": {},
   "source": [
    "## SEIFA Distribution in the Cluster 4"
   ]
  },
  {
   "cell_type": "code",
   "execution_count": 183,
   "metadata": {},
   "outputs": [
    {
     "name": "stderr",
     "output_type": "stream",
     "text": [
      "Saving 6.67 x 6.67 in image\n",
      "Saving 6.67 x 6.67 in image\n"
     ]
    },
    {
     "data": {
      "image/png": "[encoded data removed]",
      "text/plain": [
       "plot without title"
      ]
     },
     "metadata": {},
     "output_type": "display_data"
    }
   ],
   "source": [
    "title = \"SEIFA\"\n",
    "type = \"facet_bar\"\n",
    "x_lab = \"LGA\"\n",
    "y_lab = \"SEIFA\"\n",
    "x_var = \"lga\"\n",
    "y_var = \"seifa_value\"\n",
    "\n",
    "filename = paste(type, y_var, \"vs\", x_var, \"cluster\", cluster, sep = \"_\")\n",
    "\n",
    "data %>%\n",
    "    dplyr::select(!!sym(x_var), !!sym(y_var), cluster) %>%\n",
    "    distinct %>%\n",
    "    ggplot(aes(x = reorder(!!sym(x_var), !!sym(y_var)), y = !!sym(y_var))) + \n",
    "        geom_bar(stat = \"identity\") +\n",
    "        xlab(x_lab) +\n",
    "        ylab(y_lab) +\n",
    "        ggtitle(title) +\n",
    "        #theme(axis.text.x = element_text(angle = 90, hjust = 1))\n",
    "        coord_flip() +\n",
    "        # remove the x labels\n",
    "        theme(axis.text.y = element_blank(),\n",
    "              axis.ticks.y = element_blank(),\n",
    "              plot.margin = margin(1, 15, 1, 1)) +\n",
    "        scale_y_continuous(labels = scales::comma) +\n",
    "        facet_wrap(cluster ~ ., nrow = n_clusters, scales = \"free\")\n",
    "        \n",
    "\n",
    "ggsave(paste(chart_dir, paste(filename, \".png\", sep = \"\"), sep = \"/\"))\n",
    "ggsave(paste(chart_dir, paste(filename, \".svg\", sep = \"\"), sep = \"/\"))"
   ]
  },
  {
   "cell_type": "markdown",
   "metadata": {},
   "source": [
    "# Modelling"
   ]
  },
  {
   "cell_type": "code",
   "execution_count": 184,
   "metadata": {},
   "outputs": [
    {
     "name": "stderr",
     "output_type": "stream",
     "text": [
      "Parsed with column specification:\n",
      "cols(\n",
      "  .default = col_double(),\n",
      "  LGA = \u001b[31mcol_character()\u001b[39m,\n",
      "  Age = \u001b[31mcol_character()\u001b[39m\n",
      ")\n",
      "See spec(...) for full column specifications.\n"
     ]
    },
    {
     "data": {
      "text/html": [
       "<table>\n",
       "<thead><tr><th scope=col>LGA</th><th scope=col>crime_tot_per_lga</th><th scope=col>crime_rate_per_lga</th><th scope=col>Age</th><th scope=col>pop_total</th><th scope=col>Pop_Dens_km2</th><th scope=col>seifa_value</th><th scope=col>num_service</th><th scope=col>female_lga_age</th><th scope=col>male_lga_age</th><th scope=col>...</th><th scope=col>female_lga_perc</th><th scope=col>male_lga_perc</th><th scope=col>employed_lga_age</th><th scope=col>unemployed_lga_age</th><th scope=col>employed_lga_age_perc</th><th scope=col>unemployed_lga_age_perc</th><th scope=col>employed_lga</th><th scope=col>unemployed_lga</th><th scope=col>employed_lga_perc</th><th scope=col>unemployed_lga_perc</th></tr></thead>\n",
       "<tbody>\n",
       "\t<tr><td>albury      </td><td>6233        </td><td>0.1220219   </td><td>85 and over </td><td>51081       </td><td>170.5       </td><td>964         </td><td>1769        </td><td> 845        </td><td> 489        </td><td>...         </td><td>0.4249525   </td><td>0.3869541   </td><td>   3        </td><td>1316        </td><td>5.873025e-05</td><td>0.02576300  </td><td>22913       </td><td>18546       </td><td>0.4485621   </td><td>0.3630704   </td></tr>\n",
       "\t<tr><td>albury      </td><td>6233        </td><td>0.1220219   </td><td>75 - 84     </td><td>51081       </td><td>170.5       </td><td>964         </td><td>1769        </td><td>1658        </td><td>1247        </td><td>...         </td><td>0.4249525   </td><td>0.3869541   </td><td>  90        </td><td>2832        </td><td>1.761908e-03</td><td>0.05544136  </td><td>22913       </td><td>18546       </td><td>0.4485621   </td><td>0.3630704   </td></tr>\n",
       "\t<tr><td>albury      </td><td>6233        </td><td>0.1220219   </td><td>65 - 74     </td><td>51081       </td><td>170.5       </td><td>964         </td><td>1769        </td><td>2572        </td><td>2335        </td><td>...         </td><td>0.4249525   </td><td>0.3869541   </td><td> 882        </td><td>4025        </td><td>1.726669e-02</td><td>0.07879642  </td><td>22913       </td><td>18546       </td><td>0.4485621   </td><td>0.3630704   </td></tr>\n",
       "\t<tr><td>albury      </td><td>6233        </td><td>0.1220219   </td><td>55 - 64     </td><td>51081       </td><td>170.5       </td><td>964         </td><td>1769        </td><td>3324        </td><td>3051        </td><td>...         </td><td>0.4249525   </td><td>0.3869541   </td><td>3832        </td><td>2540        </td><td>7.501811e-02</td><td>0.04972495  </td><td>22913       </td><td>18546       </td><td>0.4485621   </td><td>0.3630704   </td></tr>\n",
       "\t<tr><td>albury      </td><td>6233        </td><td>0.1220219   </td><td>45 - 54     </td><td>51081       </td><td>170.5       </td><td>964         </td><td>1769        </td><td>3331        </td><td>3169        </td><td>...         </td><td>0.4249525   </td><td>0.3869541   </td><td>4826        </td><td>1681        </td><td>9.447740e-02</td><td>0.03290852  </td><td>22913       </td><td>18546       </td><td>0.4485621   </td><td>0.3630704   </td></tr>\n",
       "\t<tr><td>albury      </td><td>6233        </td><td>0.1220219   </td><td>35 - 44     </td><td>51081       </td><td>170.5       </td><td>964         </td><td>1769        </td><td>3231        </td><td>2974        </td><td>...         </td><td>0.4249525   </td><td>0.3869541   </td><td>4619        </td><td>1580        </td><td>9.042501e-02</td><td>0.03093127  </td><td>22913       </td><td>18546       </td><td>0.4485621   </td><td>0.3630704   </td></tr>\n",
       "</tbody>\n",
       "</table>\n"
      ],
      "text/latex": [
       "\\begin{tabular}{r|llllllllllllllllllllllll}\n",
       " LGA & crime\\_tot\\_per\\_lga & crime\\_rate\\_per\\_lga & Age & pop\\_total & Pop\\_Dens\\_km2 & seifa\\_value & num\\_service & female\\_lga\\_age & male\\_lga\\_age & ... & female\\_lga\\_perc & male\\_lga\\_perc & employed\\_lga\\_age & unemployed\\_lga\\_age & employed\\_lga\\_age\\_perc & unemployed\\_lga\\_age\\_perc & employed\\_lga & unemployed\\_lga & employed\\_lga\\_perc & unemployed\\_lga\\_perc\\\\\n",
       "\\hline\n",
       "\t albury       & 6233         & 0.1220219    & 85 and over  & 51081        & 170.5        & 964          & 1769         &  845         &  489         & ...          & 0.4249525    & 0.3869541    &    3         & 1316         & 5.873025e-05 & 0.02576300   & 22913        & 18546        & 0.4485621    & 0.3630704   \\\\\n",
       "\t albury       & 6233         & 0.1220219    & 75 - 84      & 51081        & 170.5        & 964          & 1769         & 1658         & 1247         & ...          & 0.4249525    & 0.3869541    &   90         & 2832         & 1.761908e-03 & 0.05544136   & 22913        & 18546        & 0.4485621    & 0.3630704   \\\\\n",
       "\t albury       & 6233         & 0.1220219    & 65 - 74      & 51081        & 170.5        & 964          & 1769         & 2572         & 2335         & ...          & 0.4249525    & 0.3869541    &  882         & 4025         & 1.726669e-02 & 0.07879642   & 22913        & 18546        & 0.4485621    & 0.3630704   \\\\\n",
       "\t albury       & 6233         & 0.1220219    & 55 - 64      & 51081        & 170.5        & 964          & 1769         & 3324         & 3051         & ...          & 0.4249525    & 0.3869541    & 3832         & 2540         & 7.501811e-02 & 0.04972495   & 22913        & 18546        & 0.4485621    & 0.3630704   \\\\\n",
       "\t albury       & 6233         & 0.1220219    & 45 - 54      & 51081        & 170.5        & 964          & 1769         & 3331         & 3169         & ...          & 0.4249525    & 0.3869541    & 4826         & 1681         & 9.447740e-02 & 0.03290852   & 22913        & 18546        & 0.4485621    & 0.3630704   \\\\\n",
       "\t albury       & 6233         & 0.1220219    & 35 - 44      & 51081        & 170.5        & 964          & 1769         & 3231         & 2974         & ...          & 0.4249525    & 0.3869541    & 4619         & 1580         & 9.042501e-02 & 0.03093127   & 22913        & 18546        & 0.4485621    & 0.3630704   \\\\\n",
       "\\end{tabular}\n"
      ],
      "text/markdown": [
       "\n",
       "| LGA | crime_tot_per_lga | crime_rate_per_lga | Age | pop_total | Pop_Dens_km2 | seifa_value | num_service | female_lga_age | male_lga_age | ... | female_lga_perc | male_lga_perc | employed_lga_age | unemployed_lga_age | employed_lga_age_perc | unemployed_lga_age_perc | employed_lga | unemployed_lga | employed_lga_perc | unemployed_lga_perc |\n",
       "|---|---|---|---|---|---|---|---|---|---|---|---|---|---|---|---|---|---|---|---|---|\n",
       "| albury       | 6233         | 0.1220219    | 85 and over  | 51081        | 170.5        | 964          | 1769         |  845         |  489         | ...          | 0.4249525    | 0.3869541    |    3         | 1316         | 5.873025e-05 | 0.02576300   | 22913        | 18546        | 0.4485621    | 0.3630704    |\n",
       "| albury       | 6233         | 0.1220219    | 75 - 84      | 51081        | 170.5        | 964          | 1769         | 1658         | 1247         | ...          | 0.4249525    | 0.3869541    |   90         | 2832         | 1.761908e-03 | 0.05544136   | 22913        | 18546        | 0.4485621    | 0.3630704    |\n",
       "| albury       | 6233         | 0.1220219    | 65 - 74      | 51081        | 170.5        | 964          | 1769         | 2572         | 2335         | ...          | 0.4249525    | 0.3869541    |  882         | 4025         | 1.726669e-02 | 0.07879642   | 22913        | 18546        | 0.4485621    | 0.3630704    |\n",
       "| albury       | 6233         | 0.1220219    | 55 - 64      | 51081        | 170.5        | 964          | 1769         | 3324         | 3051         | ...          | 0.4249525    | 0.3869541    | 3832         | 2540         | 7.501811e-02 | 0.04972495   | 22913        | 18546        | 0.4485621    | 0.3630704    |\n",
       "| albury       | 6233         | 0.1220219    | 45 - 54      | 51081        | 170.5        | 964          | 1769         | 3331         | 3169         | ...          | 0.4249525    | 0.3869541    | 4826         | 1681         | 9.447740e-02 | 0.03290852   | 22913        | 18546        | 0.4485621    | 0.3630704    |\n",
       "| albury       | 6233         | 0.1220219    | 35 - 44      | 51081        | 170.5        | 964          | 1769         | 3231         | 2974         | ...          | 0.4249525    | 0.3869541    | 4619         | 1580         | 9.042501e-02 | 0.03093127   | 22913        | 18546        | 0.4485621    | 0.3630704    |\n",
       "\n"
      ],
      "text/plain": [
       "  LGA    crime_tot_per_lga crime_rate_per_lga Age         pop_total\n",
       "1 albury 6233              0.1220219          85 and over 51081    \n",
       "2 albury 6233              0.1220219          75 - 84     51081    \n",
       "3 albury 6233              0.1220219          65 - 74     51081    \n",
       "4 albury 6233              0.1220219          55 - 64     51081    \n",
       "5 albury 6233              0.1220219          45 - 54     51081    \n",
       "6 albury 6233              0.1220219          35 - 44     51081    \n",
       "  Pop_Dens_km2 seifa_value num_service female_lga_age male_lga_age ...\n",
       "1 170.5        964         1769         845            489         ...\n",
       "2 170.5        964         1769        1658           1247         ...\n",
       "3 170.5        964         1769        2572           2335         ...\n",
       "4 170.5        964         1769        3324           3051         ...\n",
       "5 170.5        964         1769        3331           3169         ...\n",
       "6 170.5        964         1769        3231           2974         ...\n",
       "  female_lga_perc male_lga_perc employed_lga_age unemployed_lga_age\n",
       "1 0.4249525       0.3869541        3             1316              \n",
       "2 0.4249525       0.3869541       90             2832              \n",
       "3 0.4249525       0.3869541      882             4025              \n",
       "4 0.4249525       0.3869541     3832             2540              \n",
       "5 0.4249525       0.3869541     4826             1681              \n",
       "6 0.4249525       0.3869541     4619             1580              \n",
       "  employed_lga_age_perc unemployed_lga_age_perc employed_lga unemployed_lga\n",
       "1 5.873025e-05          0.02576300              22913        18546         \n",
       "2 1.761908e-03          0.05544136              22913        18546         \n",
       "3 1.726669e-02          0.07879642              22913        18546         \n",
       "4 7.501811e-02          0.04972495              22913        18546         \n",
       "5 9.447740e-02          0.03290852              22913        18546         \n",
       "6 9.042501e-02          0.03093127              22913        18546         \n",
       "  employed_lga_perc unemployed_lga_perc\n",
       "1 0.4485621         0.3630704          \n",
       "2 0.4485621         0.3630704          \n",
       "3 0.4485621         0.3630704          \n",
       "4 0.4485621         0.3630704          \n",
       "5 0.4485621         0.3630704          \n",
       "6 0.4485621         0.3630704          "
      ]
     },
     "metadata": {},
     "output_type": "display_data"
    },
    {
     "name": "stdout",
     "output_type": "stream",
     "text": [
      "Observations: 1,125\n",
      "Variables: 24\n",
      "$ LGA                     \u001b[3m\u001b[90m<chr>\u001b[39m\u001b[23m \"albury\", \"albury\", \"albury\", \"albury\", \"al...\n",
      "$ crime_tot_per_lga       \u001b[3m\u001b[90m<dbl>\u001b[39m\u001b[23m 6233, 6233, 6233, 6233, 6233, 6233, 6233, 6...\n",
      "$ crime_rate_per_lga      \u001b[3m\u001b[90m<dbl>\u001b[39m\u001b[23m 0.12202189, 0.12202189, 0.12202189, 0.12202...\n",
      "$ Age                     \u001b[3m\u001b[90m<chr>\u001b[39m\u001b[23m \"85 and over\", \"75 - 84\", \"65 - 74\", \"55 - ...\n",
      "$ pop_total               \u001b[3m\u001b[90m<dbl>\u001b[39m\u001b[23m 51081, 51081, 51081, 51081, 51081, 51081, 5...\n",
      "$ Pop_Dens_km2            \u001b[3m\u001b[90m<dbl>\u001b[39m\u001b[23m 170.5, 170.5, 170.5, 170.5, 170.5, 170.5, 1...\n",
      "$ seifa_value             \u001b[3m\u001b[90m<dbl>\u001b[39m\u001b[23m 964, 964, 964, 964, 964, 964, 964, 964, 964...\n",
      "$ num_service             \u001b[3m\u001b[90m<dbl>\u001b[39m\u001b[23m 1769, 1769, 1769, 1769, 1769, 1769, 1769, 1...\n",
      "$ female_lga_age          \u001b[3m\u001b[90m<dbl>\u001b[39m\u001b[23m 845, 1658, 2572, 3324, 3331, 3231, 3301, 18...\n",
      "$ male_lga_age            \u001b[3m\u001b[90m<dbl>\u001b[39m\u001b[23m 489, 1247, 2335, 3051, 3169, 2974, 3195, 16...\n",
      "$ male_lga                \u001b[3m\u001b[90m<dbl>\u001b[39m\u001b[23m 19766, 19766, 19766, 19766, 19766, 19766, 1...\n",
      "$ female_lga              \u001b[3m\u001b[90m<dbl>\u001b[39m\u001b[23m 21707, 21707, 21707, 21707, 21707, 21707, 2...\n",
      "$ female_lga_age_perc     \u001b[3m\u001b[90m<dbl>\u001b[39m\u001b[23m 0.01654235, 0.03245825, 0.05035140, 0.06507...\n",
      "$ male_lga_age_perc       \u001b[3m\u001b[90m<dbl>\u001b[39m\u001b[23m 0.009573031, 0.024412208, 0.045711713, 0.05...\n",
      "$ female_lga_perc         \u001b[3m\u001b[90m<dbl>\u001b[39m\u001b[23m 0.4249525, 0.4249525, 0.4249525, 0.4249525,...\n",
      "$ male_lga_perc           \u001b[3m\u001b[90m<dbl>\u001b[39m\u001b[23m 0.3869541, 0.3869541, 0.3869541, 0.3869541,...\n",
      "$ employed_lga_age        \u001b[3m\u001b[90m<dbl>\u001b[39m\u001b[23m 3, 90, 882, 3832, 4826, 4619, 4832, 2306, 1...\n",
      "$ unemployed_lga_age      \u001b[3m\u001b[90m<dbl>\u001b[39m\u001b[23m 1316, 2832, 4025, 2540, 1681, 1580, 1665, 1...\n",
      "$ employed_lga_age_perc   \u001b[3m\u001b[90m<dbl>\u001b[39m\u001b[23m 5.873025e-05, 1.761908e-03, 1.726669e-02, 7...\n",
      "$ unemployed_lga_age_perc \u001b[3m\u001b[90m<dbl>\u001b[39m\u001b[23m 0.02576300, 0.05544136, 0.07879642, 0.04972...\n",
      "$ employed_lga            \u001b[3m\u001b[90m<dbl>\u001b[39m\u001b[23m 22913, 22913, 22913, 22913, 22913, 22913, 2...\n",
      "$ unemployed_lga          \u001b[3m\u001b[90m<dbl>\u001b[39m\u001b[23m 18546, 18546, 18546, 18546, 18546, 18546, 1...\n",
      "$ employed_lga_perc       \u001b[3m\u001b[90m<dbl>\u001b[39m\u001b[23m 0.4485621, 0.4485621, 0.4485621, 0.4485621,...\n",
      "$ unemployed_lga_perc     \u001b[3m\u001b[90m<dbl>\u001b[39m\u001b[23m 0.3630704, 0.3630704, 0.3630704, 0.3630704,...\n"
     ]
    }
   ],
   "source": [
    "data_model <- readr::read_csv(paste(data_path, \"unified4_spread.csv\", sep = \"/\"))\n",
    "\n",
    "head(data_model)\n",
    "glimpse(data_model)"
   ]
  },
  {
   "cell_type": "markdown",
   "metadata": {},
   "source": [
    "Exclude some variables for modelling."
   ]
  },
  {
   "cell_type": "code",
   "execution_count": 185,
   "metadata": {},
   "outputs": [],
   "source": [
    "names(data_model) %<>% tolower"
   ]
  },
  {
   "cell_type": "markdown",
   "metadata": {},
   "source": [
    "## Join the Cluster Data"
   ]
  },
  {
   "cell_type": "code",
   "execution_count": 186,
   "metadata": {},
   "outputs": [
    {
     "data": {
      "text/html": [
       "<table>\n",
       "<thead><tr><th scope=col>lga</th><th scope=col>crime_tot_per_lga</th><th scope=col>crime_rate_per_lga</th><th scope=col>age</th><th scope=col>pop_total</th><th scope=col>pop_dens_km2</th><th scope=col>seifa_value</th><th scope=col>num_service</th><th scope=col>female_lga_age</th><th scope=col>male_lga_age</th><th scope=col>...</th><th scope=col>male_lga_perc</th><th scope=col>employed_lga_age</th><th scope=col>unemployed_lga_age</th><th scope=col>employed_lga_age_perc</th><th scope=col>unemployed_lga_age_perc</th><th scope=col>employed_lga</th><th scope=col>unemployed_lga</th><th scope=col>employed_lga_perc</th><th scope=col>unemployed_lga_perc</th><th scope=col>cluster</th></tr></thead>\n",
       "<tbody>\n",
       "\t<tr><td>albury      </td><td>6233        </td><td>0.1220219   </td><td>85 and over </td><td>51081       </td><td>170.5       </td><td>964         </td><td>1769        </td><td> 845        </td><td> 489        </td><td>...         </td><td>0.3869541   </td><td>   3        </td><td>1316        </td><td>5.873025e-05</td><td>0.02576300  </td><td>22913       </td><td>18546       </td><td>0.4485621   </td><td>0.3630704   </td><td>1           </td></tr>\n",
       "\t<tr><td>albury      </td><td>6233        </td><td>0.1220219   </td><td>75 - 84     </td><td>51081       </td><td>170.5       </td><td>964         </td><td>1769        </td><td>1658        </td><td>1247        </td><td>...         </td><td>0.3869541   </td><td>  90        </td><td>2832        </td><td>1.761908e-03</td><td>0.05544136  </td><td>22913       </td><td>18546       </td><td>0.4485621   </td><td>0.3630704   </td><td>1           </td></tr>\n",
       "\t<tr><td>albury      </td><td>6233        </td><td>0.1220219   </td><td>65 - 74     </td><td>51081       </td><td>170.5       </td><td>964         </td><td>1769        </td><td>2572        </td><td>2335        </td><td>...         </td><td>0.3869541   </td><td> 882        </td><td>4025        </td><td>1.726669e-02</td><td>0.07879642  </td><td>22913       </td><td>18546       </td><td>0.4485621   </td><td>0.3630704   </td><td>1           </td></tr>\n",
       "\t<tr><td>albury      </td><td>6233        </td><td>0.1220219   </td><td>55 - 64     </td><td>51081       </td><td>170.5       </td><td>964         </td><td>1769        </td><td>3324        </td><td>3051        </td><td>...         </td><td>0.3869541   </td><td>3832        </td><td>2540        </td><td>7.501811e-02</td><td>0.04972495  </td><td>22913       </td><td>18546       </td><td>0.4485621   </td><td>0.3630704   </td><td>1           </td></tr>\n",
       "\t<tr><td>albury      </td><td>6233        </td><td>0.1220219   </td><td>45 - 54     </td><td>51081       </td><td>170.5       </td><td>964         </td><td>1769        </td><td>3331        </td><td>3169        </td><td>...         </td><td>0.3869541   </td><td>4826        </td><td>1681        </td><td>9.447740e-02</td><td>0.03290852  </td><td>22913       </td><td>18546       </td><td>0.4485621   </td><td>0.3630704   </td><td>1           </td></tr>\n",
       "\t<tr><td>albury      </td><td>6233        </td><td>0.1220219   </td><td>35 - 44     </td><td>51081       </td><td>170.5       </td><td>964         </td><td>1769        </td><td>3231        </td><td>2974        </td><td>...         </td><td>0.3869541   </td><td>4619        </td><td>1580        </td><td>9.042501e-02</td><td>0.03093127  </td><td>22913       </td><td>18546       </td><td>0.4485621   </td><td>0.3630704   </td><td>1           </td></tr>\n",
       "</tbody>\n",
       "</table>\n"
      ],
      "text/latex": [
       "\\begin{tabular}{r|lllllllllllllllllllllllll}\n",
       " lga & crime\\_tot\\_per\\_lga & crime\\_rate\\_per\\_lga & age & pop\\_total & pop\\_dens\\_km2 & seifa\\_value & num\\_service & female\\_lga\\_age & male\\_lga\\_age & ... & male\\_lga\\_perc & employed\\_lga\\_age & unemployed\\_lga\\_age & employed\\_lga\\_age\\_perc & unemployed\\_lga\\_age\\_perc & employed\\_lga & unemployed\\_lga & employed\\_lga\\_perc & unemployed\\_lga\\_perc & cluster\\\\\n",
       "\\hline\n",
       "\t albury       & 6233         & 0.1220219    & 85 and over  & 51081        & 170.5        & 964          & 1769         &  845         &  489         & ...          & 0.3869541    &    3         & 1316         & 5.873025e-05 & 0.02576300   & 22913        & 18546        & 0.4485621    & 0.3630704    & 1           \\\\\n",
       "\t albury       & 6233         & 0.1220219    & 75 - 84      & 51081        & 170.5        & 964          & 1769         & 1658         & 1247         & ...          & 0.3869541    &   90         & 2832         & 1.761908e-03 & 0.05544136   & 22913        & 18546        & 0.4485621    & 0.3630704    & 1           \\\\\n",
       "\t albury       & 6233         & 0.1220219    & 65 - 74      & 51081        & 170.5        & 964          & 1769         & 2572         & 2335         & ...          & 0.3869541    &  882         & 4025         & 1.726669e-02 & 0.07879642   & 22913        & 18546        & 0.4485621    & 0.3630704    & 1           \\\\\n",
       "\t albury       & 6233         & 0.1220219    & 55 - 64      & 51081        & 170.5        & 964          & 1769         & 3324         & 3051         & ...          & 0.3869541    & 3832         & 2540         & 7.501811e-02 & 0.04972495   & 22913        & 18546        & 0.4485621    & 0.3630704    & 1           \\\\\n",
       "\t albury       & 6233         & 0.1220219    & 45 - 54      & 51081        & 170.5        & 964          & 1769         & 3331         & 3169         & ...          & 0.3869541    & 4826         & 1681         & 9.447740e-02 & 0.03290852   & 22913        & 18546        & 0.4485621    & 0.3630704    & 1           \\\\\n",
       "\t albury       & 6233         & 0.1220219    & 35 - 44      & 51081        & 170.5        & 964          & 1769         & 3231         & 2974         & ...          & 0.3869541    & 4619         & 1580         & 9.042501e-02 & 0.03093127   & 22913        & 18546        & 0.4485621    & 0.3630704    & 1           \\\\\n",
       "\\end{tabular}\n"
      ],
      "text/markdown": [
       "\n",
       "| lga | crime_tot_per_lga | crime_rate_per_lga | age | pop_total | pop_dens_km2 | seifa_value | num_service | female_lga_age | male_lga_age | ... | male_lga_perc | employed_lga_age | unemployed_lga_age | employed_lga_age_perc | unemployed_lga_age_perc | employed_lga | unemployed_lga | employed_lga_perc | unemployed_lga_perc | cluster |\n",
       "|---|---|---|---|---|---|---|---|---|---|---|---|---|---|---|---|---|---|---|---|---|\n",
       "| albury       | 6233         | 0.1220219    | 85 and over  | 51081        | 170.5        | 964          | 1769         |  845         |  489         | ...          | 0.3869541    |    3         | 1316         | 5.873025e-05 | 0.02576300   | 22913        | 18546        | 0.4485621    | 0.3630704    | 1            |\n",
       "| albury       | 6233         | 0.1220219    | 75 - 84      | 51081        | 170.5        | 964          | 1769         | 1658         | 1247         | ...          | 0.3869541    |   90         | 2832         | 1.761908e-03 | 0.05544136   | 22913        | 18546        | 0.4485621    | 0.3630704    | 1            |\n",
       "| albury       | 6233         | 0.1220219    | 65 - 74      | 51081        | 170.5        | 964          | 1769         | 2572         | 2335         | ...          | 0.3869541    |  882         | 4025         | 1.726669e-02 | 0.07879642   | 22913        | 18546        | 0.4485621    | 0.3630704    | 1            |\n",
       "| albury       | 6233         | 0.1220219    | 55 - 64      | 51081        | 170.5        | 964          | 1769         | 3324         | 3051         | ...          | 0.3869541    | 3832         | 2540         | 7.501811e-02 | 0.04972495   | 22913        | 18546        | 0.4485621    | 0.3630704    | 1            |\n",
       "| albury       | 6233         | 0.1220219    | 45 - 54      | 51081        | 170.5        | 964          | 1769         | 3331         | 3169         | ...          | 0.3869541    | 4826         | 1681         | 9.447740e-02 | 0.03290852   | 22913        | 18546        | 0.4485621    | 0.3630704    | 1            |\n",
       "| albury       | 6233         | 0.1220219    | 35 - 44      | 51081        | 170.5        | 964          | 1769         | 3231         | 2974         | ...          | 0.3869541    | 4619         | 1580         | 9.042501e-02 | 0.03093127   | 22913        | 18546        | 0.4485621    | 0.3630704    | 1            |\n",
       "\n"
      ],
      "text/plain": [
       "  lga    crime_tot_per_lga crime_rate_per_lga age         pop_total\n",
       "1 albury 6233              0.1220219          85 and over 51081    \n",
       "2 albury 6233              0.1220219          75 - 84     51081    \n",
       "3 albury 6233              0.1220219          65 - 74     51081    \n",
       "4 albury 6233              0.1220219          55 - 64     51081    \n",
       "5 albury 6233              0.1220219          45 - 54     51081    \n",
       "6 albury 6233              0.1220219          35 - 44     51081    \n",
       "  pop_dens_km2 seifa_value num_service female_lga_age male_lga_age ...\n",
       "1 170.5        964         1769         845            489         ...\n",
       "2 170.5        964         1769        1658           1247         ...\n",
       "3 170.5        964         1769        2572           2335         ...\n",
       "4 170.5        964         1769        3324           3051         ...\n",
       "5 170.5        964         1769        3331           3169         ...\n",
       "6 170.5        964         1769        3231           2974         ...\n",
       "  male_lga_perc employed_lga_age unemployed_lga_age employed_lga_age_perc\n",
       "1 0.3869541        3             1316               5.873025e-05         \n",
       "2 0.3869541       90             2832               1.761908e-03         \n",
       "3 0.3869541      882             4025               1.726669e-02         \n",
       "4 0.3869541     3832             2540               7.501811e-02         \n",
       "5 0.3869541     4826             1681               9.447740e-02         \n",
       "6 0.3869541     4619             1580               9.042501e-02         \n",
       "  unemployed_lga_age_perc employed_lga unemployed_lga employed_lga_perc\n",
       "1 0.02576300              22913        18546          0.4485621        \n",
       "2 0.05544136              22913        18546          0.4485621        \n",
       "3 0.07879642              22913        18546          0.4485621        \n",
       "4 0.04972495              22913        18546          0.4485621        \n",
       "5 0.03290852              22913        18546          0.4485621        \n",
       "6 0.03093127              22913        18546          0.4485621        \n",
       "  unemployed_lga_perc cluster\n",
       "1 0.3630704           1      \n",
       "2 0.3630704           1      \n",
       "3 0.3630704           1      \n",
       "4 0.3630704           1      \n",
       "5 0.3630704           1      \n",
       "6 0.3630704           1      "
      ]
     },
     "metadata": {},
     "output_type": "display_data"
    },
    {
     "name": "stdout",
     "output_type": "stream",
     "text": [
      "Observations: 945\n",
      "Variables: 25\n",
      "$ lga                     \u001b[3m\u001b[90m<chr>\u001b[39m\u001b[23m \"albury\", \"albury\", \"albury\", \"albury\", \"al...\n",
      "$ crime_tot_per_lga       \u001b[3m\u001b[90m<dbl>\u001b[39m\u001b[23m 6233, 6233, 6233, 6233, 6233, 6233, 6233, 6...\n",
      "$ crime_rate_per_lga      \u001b[3m\u001b[90m<dbl>\u001b[39m\u001b[23m 0.12202189, 0.12202189, 0.12202189, 0.12202...\n",
      "$ age                     \u001b[3m\u001b[90m<chr>\u001b[39m\u001b[23m \"85 and over\", \"75 - 84\", \"65 - 74\", \"55 - ...\n",
      "$ pop_total               \u001b[3m\u001b[90m<dbl>\u001b[39m\u001b[23m 51081, 51081, 51081, 51081, 51081, 51081, 5...\n",
      "$ pop_dens_km2            \u001b[3m\u001b[90m<dbl>\u001b[39m\u001b[23m 170.5, 170.5, 170.5, 170.5, 170.5, 170.5, 1...\n",
      "$ seifa_value             \u001b[3m\u001b[90m<dbl>\u001b[39m\u001b[23m 964, 964, 964, 964, 964, 964, 964, 964, 964...\n",
      "$ num_service             \u001b[3m\u001b[90m<dbl>\u001b[39m\u001b[23m 1769, 1769, 1769, 1769, 1769, 1769, 1769, 1...\n",
      "$ female_lga_age          \u001b[3m\u001b[90m<dbl>\u001b[39m\u001b[23m 845, 1658, 2572, 3324, 3331, 3231, 3301, 18...\n",
      "$ male_lga_age            \u001b[3m\u001b[90m<dbl>\u001b[39m\u001b[23m 489, 1247, 2335, 3051, 3169, 2974, 3195, 16...\n",
      "$ male_lga                \u001b[3m\u001b[90m<dbl>\u001b[39m\u001b[23m 19766, 19766, 19766, 19766, 19766, 19766, 1...\n",
      "$ female_lga              \u001b[3m\u001b[90m<dbl>\u001b[39m\u001b[23m 21707, 21707, 21707, 21707, 21707, 21707, 2...\n",
      "$ female_lga_age_perc     \u001b[3m\u001b[90m<dbl>\u001b[39m\u001b[23m 0.01654235, 0.03245825, 0.05035140, 0.06507...\n",
      "$ male_lga_age_perc       \u001b[3m\u001b[90m<dbl>\u001b[39m\u001b[23m 0.009573031, 0.024412208, 0.045711713, 0.05...\n",
      "$ female_lga_perc         \u001b[3m\u001b[90m<dbl>\u001b[39m\u001b[23m 0.4249525, 0.4249525, 0.4249525, 0.4249525,...\n",
      "$ male_lga_perc           \u001b[3m\u001b[90m<dbl>\u001b[39m\u001b[23m 0.3869541, 0.3869541, 0.3869541, 0.3869541,...\n",
      "$ employed_lga_age        \u001b[3m\u001b[90m<dbl>\u001b[39m\u001b[23m 3, 90, 882, 3832, 4826, 4619, 4832, 2306, 1...\n",
      "$ unemployed_lga_age      \u001b[3m\u001b[90m<dbl>\u001b[39m\u001b[23m 1316, 2832, 4025, 2540, 1681, 1580, 1665, 1...\n",
      "$ employed_lga_age_perc   \u001b[3m\u001b[90m<dbl>\u001b[39m\u001b[23m 5.873025e-05, 1.761908e-03, 1.726669e-02, 7...\n",
      "$ unemployed_lga_age_perc \u001b[3m\u001b[90m<dbl>\u001b[39m\u001b[23m 0.02576300, 0.05544136, 0.07879642, 0.04972...\n",
      "$ employed_lga            \u001b[3m\u001b[90m<dbl>\u001b[39m\u001b[23m 22913, 22913, 22913, 22913, 22913, 22913, 2...\n",
      "$ unemployed_lga          \u001b[3m\u001b[90m<dbl>\u001b[39m\u001b[23m 18546, 18546, 18546, 18546, 18546, 18546, 1...\n",
      "$ employed_lga_perc       \u001b[3m\u001b[90m<dbl>\u001b[39m\u001b[23m 0.4485621, 0.4485621, 0.4485621, 0.4485621,...\n",
      "$ unemployed_lga_perc     \u001b[3m\u001b[90m<dbl>\u001b[39m\u001b[23m 0.3630704, 0.3630704, 0.3630704, 0.3630704,...\n",
      "$ cluster                 \u001b[3m\u001b[90m<dbl>\u001b[39m\u001b[23m 1, 1, 1, 1, 1, 1, 1, 1, 1, 1, 1, 1, 1, 1, 1...\n"
     ]
    }
   ],
   "source": [
    "data_model %<>%\n",
    "    inner_join(clusters, by = \"lga\")\n",
    "\n",
    "head(data_model)\n",
    "glimpse(data_model)"
   ]
  },
  {
   "cell_type": "code",
   "execution_count": 187,
   "metadata": {},
   "outputs": [
    {
     "data": {
      "text/html": [
       "<ol class=list-inline>\n",
       "\t<li>'age'</li>\n",
       "\t<li>'female_lga_age'</li>\n",
       "\t<li>'male_lga_age'</li>\n",
       "\t<li>'female_lga_age_perc'</li>\n",
       "\t<li>'male_lga_age_perc'</li>\n",
       "\t<li>'employed_lga_age'</li>\n",
       "\t<li>'unemployed_lga_age'</li>\n",
       "\t<li>'employed_lga_age_perc'</li>\n",
       "\t<li>'unemployed_lga_age_perc'</li>\n",
       "</ol>\n"
      ],
      "text/latex": [
       "\\begin{enumerate*}\n",
       "\\item 'age'\n",
       "\\item 'female\\_lga\\_age'\n",
       "\\item 'male\\_lga\\_age'\n",
       "\\item 'female\\_lga\\_age\\_perc'\n",
       "\\item 'male\\_lga\\_age\\_perc'\n",
       "\\item 'employed\\_lga\\_age'\n",
       "\\item 'unemployed\\_lga\\_age'\n",
       "\\item 'employed\\_lga\\_age\\_perc'\n",
       "\\item 'unemployed\\_lga\\_age\\_perc'\n",
       "\\end{enumerate*}\n"
      ],
      "text/markdown": [
       "1. 'age'\n",
       "2. 'female_lga_age'\n",
       "3. 'male_lga_age'\n",
       "4. 'female_lga_age_perc'\n",
       "5. 'male_lga_age_perc'\n",
       "6. 'employed_lga_age'\n",
       "7. 'unemployed_lga_age'\n",
       "8. 'employed_lga_age_perc'\n",
       "9. 'unemployed_lga_age_perc'\n",
       "\n",
       "\n"
      ],
      "text/plain": [
       "[1] \"age\"                     \"female_lga_age\"         \n",
       "[3] \"male_lga_age\"            \"female_lga_age_perc\"    \n",
       "[5] \"male_lga_age_perc\"       \"employed_lga_age\"       \n",
       "[7] \"unemployed_lga_age\"      \"employed_lga_age_perc\"  \n",
       "[9] \"unemployed_lga_age_perc\""
      ]
     },
     "metadata": {},
     "output_type": "display_data"
    }
   ],
   "source": [
    "columns_containing_age <- names(data_model)[grepl(\"age\", names(data_model))]\n",
    "columns_containing_age"
   ]
  },
  {
   "cell_type": "code",
   "execution_count": 188,
   "metadata": {},
   "outputs": [
    {
     "data": {
      "text/html": [
       "<table>\n",
       "<thead><tr><th scope=col>lga</th><th scope=col>crime_tot_per_lga</th><th scope=col>crime_rate_per_lga</th><th scope=col>pop_total</th><th scope=col>pop_dens_km2</th><th scope=col>seifa_value</th><th scope=col>num_service</th><th scope=col>male_lga</th><th scope=col>female_lga</th><th scope=col>female_lga_perc</th><th scope=col>male_lga_perc</th><th scope=col>employed_lga</th><th scope=col>unemployed_lga</th><th scope=col>employed_lga_perc</th><th scope=col>unemployed_lga_perc</th><th scope=col>cluster</th></tr></thead>\n",
       "<tbody>\n",
       "\t<tr><td>albury           </td><td>6233             </td><td>0.12202189       </td><td>51081            </td><td>170.5            </td><td>964              </td><td>1769             </td><td>19766            </td><td>21707            </td><td>0.4249525        </td><td>0.3869541        </td><td>22913            </td><td>18546            </td><td>0.4485621        </td><td>0.3630704        </td><td>1                </td></tr>\n",
       "\t<tr><td>ballina          </td><td>2690             </td><td>0.06439412       </td><td>41774            </td><td> 88.7            </td><td>986              </td><td>1353             </td><td>16488            </td><td>18355            </td><td>0.4393881        </td><td>0.3946953        </td><td>17483            </td><td>17354            </td><td>0.4185139        </td><td>0.4154259        </td><td>1                </td></tr>\n",
       "\t<tr><td>balranald        </td><td> 192             </td><td>0.08376963       </td><td> 2292            </td><td>  0.1            </td><td>969              </td><td>   4             </td><td>  926            </td><td>  877            </td><td>0.3826353        </td><td>0.4040140        </td><td>  990            </td><td>  807            </td><td>0.4319372        </td><td>0.3520942        </td><td>4                </td></tr>\n",
       "\t<tr><td>bathurst regional</td><td>4027             </td><td>0.09751314       </td><td>41297            </td><td> 11.1            </td><td>994              </td><td>2882             </td><td>16466            </td><td>16712            </td><td>0.4046783        </td><td>0.3987215        </td><td>18160            </td><td>14999            </td><td>0.4397414        </td><td>0.3631983        </td><td>1                </td></tr>\n",
       "\t<tr><td>bega valley      </td><td>2119             </td><td>0.06376960       </td><td>33229            </td><td>  5.4            </td><td>974              </td><td> 771             </td><td>13543            </td><td>14433            </td><td>0.4343495        </td><td>0.4075657        </td><td>13180            </td><td>14829            </td><td>0.3966415        </td><td>0.4462668        </td><td>5                </td></tr>\n",
       "\t<tr><td>bellingen        </td><td> 798             </td><td>0.06305310       </td><td>12656            </td><td>  8.1            </td><td>957              </td><td> 422             </td><td> 5018            </td><td> 5437            </td><td>0.4295986        </td><td>0.3964918        </td><td> 4871            </td><td> 5553            </td><td>0.3848767        </td><td>0.4387642        </td><td>2                </td></tr>\n",
       "</tbody>\n",
       "</table>\n"
      ],
      "text/latex": [
       "\\begin{tabular}{r|llllllllllllllll}\n",
       " lga & crime\\_tot\\_per\\_lga & crime\\_rate\\_per\\_lga & pop\\_total & pop\\_dens\\_km2 & seifa\\_value & num\\_service & male\\_lga & female\\_lga & female\\_lga\\_perc & male\\_lga\\_perc & employed\\_lga & unemployed\\_lga & employed\\_lga\\_perc & unemployed\\_lga\\_perc & cluster\\\\\n",
       "\\hline\n",
       "\t albury            & 6233              & 0.12202189        & 51081             & 170.5             & 964               & 1769              & 19766             & 21707             & 0.4249525         & 0.3869541         & 22913             & 18546             & 0.4485621         & 0.3630704         & 1                \\\\\n",
       "\t ballina           & 2690              & 0.06439412        & 41774             &  88.7             & 986               & 1353              & 16488             & 18355             & 0.4393881         & 0.3946953         & 17483             & 17354             & 0.4185139         & 0.4154259         & 1                \\\\\n",
       "\t balranald         &  192              & 0.08376963        &  2292             &   0.1             & 969               &    4              &   926             &   877             & 0.3826353         & 0.4040140         &   990             &   807             & 0.4319372         & 0.3520942         & 4                \\\\\n",
       "\t bathurst regional & 4027              & 0.09751314        & 41297             &  11.1             & 994               & 2882              & 16466             & 16712             & 0.4046783         & 0.3987215         & 18160             & 14999             & 0.4397414         & 0.3631983         & 1                \\\\\n",
       "\t bega valley       & 2119              & 0.06376960        & 33229             &   5.4             & 974               &  771              & 13543             & 14433             & 0.4343495         & 0.4075657         & 13180             & 14829             & 0.3966415         & 0.4462668         & 5                \\\\\n",
       "\t bellingen         &  798              & 0.06305310        & 12656             &   8.1             & 957               &  422              &  5018             &  5437             & 0.4295986         & 0.3964918         &  4871             &  5553             & 0.3848767         & 0.4387642         & 2                \\\\\n",
       "\\end{tabular}\n"
      ],
      "text/markdown": [
       "\n",
       "| lga | crime_tot_per_lga | crime_rate_per_lga | pop_total | pop_dens_km2 | seifa_value | num_service | male_lga | female_lga | female_lga_perc | male_lga_perc | employed_lga | unemployed_lga | employed_lga_perc | unemployed_lga_perc | cluster |\n",
       "|---|---|---|---|---|---|---|---|---|---|---|---|---|---|---|---|\n",
       "| albury            | 6233              | 0.12202189        | 51081             | 170.5             | 964               | 1769              | 19766             | 21707             | 0.4249525         | 0.3869541         | 22913             | 18546             | 0.4485621         | 0.3630704         | 1                 |\n",
       "| ballina           | 2690              | 0.06439412        | 41774             |  88.7             | 986               | 1353              | 16488             | 18355             | 0.4393881         | 0.3946953         | 17483             | 17354             | 0.4185139         | 0.4154259         | 1                 |\n",
       "| balranald         |  192              | 0.08376963        |  2292             |   0.1             | 969               |    4              |   926             |   877             | 0.3826353         | 0.4040140         |   990             |   807             | 0.4319372         | 0.3520942         | 4                 |\n",
       "| bathurst regional | 4027              | 0.09751314        | 41297             |  11.1             | 994               | 2882              | 16466             | 16712             | 0.4046783         | 0.3987215         | 18160             | 14999             | 0.4397414         | 0.3631983         | 1                 |\n",
       "| bega valley       | 2119              | 0.06376960        | 33229             |   5.4             | 974               |  771              | 13543             | 14433             | 0.4343495         | 0.4075657         | 13180             | 14829             | 0.3966415         | 0.4462668         | 5                 |\n",
       "| bellingen         |  798              | 0.06305310        | 12656             |   8.1             | 957               |  422              |  5018             |  5437             | 0.4295986         | 0.3964918         |  4871             |  5553             | 0.3848767         | 0.4387642         | 2                 |\n",
       "\n"
      ],
      "text/plain": [
       "  lga               crime_tot_per_lga crime_rate_per_lga pop_total pop_dens_km2\n",
       "1 albury            6233              0.12202189         51081     170.5       \n",
       "2 ballina           2690              0.06439412         41774      88.7       \n",
       "3 balranald          192              0.08376963          2292       0.1       \n",
       "4 bathurst regional 4027              0.09751314         41297      11.1       \n",
       "5 bega valley       2119              0.06376960         33229       5.4       \n",
       "6 bellingen          798              0.06305310         12656       8.1       \n",
       "  seifa_value num_service male_lga female_lga female_lga_perc male_lga_perc\n",
       "1 964         1769        19766    21707      0.4249525       0.3869541    \n",
       "2 986         1353        16488    18355      0.4393881       0.3946953    \n",
       "3 969            4          926      877      0.3826353       0.4040140    \n",
       "4 994         2882        16466    16712      0.4046783       0.3987215    \n",
       "5 974          771        13543    14433      0.4343495       0.4075657    \n",
       "6 957          422         5018     5437      0.4295986       0.3964918    \n",
       "  employed_lga unemployed_lga employed_lga_perc unemployed_lga_perc cluster\n",
       "1 22913        18546          0.4485621         0.3630704           1      \n",
       "2 17483        17354          0.4185139         0.4154259           1      \n",
       "3   990          807          0.4319372         0.3520942           4      \n",
       "4 18160        14999          0.4397414         0.3631983           1      \n",
       "5 13180        14829          0.3966415         0.4462668           5      \n",
       "6  4871         5553          0.3848767         0.4387642           2      "
      ]
     },
     "metadata": {},
     "output_type": "display_data"
    },
    {
     "name": "stdout",
     "output_type": "stream",
     "text": [
      "Observations: 105\n",
      "Variables: 16\n",
      "$ lga                 \u001b[3m\u001b[90m<chr>\u001b[39m\u001b[23m \"albury\", \"ballina\", \"balranald\", \"bathurst reg...\n",
      "$ crime_tot_per_lga   \u001b[3m\u001b[90m<dbl>\u001b[39m\u001b[23m 6233, 2690, 192, 4027, 2119, 798, 482, 45643, 3...\n",
      "$ crime_rate_per_lga  \u001b[3m\u001b[90m<dbl>\u001b[39m\u001b[23m 0.12202189, 0.06439412, 0.08376963, 0.09751314,...\n",
      "$ pop_total           \u001b[3m\u001b[90m<dbl>\u001b[39m\u001b[23m 51081, 41774, 2292, 41297, 33229, 12656, 8456, ...\n",
      "$ pop_dens_km2        \u001b[3m\u001b[90m<dbl>\u001b[39m\u001b[23m 170.5, 88.7, 0.1, 11.1, 5.4, 8.1, 4.2, 1449.8, ...\n",
      "$ seifa_value         \u001b[3m\u001b[90m<dbl>\u001b[39m\u001b[23m 964, 986, 969, 994, 974, 957, 965, 995, 997, 10...\n",
      "$ num_service         \u001b[3m\u001b[90m<dbl>\u001b[39m\u001b[23m 1769, 1353, 4, 2882, 771, 422, 10, 248915, 8, 2...\n",
      "$ male_lga            \u001b[3m\u001b[90m<dbl>\u001b[39m\u001b[23m 19766, 16488, 926, 16466, 13543, 5018, 3498, 12...\n",
      "$ female_lga          \u001b[3m\u001b[90m<dbl>\u001b[39m\u001b[23m 21707, 18355, 877, 16712, 14433, 5437, 3518, 13...\n",
      "$ female_lga_perc     \u001b[3m\u001b[90m<dbl>\u001b[39m\u001b[23m 0.4249525, 0.4393881, 0.3826353, 0.4046783, 0.4...\n",
      "$ male_lga_perc       \u001b[3m\u001b[90m<dbl>\u001b[39m\u001b[23m 0.3869541, 0.3946953, 0.4040140, 0.3987215, 0.4...\n",
      "$ employed_lga        \u001b[3m\u001b[90m<dbl>\u001b[39m\u001b[23m 22913, 17483, 990, 18160, 13180, 4871, 3288, 15...\n",
      "$ unemployed_lga      \u001b[3m\u001b[90m<dbl>\u001b[39m\u001b[23m 18546, 17354, 807, 14999, 14829, 5553, 3380, 10...\n",
      "$ employed_lga_perc   \u001b[3m\u001b[90m<dbl>\u001b[39m\u001b[23m 0.4485621, 0.4185139, 0.4319372, 0.4397414, 0.3...\n",
      "$ unemployed_lga_perc \u001b[3m\u001b[90m<dbl>\u001b[39m\u001b[23m 0.3630704, 0.4154259, 0.3520942, 0.3631983, 0.4...\n",
      "$ cluster             \u001b[3m\u001b[90m<dbl>\u001b[39m\u001b[23m 1, 1, 4, 1, 5, 2, 4, 3, 4, 2, 3, 4, 4, 4, 3, 5,...\n"
     ]
    }
   ],
   "source": [
    "data_model %<>%\n",
    "    dplyr::select(-columns_containing_age) %>%\n",
    "    distinct\n",
    "\n",
    "head(data_model)\n",
    "glimpse(data_model)"
   ]
  },
  {
   "cell_type": "markdown",
   "metadata": {},
   "source": [
    "# Full Set Regression"
   ]
  },
  {
   "cell_type": "code",
   "execution_count": 228,
   "metadata": {},
   "outputs": [],
   "source": [
    "data_model_2 <- data_model %>%\n",
    "    dplyr::select(-lga, -cluster)"
   ]
  },
  {
   "cell_type": "markdown",
   "metadata": {},
   "source": [
    "## Poisson Regression on the full set"
   ]
  },
  {
   "cell_type": "code",
   "execution_count": 241,
   "metadata": {},
   "outputs": [
    {
     "data": {
      "text/plain": [
       "\n",
       "Call:\n",
       "glm(formula = crime_tot_per_lga ~ ., family = poisson, data = data_model_2, \n",
       "    offset = log(pop_total))\n",
       "\n",
       "Deviance Residuals: \n",
       "     Min        1Q    Median        3Q       Max  \n",
       "-28.0915   -4.5384   -0.3036    3.6716   21.8784  \n",
       "\n",
       "Coefficients:\n",
       "                      Estimate Std. Error z value Pr(>|z|)    \n",
       "(Intercept)          2.617e+00  1.607e-01  16.291  < 2e-16 ***\n",
       "crime_rate_per_lga   5.020e+00  4.132e-02 121.511  < 2e-16 ***\n",
       "pop_total            7.054e-06  6.099e-07  11.566  < 2e-16 ***\n",
       "pop_dens_km2        -4.990e-05  1.837e-06 -27.170  < 2e-16 ***\n",
       "seifa_value         -5.629e-03  6.728e-05 -83.669  < 2e-16 ***\n",
       "num_service         -4.698e-07  6.976e-08  -6.735 1.64e-11 ***\n",
       "male_lga             2.717e-04  9.207e-06  29.510  < 2e-16 ***\n",
       "female_lga           2.513e-04  9.667e-06  25.991  < 2e-16 ***\n",
       "female_lga_perc     -1.470e+01  5.909e-01 -24.877  < 2e-16 ***\n",
       "male_lga_perc       -1.457e+01  5.847e-01 -24.926  < 2e-16 ***\n",
       "employed_lga        -2.671e-04  9.303e-06 -28.714  < 2e-16 ***\n",
       "unemployed_lga      -2.718e-04  9.367e-06 -29.016  < 2e-16 ***\n",
       "employed_lga_perc    1.579e+01  5.250e-01  30.079  < 2e-16 ***\n",
       "unemployed_lga_perc  1.352e+01  5.405e-01  25.013  < 2e-16 ***\n",
       "---\n",
       "Signif. codes:  0 '***' 0.001 '**' 0.01 '*' 0.05 '.' 0.1 ' ' 1\n",
       "\n",
       "(Dispersion parameter for poisson family taken to be 1)\n",
       "\n",
       "    Null deviance: 139260.8  on 104  degrees of freedom\n",
       "Residual deviance:   6588.4  on  91  degrees of freedom\n",
       "AIC: 7614.4\n",
       "\n",
       "Number of Fisher Scoring iterations: 4\n"
      ]
     },
     "metadata": {},
     "output_type": "display_data"
    },
    {
     "name": "stdout",
     "output_type": "stream",
     "text": [
      "[1] \"The five-percent critical value for a chi-squared with 91 degrees of freedom is 114.267867677194\"\n"
     ]
    },
    {
     "data": {
      "text/plain": [
       "\n",
       "\tOverdispersion test\n",
       "\n",
       "data:  model\n",
       "z = 5.0478, p-value = 2.235e-07\n",
       "alternative hypothesis: true dispersion is greater than 1\n",
       "sample estimates:\n",
       "dispersion \n",
       "  61.28459 \n"
      ]
     },
     "metadata": {},
     "output_type": "display_data"
    },
    {
     "data": {
      "image/png": "[encoded data removed]",
      "text/plain": [
       "plot without title"
      ]
     },
     "metadata": {},
     "output_type": "display_data"
    }
   ],
   "source": [
    "model <- glm(crime_tot_per_lga ~., \n",
    "             offset = log(pop_total), \n",
    "             family = poisson, \n",
    "             data = data_model_2)\n",
    "\n",
    "summary(model)\n",
    "# The five-percent critical value for a chi-squared with __ degrees of freedom\n",
    "print(paste(\"The five-percent critical value for a chi-squared with\", model$df.residual, \"degrees of freedom is\", qchisq(0.95, model$df.residual)))\n",
    "dispersiontest(model)\n",
    "autoplot(model)"
   ]
  },
  {
   "cell_type": "markdown",
   "metadata": {},
   "source": [
    "## Quasi-Poisson Regression on the full set"
   ]
  },
  {
   "cell_type": "code",
   "execution_count": 237,
   "metadata": {},
   "outputs": [
    {
     "data": {
      "text/plain": [
       "\n",
       "Call:\n",
       "glm(formula = crime_tot_per_lga ~ ., family = quasipoisson, data = data_model_2, \n",
       "    offset = log(pop_total))\n",
       "\n",
       "Deviance Residuals: \n",
       "     Min        1Q    Median        3Q       Max  \n",
       "-28.0915   -4.5384   -0.3036    3.6716   21.8784  \n",
       "\n",
       "Coefficients:\n",
       "                      Estimate Std. Error t value Pr(>|t|)    \n",
       "(Intercept)          2.617e+00  1.351e+00   1.937 0.055785 .  \n",
       "crime_rate_per_lga   5.020e+00  3.474e-01  14.451  < 2e-16 ***\n",
       "pop_total            7.054e-06  5.128e-06   1.376 0.172349    \n",
       "pop_dens_km2        -4.990e-05  1.544e-05  -3.231 0.001716 ** \n",
       "seifa_value         -5.629e-03  5.657e-04  -9.951 3.23e-16 ***\n",
       "num_service         -4.698e-07  5.866e-07  -0.801 0.425213    \n",
       "male_lga             2.717e-04  7.741e-05   3.510 0.000700 ***\n",
       "female_lga           2.513e-04  8.128e-05   3.091 0.002646 ** \n",
       "female_lga_perc     -1.470e+01  4.968e+00  -2.959 0.003938 ** \n",
       "male_lga_perc       -1.457e+01  4.916e+00  -2.964 0.003871 ** \n",
       "employed_lga        -2.671e-04  7.822e-05  -3.415 0.000955 ***\n",
       "unemployed_lga      -2.718e-04  7.876e-05  -3.451 0.000849 ***\n",
       "employed_lga_perc    1.579e+01  4.414e+00   3.577 0.000559 ***\n",
       "unemployed_lga_perc  1.352e+01  4.545e+00   2.975 0.003753 ** \n",
       "---\n",
       "Signif. codes:  0 '***' 0.001 '**' 0.01 '*' 0.05 '.' 0.1 ' ' 1\n",
       "\n",
       "(Dispersion parameter for quasipoisson family taken to be 70.69873)\n",
       "\n",
       "    Null deviance: 139260.8  on 104  degrees of freedom\n",
       "Residual deviance:   6588.4  on  91  degrees of freedom\n",
       "AIC: NA\n",
       "\n",
       "Number of Fisher Scoring iterations: 4\n"
      ]
     },
     "metadata": {},
     "output_type": "display_data"
    },
    {
     "name": "stdout",
     "output_type": "stream",
     "text": [
      "[1] \"The five-percent critical value for a chi-squared with 91 degrees of freedom is 114.267867677194\"\n"
     ]
    },
    {
     "data": {
      "image/png": "[encoded data removed]",
      "text/plain": [
       "plot without title"
      ]
     },
     "metadata": {},
     "output_type": "display_data"
    }
   ],
   "source": [
    "model <- glm(crime_tot_per_lga ~., \n",
    "             offset = log(pop_total), \n",
    "             family = quasipoisson, \n",
    "             data = data_model_2)\n",
    "\n",
    "summary(model)\n",
    "# The five-percent critical value for a chi-squared with __ degrees of freedom\n",
    "print(paste(\"The five-percent critical value for a chi-squared with\", model$df.residual, \"degrees of freedom is\", qchisq(0.95, model$df.residual)))\n",
    "autoplot(model)"
   ]
  },
  {
   "cell_type": "markdown",
   "metadata": {},
   "source": [
    "## Negative Binomial Regression on the full set"
   ]
  },
  {
   "cell_type": "code",
   "execution_count": 243,
   "metadata": {},
   "outputs": [
    {
     "data": {
      "text/plain": [
       "\n",
       "Call:\n",
       "glm.nb(formula = crime_tot_per_lga ~ ., data = data_model_2, \n",
       "    init.theta = 3.651906423, link = log)\n",
       "\n",
       "Deviance Residuals: \n",
       "     Min        1Q    Median        3Q       Max  \n",
       "-2.13470  -0.95454  -0.09984   0.65881   2.15874  \n",
       "\n",
       "Coefficients:\n",
       "                      Estimate Std. Error z value Pr(>|z|)    \n",
       "(Intercept)          7.942e+00  4.053e+00   1.959 0.050076 .  \n",
       "crime_rate_per_lga   4.523e+00  1.050e+00   4.307 1.66e-05 ***\n",
       "pop_total           -3.541e-05  2.685e-05  -1.319 0.187298    \n",
       "pop_dens_km2         1.585e-04  6.481e-05   2.446 0.014449 *  \n",
       "seifa_value         -9.875e-04  2.041e-03  -0.484 0.628455    \n",
       "num_service         -1.616e-05  3.571e-06  -4.525 6.04e-06 ***\n",
       "male_lga             1.011e-03  2.283e-04   4.429 9.49e-06 ***\n",
       "female_lga           6.406e-04  2.469e-04   2.594 0.009489 ** \n",
       "female_lga_perc     -2.256e+01  9.742e+00  -2.315 0.020591 *  \n",
       "male_lga_perc       -4.017e+01  9.364e+00  -4.290 1.79e-05 ***\n",
       "employed_lga        -7.321e-04  2.317e-04  -3.160 0.001577 ** \n",
       "unemployed_lga      -7.605e-04  2.311e-04  -3.291 0.000999 ***\n",
       "employed_lga_perc    3.046e+01  7.743e+00   3.933 8.38e-05 ***\n",
       "unemployed_lga_perc  3.058e+01  7.852e+00   3.895 9.81e-05 ***\n",
       "---\n",
       "Signif. codes:  0 '***' 0.001 '**' 0.01 '*' 0.05 '.' 0.1 ' ' 1\n",
       "\n",
       "(Dispersion parameter for Negative Binomial(3.6519) family taken to be 1)\n",
       "\n",
       "    Null deviance: 716.11  on 104  degrees of freedom\n",
       "Residual deviance: 109.79  on  91  degrees of freedom\n",
       "AIC: 1812\n",
       "\n",
       "Number of Fisher Scoring iterations: 1\n",
       "\n",
       "\n",
       "              Theta:  3.652 \n",
       "          Std. Err.:  0.485 \n",
       "\n",
       " 2 x log-likelihood:  -1782.006 "
      ]
     },
     "metadata": {},
     "output_type": "display_data"
    },
    {
     "name": "stdout",
     "output_type": "stream",
     "text": [
      "[1] \"The five-percent critical value for a chi-squared with 91 degrees of freedom is 114.267867677194\"\n"
     ]
    },
    {
     "data": {
      "image/png": "[encoded data removed]",
      "text/plain": [
       "plot without title"
      ]
     },
     "metadata": {},
     "output_type": "display_data"
    }
   ],
   "source": [
    "model <- glm.nb(crime_tot_per_lga ~., \n",
    "             data = data_model_2)\n",
    "\n",
    "summary(model)\n",
    "# The five-percent critical value for a chi-squared with __ degrees of freedom\n",
    "print(paste(\"The five-percent critical value for a chi-squared with\", model$df.residual, \"degrees of freedom is\", qchisq(0.95, model$df.residual)))\n",
    "autoplot(model)"
   ]
  },
  {
   "cell_type": "markdown",
   "metadata": {},
   "source": [
    "## Cluster 3 Poisson Regression"
   ]
  },
  {
   "cell_type": "code",
   "execution_count": 226,
   "metadata": {},
   "outputs": [
    {
     "data": {
      "text/html": [
       "<table>\n",
       "<thead><tr><th scope=col>crime_tot_per_lga</th><th scope=col>crime_rate_per_lga</th><th scope=col>pop_total</th><th scope=col>pop_dens_km2</th><th scope=col>seifa_value</th><th scope=col>num_service</th><th scope=col>male_lga</th><th scope=col>female_lga</th><th scope=col>female_lga_perc</th><th scope=col>male_lga_perc</th><th scope=col>employed_lga</th><th scope=col>unemployed_lga</th><th scope=col>employed_lga_perc</th><th scope=col>unemployed_lga_perc</th></tr></thead>\n",
       "<tbody>\n",
       "\t<tr><td>45643     </td><td>0.13544640</td><td>336982    </td><td>1449.8    </td><td> 995      </td><td>248915    </td><td>128178    </td><td>132137    </td><td>0.3921189 </td><td>0.3803705 </td><td>151466    </td><td>108839    </td><td>0.4494780 </td><td>0.3229816 </td></tr>\n",
       "\t<tr><td> 4872     </td><td>0.06335583</td><td> 76899    </td><td>  55.1    </td><td>1030      </td><td> 42057    </td><td> 29902    </td><td> 32932    </td><td>0.4282500 </td><td>0.3888477 </td><td> 35853    </td><td> 26993    </td><td>0.4662349 </td><td>0.3510189 </td></tr>\n",
       "\t<tr><td> 3320     </td><td>0.09016839</td><td> 36820    </td><td>5406.2    </td><td> 956      </td><td> 52222    </td><td> 15368    </td><td> 16653    </td><td>0.4522814 </td><td>0.4173819 </td><td> 17158    </td><td> 14814    </td><td>0.4659967 </td><td>0.4023357 </td></tr>\n",
       "\t<tr><td> 4039     </td><td>0.05164037</td><td> 78214    </td><td> 399.3    </td><td>1094      </td><td> 45334    </td><td> 28794    </td><td> 30722    </td><td>0.3927941 </td><td>0.3681438 </td><td> 40011    </td><td> 19494    </td><td>0.5115580 </td><td>0.2492393 </td></tr>\n",
       "\t<tr><td>25367     </td><td>0.16158972</td><td>156984    </td><td> 518.0    </td><td> 969      </td><td>114888    </td><td> 59603    </td><td> 63526    </td><td>0.4046654 </td><td>0.3796756 </td><td> 68865    </td><td> 54288    </td><td>0.4386753 </td><td>0.3458187 </td></tr>\n",
       "\t<tr><td> 5140     </td><td>0.05838852</td><td> 88031    </td><td>4644.5    </td><td>1030      </td><td> 87730    </td><td> 35071    </td><td> 38667    </td><td>0.4392430 </td><td>0.3983937 </td><td> 44680    </td><td> 29020    </td><td>0.5075485 </td><td>0.3296566 </td></tr>\n",
       "</tbody>\n",
       "</table>\n"
      ],
      "text/latex": [
       "\\begin{tabular}{r|llllllllllllll}\n",
       " crime\\_tot\\_per\\_lga & crime\\_rate\\_per\\_lga & pop\\_total & pop\\_dens\\_km2 & seifa\\_value & num\\_service & male\\_lga & female\\_lga & female\\_lga\\_perc & male\\_lga\\_perc & employed\\_lga & unemployed\\_lga & employed\\_lga\\_perc & unemployed\\_lga\\_perc\\\\\n",
       "\\hline\n",
       "\t 45643      & 0.13544640 & 336982     & 1449.8     &  995       & 248915     & 128178     & 132137     & 0.3921189  & 0.3803705  & 151466     & 108839     & 0.4494780  & 0.3229816 \\\\\n",
       "\t  4872      & 0.06335583 &  76899     &   55.1     & 1030       &  42057     &  29902     &  32932     & 0.4282500  & 0.3888477  &  35853     &  26993     & 0.4662349  & 0.3510189 \\\\\n",
       "\t  3320      & 0.09016839 &  36820     & 5406.2     &  956       &  52222     &  15368     &  16653     & 0.4522814  & 0.4173819  &  17158     &  14814     & 0.4659967  & 0.4023357 \\\\\n",
       "\t  4039      & 0.05164037 &  78214     &  399.3     & 1094       &  45334     &  28794     &  30722     & 0.3927941  & 0.3681438  &  40011     &  19494     & 0.5115580  & 0.2492393 \\\\\n",
       "\t 25367      & 0.16158972 & 156984     &  518.0     &  969       & 114888     &  59603     &  63526     & 0.4046654  & 0.3796756  &  68865     &  54288     & 0.4386753  & 0.3458187 \\\\\n",
       "\t  5140      & 0.05838852 &  88031     & 4644.5     & 1030       &  87730     &  35071     &  38667     & 0.4392430  & 0.3983937  &  44680     &  29020     & 0.5075485  & 0.3296566 \\\\\n",
       "\\end{tabular}\n"
      ],
      "text/markdown": [
       "\n",
       "| crime_tot_per_lga | crime_rate_per_lga | pop_total | pop_dens_km2 | seifa_value | num_service | male_lga | female_lga | female_lga_perc | male_lga_perc | employed_lga | unemployed_lga | employed_lga_perc | unemployed_lga_perc |\n",
       "|---|---|---|---|---|---|---|---|---|---|---|---|---|---|\n",
       "| 45643      | 0.13544640 | 336982     | 1449.8     |  995       | 248915     | 128178     | 132137     | 0.3921189  | 0.3803705  | 151466     | 108839     | 0.4494780  | 0.3229816  |\n",
       "|  4872      | 0.06335583 |  76899     |   55.1     | 1030       |  42057     |  29902     |  32932     | 0.4282500  | 0.3888477  |  35853     |  26993     | 0.4662349  | 0.3510189  |\n",
       "|  3320      | 0.09016839 |  36820     | 5406.2     |  956       |  52222     |  15368     |  16653     | 0.4522814  | 0.4173819  |  17158     |  14814     | 0.4659967  | 0.4023357  |\n",
       "|  4039      | 0.05164037 |  78214     |  399.3     | 1094       |  45334     |  28794     |  30722     | 0.3927941  | 0.3681438  |  40011     |  19494     | 0.5115580  | 0.2492393  |\n",
       "| 25367      | 0.16158972 | 156984     |  518.0     |  969       | 114888     |  59603     |  63526     | 0.4046654  | 0.3796756  |  68865     |  54288     | 0.4386753  | 0.3458187  |\n",
       "|  5140      | 0.05838852 |  88031     | 4644.5     | 1030       |  87730     |  35071     |  38667     | 0.4392430  | 0.3983937  |  44680     |  29020     | 0.5075485  | 0.3296566  |\n",
       "\n"
      ],
      "text/plain": [
       "  crime_tot_per_lga crime_rate_per_lga pop_total pop_dens_km2 seifa_value\n",
       "1 45643             0.13544640         336982    1449.8        995       \n",
       "2  4872             0.06335583          76899      55.1       1030       \n",
       "3  3320             0.09016839          36820    5406.2        956       \n",
       "4  4039             0.05164037          78214     399.3       1094       \n",
       "5 25367             0.16158972         156984     518.0        969       \n",
       "6  5140             0.05838852          88031    4644.5       1030       \n",
       "  num_service male_lga female_lga female_lga_perc male_lga_perc employed_lga\n",
       "1 248915      128178   132137     0.3921189       0.3803705     151466      \n",
       "2  42057       29902    32932     0.4282500       0.3888477      35853      \n",
       "3  52222       15368    16653     0.4522814       0.4173819      17158      \n",
       "4  45334       28794    30722     0.3927941       0.3681438      40011      \n",
       "5 114888       59603    63526     0.4046654       0.3796756      68865      \n",
       "6  87730       35071    38667     0.4392430       0.3983937      44680      \n",
       "  unemployed_lga employed_lga_perc unemployed_lga_perc\n",
       "1 108839         0.4494780         0.3229816          \n",
       "2  26993         0.4662349         0.3510189          \n",
       "3  14814         0.4659967         0.4023357          \n",
       "4  19494         0.5115580         0.2492393          \n",
       "5  54288         0.4386753         0.3458187          \n",
       "6  29020         0.5075485         0.3296566          "
      ]
     },
     "metadata": {},
     "output_type": "display_data"
    },
    {
     "name": "stdout",
     "output_type": "stream",
     "text": [
      "Observations: 42\n",
      "Variables: 14\n",
      "$ crime_tot_per_lga   \u001b[3m\u001b[90m<dbl>\u001b[39m\u001b[23m 45643, 4872, 3320, 4039, 25367, 5140, 32475, 59...\n",
      "$ crime_rate_per_lga  \u001b[3m\u001b[90m<dbl>\u001b[39m\u001b[23m 0.13544640, 0.06335583, 0.09016839, 0.05164037,...\n",
      "$ pop_total           \u001b[3m\u001b[90m<dbl>\u001b[39m\u001b[23m 336982, 76899, 36820, 78214, 156984, 88031, 327...\n",
      "$ pop_dens_km2        \u001b[3m\u001b[90m<dbl>\u001b[39m\u001b[23m 1449.8, 55.1, 5406.2, 399.3, 518.0, 4644.5, 200...\n",
      "$ seifa_value         \u001b[3m\u001b[90m<dbl>\u001b[39m\u001b[23m 995, 1030, 956, 1094, 969, 1030, 969, 972, 945,...\n",
      "$ num_service         \u001b[3m\u001b[90m<dbl>\u001b[39m\u001b[23m 248915, 42057, 52222, 45334, 114888, 87730, 198...\n",
      "$ male_lga            \u001b[3m\u001b[90m<dbl>\u001b[39m\u001b[23m 128178, 29902, 15368, 28794, 59603, 35071, 1276...\n",
      "$ female_lga          \u001b[3m\u001b[90m<dbl>\u001b[39m\u001b[23m 132137, 32932, 16653, 30722, 63526, 38667, 1397...\n",
      "$ female_lga_perc     \u001b[3m\u001b[90m<dbl>\u001b[39m\u001b[23m 0.3921189, 0.4282500, 0.4522814, 0.3927941, 0.4...\n",
      "$ male_lga_perc       \u001b[3m\u001b[90m<dbl>\u001b[39m\u001b[23m 0.3803705, 0.3888477, 0.4173819, 0.3681438, 0.3...\n",
      "$ employed_lga        \u001b[3m\u001b[90m<dbl>\u001b[39m\u001b[23m 151466, 35853, 17158, 40011, 68865, 44680, 1395...\n",
      "$ unemployed_lga      \u001b[3m\u001b[90m<dbl>\u001b[39m\u001b[23m 108839, 26993, 14814, 19494, 54288, 29020, 1276...\n",
      "$ employed_lga_perc   \u001b[3m\u001b[90m<dbl>\u001b[39m\u001b[23m 0.4494780, 0.4662349, 0.4659967, 0.5115580, 0.4...\n",
      "$ unemployed_lga_perc \u001b[3m\u001b[90m<dbl>\u001b[39m\u001b[23m 0.3229816, 0.3510189, 0.4023357, 0.2492393, 0.3...\n"
     ]
    }
   ],
   "source": [
    "cluster_3 <- data_model %>%\n",
    "    filter(cluster == 3) %>%\n",
    "    dplyr::select(-lga, -cluster)\n",
    "\n",
    "head(cluster_3)\n",
    "glimpse(cluster_3)"
   ]
  },
  {
   "cell_type": "code",
   "execution_count": 227,
   "metadata": {},
   "outputs": [
    {
     "data": {
      "text/plain": [
       "\n",
       "Call:\n",
       "glm(formula = crime_tot_per_lga ~ ., family = poisson, data = cluster_3, \n",
       "    offset = log(pop_total))\n",
       "\n",
       "Deviance Residuals: \n",
       "     Min        1Q    Median        3Q       Max  \n",
       "-15.4126   -3.6860   -0.4609    3.5558   11.2557  \n",
       "\n",
       "Coefficients:\n",
       "                      Estimate Std. Error z value Pr(>|z|)    \n",
       "(Intercept)         -3.284e-01  2.176e-01  -1.509  0.13127    \n",
       "crime_rate_per_lga   9.314e+00  9.031e-02 103.129  < 2e-16 ***\n",
       "pop_total            7.795e-06  7.533e-07  10.349  < 2e-16 ***\n",
       "pop_dens_km2         2.658e-06  2.300e-06   1.156  0.24772    \n",
       "seifa_value         -3.423e-03  9.304e-05 -36.794  < 2e-16 ***\n",
       "num_service         -3.333e-06  9.048e-08 -36.831  < 2e-16 ***\n",
       "male_lga             9.483e-04  1.168e-04   8.121 4.63e-16 ***\n",
       "female_lga           9.502e-04  1.159e-04   8.198 2.45e-16 ***\n",
       "female_lga_perc     -2.607e+01  9.108e+00  -2.862  0.00421 ** \n",
       "male_lga_perc       -2.345e+01  9.186e+00  -2.552  0.01070 *  \n",
       "employed_lga        -9.550e-04  1.166e-04  -8.190 2.61e-16 ***\n",
       "unemployed_lga      -9.577e-04  1.164e-04  -8.229  < 2e-16 ***\n",
       "employed_lga_perc    2.616e+01  9.171e+00   2.852  0.00435 ** \n",
       "unemployed_lga_perc  2.428e+01  9.153e+00   2.653  0.00799 ** \n",
       "---\n",
       "Signif. codes:  0 '***' 0.001 '**' 0.01 '*' 0.05 '.' 0.1 ' ' 1\n",
       "\n",
       "(Dispersion parameter for poisson family taken to be 1)\n",
       "\n",
       "    Null deviance: 122513.6  on 41  degrees of freedom\n",
       "Residual deviance:   1414.5  on 28  degrees of freedom\n",
       "AIC: 1889\n",
       "\n",
       "Number of Fisher Scoring iterations: 4\n"
      ]
     },
     "metadata": {},
     "output_type": "display_data"
    },
    {
     "data": {
      "image/png": "[encoded data removed]",
      "text/plain": [
       "plot without title"
      ]
     },
     "metadata": {},
     "output_type": "display_data"
    }
   ],
   "source": [
    "model <- glm(crime_tot_per_lga ~., offset = log(pop_total), family = poisson, data = cluster_3)\n",
    "\n",
    "summary(model)\n",
    "autoplot(model)"
   ]
  },
  {
   "cell_type": "code",
   "execution_count": 221,
   "metadata": {},
   "outputs": [],
   "source": []
  },
  {
   "cell_type": "markdown",
   "metadata": {},
   "source": [
    "# Correlations"
   ]
  },
  {
   "cell_type": "code",
   "execution_count": 205,
   "metadata": {},
   "outputs": [
    {
     "data": {
      "text/html": [
       "<table>\n",
       "<thead><tr><th></th><th scope=col>crime_tot_per_lga</th><th scope=col>crime_rate_per_lga</th><th scope=col>pop_total</th><th scope=col>pop_dens_km2</th><th scope=col>seifa_value</th><th scope=col>num_service</th><th scope=col>male_lga</th><th scope=col>female_lga</th><th scope=col>female_lga_perc</th><th scope=col>male_lga_perc</th><th scope=col>employed_lga</th><th scope=col>unemployed_lga</th><th scope=col>employed_lga_perc</th><th scope=col>unemployed_lga_perc</th></tr></thead>\n",
       "<tbody>\n",
       "\t<tr><th scope=row>crime_tot_per_lga</th><td>1          </td><td>0.1799817  </td><td> 0.85331519</td><td> 0.36634118</td><td>-0.05574115</td><td>0.90217259 </td><td> 0.87774177</td><td> 0.85621089</td><td> 0.1875020 </td><td> 0.11117483</td><td> 0.86588448</td><td> 0.8497058 </td><td> 0.2852929 </td><td>-0.15165114</td></tr>\n",
       "\t<tr><th scope=row>crime_rate_per_lga</th><td>0          </td><td>1.0000000  </td><td>-0.05880183</td><td>-0.05676528</td><td>-0.61943421</td><td>0.07488728 </td><td>-0.04210267</td><td>-0.05905993</td><td>-0.3225200 </td><td> 0.12461711</td><td>-0.05131925</td><td>-0.0495612 </td><td>-0.3172114 </td><td> 0.18803770</td></tr>\n",
       "\t<tr><th scope=row>pop_total</th><td>0          </td><td>0.0000000  </td><td> 1.00000000</td><td> 0.30227463</td><td> 0.20435198</td><td>0.82313208 </td><td> 0.99730212</td><td> 0.99875305</td><td> 0.2506011 </td><td>-0.14372733</td><td> 0.99112690</td><td> 0.9864222 </td><td> 0.3444699 </td><td>-0.25293818</td></tr>\n",
       "\t<tr><th scope=row>pop_dens_km2</th><td>0          </td><td>0.0000000  </td><td> 0.00000000</td><td> 1.00000000</td><td> 0.13569647</td><td>0.61474212 </td><td> 0.33489277</td><td> 0.32531817</td><td> 0.5327030 </td><td> 0.21970526</td><td> 0.36597913</td><td> 0.2774621 </td><td> 0.6210650 </td><td>-0.32632972</td></tr>\n",
       "\t<tr><th scope=row>seifa_value</th><td>0          </td><td>0.0000000  </td><td> 0.00000000</td><td> 0.00000000</td><td> 1.00000000</td><td>0.10199514 </td><td> 0.18144741</td><td> 0.19912232</td><td> 0.1865389 </td><td>-0.42192315</td><td> 0.23545380</td><td> 0.1285134 </td><td> 0.6735699 </td><td>-0.68115948</td></tr>\n",
       "\t<tr><th scope=row>num_service</th><td>0          </td><td>0.0000000  </td><td> 0.00000000</td><td> 0.00000000</td><td> 0.00000000</td><td>1.00000000 </td><td> 0.85392499</td><td> 0.83420421</td><td> 0.2967099 </td><td> 0.16415734</td><td> 0.86877257</td><td> 0.7947911 </td><td> 0.4928160 </td><td>-0.29593902</td></tr>\n",
       "\t<tr><th scope=row>male_lga</th><td>0          </td><td>0.0000000  </td><td> 0.00000000</td><td> 0.00000000</td><td> 0.00000000</td><td>0.00000000 </td><td> 1.00000000</td><td> 0.99844728</td><td> 0.2679523 </td><td>-0.09496526</td><td> 0.99297527</td><td> 0.9867037 </td><td> 0.3542594 </td><td>-0.24128272</td></tr>\n",
       "\t<tr><th scope=row>female_lga</th><td>0          </td><td>0.0000000  </td><td> 0.00000000</td><td> 0.00000000</td><td> 0.00000000</td><td>0.00000000 </td><td> 0.00000000</td><td> 1.00000000</td><td> 0.2798588 </td><td>-0.12576754</td><td> 0.99185071</td><td> 0.9882303 </td><td> 0.3549218 </td><td>-0.24679037</td></tr>\n",
       "\t<tr><th scope=row>female_lga_perc</th><td>0          </td><td>0.0000000  </td><td> 0.00000000</td><td> 0.00000000</td><td> 0.00000000</td><td>0.00000000 </td><td> 0.00000000</td><td> 0.00000000</td><td> 1.0000000 </td><td>-0.04796597</td><td> 0.26592276</td><td> 0.2792150 </td><td> 0.3395610 </td><td> 0.05053036</td></tr>\n",
       "\t<tr><th scope=row>male_lga_perc</th><td>0          </td><td>0.0000000  </td><td> 0.00000000</td><td> 0.00000000</td><td> 0.00000000</td><td>0.00000000 </td><td> 0.00000000</td><td> 0.00000000</td><td> 0.0000000 </td><td> 1.00000000</td><td>-0.11372358</td><td>-0.1036547 </td><td>-0.1617591 </td><td> 0.44211818</td></tr>\n",
       "\t<tr><th scope=row>employed_lga</th><td>0          </td><td>0.0000000  </td><td> 0.00000000</td><td> 0.00000000</td><td> 0.00000000</td><td>0.00000000 </td><td> 0.00000000</td><td> 0.00000000</td><td> 0.0000000 </td><td> 0.00000000</td><td> 1.00000000</td><td> 0.9621733 </td><td> 0.4250518 </td><td>-0.31765536</td></tr>\n",
       "\t<tr><th scope=row>unemployed_lga</th><td>0          </td><td>0.0000000  </td><td> 0.00000000</td><td> 0.00000000</td><td> 0.00000000</td><td>0.00000000 </td><td> 0.00000000</td><td> 0.00000000</td><td> 0.0000000 </td><td> 0.00000000</td><td> 0.00000000</td><td> 1.0000000 </td><td> 0.2566786 </td><td>-0.14284972</td></tr>\n",
       "\t<tr><th scope=row>employed_lga_perc</th><td>0          </td><td>0.0000000  </td><td> 0.00000000</td><td> 0.00000000</td><td> 0.00000000</td><td>0.00000000 </td><td> 0.00000000</td><td> 0.00000000</td><td> 0.0000000 </td><td> 0.00000000</td><td> 0.00000000</td><td> 0.0000000 </td><td> 1.0000000 </td><td>-0.86475150</td></tr>\n",
       "\t<tr><th scope=row>unemployed_lga_perc</th><td>0          </td><td>0.0000000  </td><td> 0.00000000</td><td> 0.00000000</td><td> 0.00000000</td><td>0.00000000 </td><td> 0.00000000</td><td> 0.00000000</td><td> 0.0000000 </td><td> 0.00000000</td><td> 0.00000000</td><td> 0.0000000 </td><td> 0.0000000 </td><td> 1.00000000</td></tr>\n",
       "</tbody>\n",
       "</table>\n"
      ],
      "text/latex": [
       "\\begin{tabular}{r|llllllllllllll}\n",
       "  & crime\\_tot\\_per\\_lga & crime\\_rate\\_per\\_lga & pop\\_total & pop\\_dens\\_km2 & seifa\\_value & num\\_service & male\\_lga & female\\_lga & female\\_lga\\_perc & male\\_lga\\_perc & employed\\_lga & unemployed\\_lga & employed\\_lga\\_perc & unemployed\\_lga\\_perc\\\\\n",
       "\\hline\n",
       "\tcrime\\_tot\\_per\\_lga & 1           & 0.1799817   &  0.85331519 &  0.36634118 & -0.05574115 & 0.90217259  &  0.87774177 &  0.85621089 &  0.1875020  &  0.11117483 &  0.86588448 &  0.8497058  &  0.2852929  & -0.15165114\\\\\n",
       "\tcrime\\_rate\\_per\\_lga & 0           & 1.0000000   & -0.05880183 & -0.05676528 & -0.61943421 & 0.07488728  & -0.04210267 & -0.05905993 & -0.3225200  &  0.12461711 & -0.05131925 & -0.0495612  & -0.3172114  &  0.18803770\\\\\n",
       "\tpop\\_total & 0           & 0.0000000   &  1.00000000 &  0.30227463 &  0.20435198 & 0.82313208  &  0.99730212 &  0.99875305 &  0.2506011  & -0.14372733 &  0.99112690 &  0.9864222  &  0.3444699  & -0.25293818\\\\\n",
       "\tpop\\_dens\\_km2 & 0           & 0.0000000   &  0.00000000 &  1.00000000 &  0.13569647 & 0.61474212  &  0.33489277 &  0.32531817 &  0.5327030  &  0.21970526 &  0.36597913 &  0.2774621  &  0.6210650  & -0.32632972\\\\\n",
       "\tseifa\\_value & 0           & 0.0000000   &  0.00000000 &  0.00000000 &  1.00000000 & 0.10199514  &  0.18144741 &  0.19912232 &  0.1865389  & -0.42192315 &  0.23545380 &  0.1285134  &  0.6735699  & -0.68115948\\\\\n",
       "\tnum\\_service & 0           & 0.0000000   &  0.00000000 &  0.00000000 &  0.00000000 & 1.00000000  &  0.85392499 &  0.83420421 &  0.2967099  &  0.16415734 &  0.86877257 &  0.7947911  &  0.4928160  & -0.29593902\\\\\n",
       "\tmale\\_lga & 0           & 0.0000000   &  0.00000000 &  0.00000000 &  0.00000000 & 0.00000000  &  1.00000000 &  0.99844728 &  0.2679523  & -0.09496526 &  0.99297527 &  0.9867037  &  0.3542594  & -0.24128272\\\\\n",
       "\tfemale\\_lga & 0           & 0.0000000   &  0.00000000 &  0.00000000 &  0.00000000 & 0.00000000  &  0.00000000 &  1.00000000 &  0.2798588  & -0.12576754 &  0.99185071 &  0.9882303  &  0.3549218  & -0.24679037\\\\\n",
       "\tfemale\\_lga\\_perc & 0           & 0.0000000   &  0.00000000 &  0.00000000 &  0.00000000 & 0.00000000  &  0.00000000 &  0.00000000 &  1.0000000  & -0.04796597 &  0.26592276 &  0.2792150  &  0.3395610  &  0.05053036\\\\\n",
       "\tmale\\_lga\\_perc & 0           & 0.0000000   &  0.00000000 &  0.00000000 &  0.00000000 & 0.00000000  &  0.00000000 &  0.00000000 &  0.0000000  &  1.00000000 & -0.11372358 & -0.1036547  & -0.1617591  &  0.44211818\\\\\n",
       "\temployed\\_lga & 0           & 0.0000000   &  0.00000000 &  0.00000000 &  0.00000000 & 0.00000000  &  0.00000000 &  0.00000000 &  0.0000000  &  0.00000000 &  1.00000000 &  0.9621733  &  0.4250518  & -0.31765536\\\\\n",
       "\tunemployed\\_lga & 0           & 0.0000000   &  0.00000000 &  0.00000000 &  0.00000000 & 0.00000000  &  0.00000000 &  0.00000000 &  0.0000000  &  0.00000000 &  0.00000000 &  1.0000000  &  0.2566786  & -0.14284972\\\\\n",
       "\temployed\\_lga\\_perc & 0           & 0.0000000   &  0.00000000 &  0.00000000 &  0.00000000 & 0.00000000  &  0.00000000 &  0.00000000 &  0.0000000  &  0.00000000 &  0.00000000 &  0.0000000  &  1.0000000  & -0.86475150\\\\\n",
       "\tunemployed\\_lga\\_perc & 0           & 0.0000000   &  0.00000000 &  0.00000000 &  0.00000000 & 0.00000000  &  0.00000000 &  0.00000000 &  0.0000000  &  0.00000000 &  0.00000000 &  0.0000000  &  0.0000000  &  1.00000000\\\\\n",
       "\\end{tabular}\n"
      ],
      "text/markdown": [
       "\n",
       "| <!--/--> | crime_tot_per_lga | crime_rate_per_lga | pop_total | pop_dens_km2 | seifa_value | num_service | male_lga | female_lga | female_lga_perc | male_lga_perc | employed_lga | unemployed_lga | employed_lga_perc | unemployed_lga_perc |\n",
       "|---|---|---|---|---|---|---|---|---|---|---|---|---|---|---|\n",
       "| crime_tot_per_lga | 1           | 0.1799817   |  0.85331519 |  0.36634118 | -0.05574115 | 0.90217259  |  0.87774177 |  0.85621089 |  0.1875020  |  0.11117483 |  0.86588448 |  0.8497058  |  0.2852929  | -0.15165114 |\n",
       "| crime_rate_per_lga | 0           | 1.0000000   | -0.05880183 | -0.05676528 | -0.61943421 | 0.07488728  | -0.04210267 | -0.05905993 | -0.3225200  |  0.12461711 | -0.05131925 | -0.0495612  | -0.3172114  |  0.18803770 |\n",
       "| pop_total | 0           | 0.0000000   |  1.00000000 |  0.30227463 |  0.20435198 | 0.82313208  |  0.99730212 |  0.99875305 |  0.2506011  | -0.14372733 |  0.99112690 |  0.9864222  |  0.3444699  | -0.25293818 |\n",
       "| pop_dens_km2 | 0           | 0.0000000   |  0.00000000 |  1.00000000 |  0.13569647 | 0.61474212  |  0.33489277 |  0.32531817 |  0.5327030  |  0.21970526 |  0.36597913 |  0.2774621  |  0.6210650  | -0.32632972 |\n",
       "| seifa_value | 0           | 0.0000000   |  0.00000000 |  0.00000000 |  1.00000000 | 0.10199514  |  0.18144741 |  0.19912232 |  0.1865389  | -0.42192315 |  0.23545380 |  0.1285134  |  0.6735699  | -0.68115948 |\n",
       "| num_service | 0           | 0.0000000   |  0.00000000 |  0.00000000 |  0.00000000 | 1.00000000  |  0.85392499 |  0.83420421 |  0.2967099  |  0.16415734 |  0.86877257 |  0.7947911  |  0.4928160  | -0.29593902 |\n",
       "| male_lga | 0           | 0.0000000   |  0.00000000 |  0.00000000 |  0.00000000 | 0.00000000  |  1.00000000 |  0.99844728 |  0.2679523  | -0.09496526 |  0.99297527 |  0.9867037  |  0.3542594  | -0.24128272 |\n",
       "| female_lga | 0           | 0.0000000   |  0.00000000 |  0.00000000 |  0.00000000 | 0.00000000  |  0.00000000 |  1.00000000 |  0.2798588  | -0.12576754 |  0.99185071 |  0.9882303  |  0.3549218  | -0.24679037 |\n",
       "| female_lga_perc | 0           | 0.0000000   |  0.00000000 |  0.00000000 |  0.00000000 | 0.00000000  |  0.00000000 |  0.00000000 |  1.0000000  | -0.04796597 |  0.26592276 |  0.2792150  |  0.3395610  |  0.05053036 |\n",
       "| male_lga_perc | 0           | 0.0000000   |  0.00000000 |  0.00000000 |  0.00000000 | 0.00000000  |  0.00000000 |  0.00000000 |  0.0000000  |  1.00000000 | -0.11372358 | -0.1036547  | -0.1617591  |  0.44211818 |\n",
       "| employed_lga | 0           | 0.0000000   |  0.00000000 |  0.00000000 |  0.00000000 | 0.00000000  |  0.00000000 |  0.00000000 |  0.0000000  |  0.00000000 |  1.00000000 |  0.9621733  |  0.4250518  | -0.31765536 |\n",
       "| unemployed_lga | 0           | 0.0000000   |  0.00000000 |  0.00000000 |  0.00000000 | 0.00000000  |  0.00000000 |  0.00000000 |  0.0000000  |  0.00000000 |  0.00000000 |  1.0000000  |  0.2566786  | -0.14284972 |\n",
       "| employed_lga_perc | 0           | 0.0000000   |  0.00000000 |  0.00000000 |  0.00000000 | 0.00000000  |  0.00000000 |  0.00000000 |  0.0000000  |  0.00000000 |  0.00000000 |  0.0000000  |  1.0000000  | -0.86475150 |\n",
       "| unemployed_lga_perc | 0           | 0.0000000   |  0.00000000 |  0.00000000 |  0.00000000 | 0.00000000  |  0.00000000 |  0.00000000 |  0.0000000  |  0.00000000 |  0.00000000 |  0.0000000  |  0.0000000  |  1.00000000 |\n",
       "\n"
      ],
      "text/plain": [
       "                    crime_tot_per_lga crime_rate_per_lga pop_total  \n",
       "crime_tot_per_lga   1                 0.1799817           0.85331519\n",
       "crime_rate_per_lga  0                 1.0000000          -0.05880183\n",
       "pop_total           0                 0.0000000           1.00000000\n",
       "pop_dens_km2        0                 0.0000000           0.00000000\n",
       "seifa_value         0                 0.0000000           0.00000000\n",
       "num_service         0                 0.0000000           0.00000000\n",
       "male_lga            0                 0.0000000           0.00000000\n",
       "female_lga          0                 0.0000000           0.00000000\n",
       "female_lga_perc     0                 0.0000000           0.00000000\n",
       "male_lga_perc       0                 0.0000000           0.00000000\n",
       "employed_lga        0                 0.0000000           0.00000000\n",
       "unemployed_lga      0                 0.0000000           0.00000000\n",
       "employed_lga_perc   0                 0.0000000           0.00000000\n",
       "unemployed_lga_perc 0                 0.0000000           0.00000000\n",
       "                    pop_dens_km2 seifa_value num_service male_lga   \n",
       "crime_tot_per_lga    0.36634118  -0.05574115 0.90217259   0.87774177\n",
       "crime_rate_per_lga  -0.05676528  -0.61943421 0.07488728  -0.04210267\n",
       "pop_total            0.30227463   0.20435198 0.82313208   0.99730212\n",
       "pop_dens_km2         1.00000000   0.13569647 0.61474212   0.33489277\n",
       "seifa_value          0.00000000   1.00000000 0.10199514   0.18144741\n",
       "num_service          0.00000000   0.00000000 1.00000000   0.85392499\n",
       "male_lga             0.00000000   0.00000000 0.00000000   1.00000000\n",
       "female_lga           0.00000000   0.00000000 0.00000000   0.00000000\n",
       "female_lga_perc      0.00000000   0.00000000 0.00000000   0.00000000\n",
       "male_lga_perc        0.00000000   0.00000000 0.00000000   0.00000000\n",
       "employed_lga         0.00000000   0.00000000 0.00000000   0.00000000\n",
       "unemployed_lga       0.00000000   0.00000000 0.00000000   0.00000000\n",
       "employed_lga_perc    0.00000000   0.00000000 0.00000000   0.00000000\n",
       "unemployed_lga_perc  0.00000000   0.00000000 0.00000000   0.00000000\n",
       "                    female_lga  female_lga_perc male_lga_perc employed_lga\n",
       "crime_tot_per_lga    0.85621089  0.1875020       0.11117483    0.86588448 \n",
       "crime_rate_per_lga  -0.05905993 -0.3225200       0.12461711   -0.05131925 \n",
       "pop_total            0.99875305  0.2506011      -0.14372733    0.99112690 \n",
       "pop_dens_km2         0.32531817  0.5327030       0.21970526    0.36597913 \n",
       "seifa_value          0.19912232  0.1865389      -0.42192315    0.23545380 \n",
       "num_service          0.83420421  0.2967099       0.16415734    0.86877257 \n",
       "male_lga             0.99844728  0.2679523      -0.09496526    0.99297527 \n",
       "female_lga           1.00000000  0.2798588      -0.12576754    0.99185071 \n",
       "female_lga_perc      0.00000000  1.0000000      -0.04796597    0.26592276 \n",
       "male_lga_perc        0.00000000  0.0000000       1.00000000   -0.11372358 \n",
       "employed_lga         0.00000000  0.0000000       0.00000000    1.00000000 \n",
       "unemployed_lga       0.00000000  0.0000000       0.00000000    0.00000000 \n",
       "employed_lga_perc    0.00000000  0.0000000       0.00000000    0.00000000 \n",
       "unemployed_lga_perc  0.00000000  0.0000000       0.00000000    0.00000000 \n",
       "                    unemployed_lga employed_lga_perc unemployed_lga_perc\n",
       "crime_tot_per_lga    0.8497058      0.2852929        -0.15165114        \n",
       "crime_rate_per_lga  -0.0495612     -0.3172114         0.18803770        \n",
       "pop_total            0.9864222      0.3444699        -0.25293818        \n",
       "pop_dens_km2         0.2774621      0.6210650        -0.32632972        \n",
       "seifa_value          0.1285134      0.6735699        -0.68115948        \n",
       "num_service          0.7947911      0.4928160        -0.29593902        \n",
       "male_lga             0.9867037      0.3542594        -0.24128272        \n",
       "female_lga           0.9882303      0.3549218        -0.24679037        \n",
       "female_lga_perc      0.2792150      0.3395610         0.05053036        \n",
       "male_lga_perc       -0.1036547     -0.1617591         0.44211818        \n",
       "employed_lga         0.9621733      0.4250518        -0.31765536        \n",
       "unemployed_lga       1.0000000      0.2566786        -0.14284972        \n",
       "employed_lga_perc    0.0000000      1.0000000        -0.86475150        \n",
       "unemployed_lga_perc  0.0000000      0.0000000         1.00000000        "
      ]
     },
     "metadata": {},
     "output_type": "display_data"
    }
   ],
   "source": [
    "correlation_matrix <- data_model %>%\n",
    "    dplyr::select(-lga, -cluster) %>%\n",
    "    cor()\n",
    "\n",
    "\n",
    "correlation_matrix_print <- correlation_matrix\n",
    "\n",
    "correlation_matrix_print[lower.tri(correlation_matrix, diag = FALSE)] <- 0\n",
    "\n",
    "correlation_matrix_print"
   ]
  },
  {
   "cell_type": "code",
   "execution_count": 137,
   "metadata": {},
   "outputs": [
    {
     "name": "stderr",
     "output_type": "stream",
     "text": [
      "Saving 6.67 x 6.67 in image\n",
      "Saving 6.67 x 6.67 in image\n"
     ]
    },
    {
     "data": {
      "image/png": "[encoded data removed]",
      "text/plain": [
       "plot without title"
      ]
     },
     "metadata": {},
     "output_type": "display_data"
    }
   ],
   "source": [
    "data_model %>%\n",
    "    dplyr::select(-cluster) %>%\n",
    "    cor() %>%\n",
    "    ggcorrplot(hc.order = TRUE, \n",
    "               type = \"lower\", \n",
    "               outline.col = \"white\",\n",
    "               #lab = TRUE,\n",
    "               p.mat = p.mat) +\n",
    "    ggtitle(\"Pearson Correlation\") +\n",
    "    my_theme() +\n",
    "    xlab(\"\") +\n",
    "    ylab(\"\")\n",
    "    \n",
    "ggsave(paste(chart_dir, \"correlation.png\", sep = \"/\"))\n",
    "ggsave(paste(chart_dir, \"correlation.svg\", sep = \"/\"))"
   ]
  },
  {
   "cell_type": "code",
   "execution_count": 126,
   "metadata": {},
   "outputs": [],
   "source": [
    "# Compute the correlation p-values\n",
    "p.mat <- data_model %>%\n",
    "    dplyr::select(-cluster) %>%\n",
    "    cor_pmat()"
   ]
  },
  {
   "cell_type": "code",
   "execution_count": 193,
   "metadata": {},
   "outputs": [
    {
     "data": {
      "text/html": [
       "<table>\n",
       "<thead><tr><th></th><th scope=col>crime_tot_per_lga</th><th scope=col>crime_rate_per_lga</th><th scope=col>pop_total</th><th scope=col>pop_dens_km2</th><th scope=col>seifa_value</th><th scope=col>num_service</th><th scope=col>male_lga</th><th scope=col>female_lga</th><th scope=col>female_lga_perc</th><th scope=col>male_lga_perc</th><th scope=col>employed_lga</th><th scope=col>unemployed_lga</th><th scope=col>employed_lga_perc</th><th scope=col>unemployed_lga_perc</th></tr></thead>\n",
       "<tbody>\n",
       "\t<tr><th scope=row>crime_tot_per_lga</th><td>0    </td><td>0.066</td><td>0.000</td><td>0.000</td><td>0.572</td><td>0.000</td><td>0.000</td><td>0.000</td><td>0.055</td><td>0.259</td><td>0.000</td><td>0.000</td><td>0.003</td><td>0.123</td></tr>\n",
       "\t<tr><th scope=row>crime_rate_per_lga</th><td>0    </td><td>0.000</td><td>0.551</td><td>0.565</td><td>0.000</td><td>0.448</td><td>0.670</td><td>0.550</td><td>0.001</td><td>0.205</td><td>0.603</td><td>0.616</td><td>0.001</td><td>0.055</td></tr>\n",
       "\t<tr><th scope=row>pop_total</th><td>0    </td><td>0.000</td><td>0.000</td><td>0.002</td><td>0.037</td><td>0.000</td><td>0.000</td><td>0.000</td><td>0.010</td><td>0.144</td><td>0.000</td><td>0.000</td><td>0.000</td><td>0.009</td></tr>\n",
       "\t<tr><th scope=row>pop_dens_km2</th><td>0    </td><td>0.000</td><td>0.000</td><td>0.000</td><td>0.168</td><td>0.000</td><td>0.000</td><td>0.001</td><td>0.000</td><td>0.024</td><td>0.000</td><td>0.004</td><td>0.000</td><td>0.001</td></tr>\n",
       "\t<tr><th scope=row>seifa_value</th><td>0    </td><td>0.000</td><td>0.000</td><td>0.000</td><td>0.000</td><td>0.301</td><td>0.064</td><td>0.042</td><td>0.057</td><td>0.000</td><td>0.016</td><td>0.191</td><td>0.000</td><td>0.000</td></tr>\n",
       "\t<tr><th scope=row>num_service</th><td>0    </td><td>0.000</td><td>0.000</td><td>0.000</td><td>0.000</td><td>0.000</td><td>0.000</td><td>0.000</td><td>0.002</td><td>0.094</td><td>0.000</td><td>0.000</td><td>0.000</td><td>0.002</td></tr>\n",
       "\t<tr><th scope=row>male_lga</th><td>0    </td><td>0.000</td><td>0.000</td><td>0.000</td><td>0.000</td><td>0.000</td><td>0.000</td><td>0.000</td><td>0.006</td><td>0.335</td><td>0.000</td><td>0.000</td><td>0.000</td><td>0.013</td></tr>\n",
       "\t<tr><th scope=row>female_lga</th><td>0    </td><td>0.000</td><td>0.000</td><td>0.000</td><td>0.000</td><td>0.000</td><td>0.000</td><td>0.000</td><td>0.004</td><td>0.201</td><td>0.000</td><td>0.000</td><td>0.000</td><td>0.011</td></tr>\n",
       "\t<tr><th scope=row>female_lga_perc</th><td>0    </td><td>0.000</td><td>0.000</td><td>0.000</td><td>0.000</td><td>0.000</td><td>0.000</td><td>0.000</td><td>0.000</td><td>0.627</td><td>0.006</td><td>0.004</td><td>0.000</td><td>0.609</td></tr>\n",
       "\t<tr><th scope=row>male_lga_perc</th><td>0    </td><td>0.000</td><td>0.000</td><td>0.000</td><td>0.000</td><td>0.000</td><td>0.000</td><td>0.000</td><td>0.000</td><td>0.000</td><td>0.248</td><td>0.293</td><td>0.099</td><td>0.000</td></tr>\n",
       "\t<tr><th scope=row>employed_lga</th><td>0    </td><td>0.000</td><td>0.000</td><td>0.000</td><td>0.000</td><td>0.000</td><td>0.000</td><td>0.000</td><td>0.000</td><td>0.000</td><td>0.000</td><td>0.000</td><td>0.000</td><td>0.001</td></tr>\n",
       "\t<tr><th scope=row>unemployed_lga</th><td>0    </td><td>0.000</td><td>0.000</td><td>0.000</td><td>0.000</td><td>0.000</td><td>0.000</td><td>0.000</td><td>0.000</td><td>0.000</td><td>0.000</td><td>0.000</td><td>0.008</td><td>0.146</td></tr>\n",
       "\t<tr><th scope=row>employed_lga_perc</th><td>0    </td><td>0.000</td><td>0.000</td><td>0.000</td><td>0.000</td><td>0.000</td><td>0.000</td><td>0.000</td><td>0.000</td><td>0.000</td><td>0.000</td><td>0.000</td><td>0.000</td><td>0.000</td></tr>\n",
       "\t<tr><th scope=row>unemployed_lga_perc</th><td>0    </td><td>0.000</td><td>0.000</td><td>0.000</td><td>0.000</td><td>0.000</td><td>0.000</td><td>0.000</td><td>0.000</td><td>0.000</td><td>0.000</td><td>0.000</td><td>0.000</td><td>0.000</td></tr>\n",
       "</tbody>\n",
       "</table>\n"
      ],
      "text/latex": [
       "\\begin{tabular}{r|llllllllllllll}\n",
       "  & crime\\_tot\\_per\\_lga & crime\\_rate\\_per\\_lga & pop\\_total & pop\\_dens\\_km2 & seifa\\_value & num\\_service & male\\_lga & female\\_lga & female\\_lga\\_perc & male\\_lga\\_perc & employed\\_lga & unemployed\\_lga & employed\\_lga\\_perc & unemployed\\_lga\\_perc\\\\\n",
       "\\hline\n",
       "\tcrime\\_tot\\_per\\_lga & 0     & 0.066 & 0.000 & 0.000 & 0.572 & 0.000 & 0.000 & 0.000 & 0.055 & 0.259 & 0.000 & 0.000 & 0.003 & 0.123\\\\\n",
       "\tcrime\\_rate\\_per\\_lga & 0     & 0.000 & 0.551 & 0.565 & 0.000 & 0.448 & 0.670 & 0.550 & 0.001 & 0.205 & 0.603 & 0.616 & 0.001 & 0.055\\\\\n",
       "\tpop\\_total & 0     & 0.000 & 0.000 & 0.002 & 0.037 & 0.000 & 0.000 & 0.000 & 0.010 & 0.144 & 0.000 & 0.000 & 0.000 & 0.009\\\\\n",
       "\tpop\\_dens\\_km2 & 0     & 0.000 & 0.000 & 0.000 & 0.168 & 0.000 & 0.000 & 0.001 & 0.000 & 0.024 & 0.000 & 0.004 & 0.000 & 0.001\\\\\n",
       "\tseifa\\_value & 0     & 0.000 & 0.000 & 0.000 & 0.000 & 0.301 & 0.064 & 0.042 & 0.057 & 0.000 & 0.016 & 0.191 & 0.000 & 0.000\\\\\n",
       "\tnum\\_service & 0     & 0.000 & 0.000 & 0.000 & 0.000 & 0.000 & 0.000 & 0.000 & 0.002 & 0.094 & 0.000 & 0.000 & 0.000 & 0.002\\\\\n",
       "\tmale\\_lga & 0     & 0.000 & 0.000 & 0.000 & 0.000 & 0.000 & 0.000 & 0.000 & 0.006 & 0.335 & 0.000 & 0.000 & 0.000 & 0.013\\\\\n",
       "\tfemale\\_lga & 0     & 0.000 & 0.000 & 0.000 & 0.000 & 0.000 & 0.000 & 0.000 & 0.004 & 0.201 & 0.000 & 0.000 & 0.000 & 0.011\\\\\n",
       "\tfemale\\_lga\\_perc & 0     & 0.000 & 0.000 & 0.000 & 0.000 & 0.000 & 0.000 & 0.000 & 0.000 & 0.627 & 0.006 & 0.004 & 0.000 & 0.609\\\\\n",
       "\tmale\\_lga\\_perc & 0     & 0.000 & 0.000 & 0.000 & 0.000 & 0.000 & 0.000 & 0.000 & 0.000 & 0.000 & 0.248 & 0.293 & 0.099 & 0.000\\\\\n",
       "\temployed\\_lga & 0     & 0.000 & 0.000 & 0.000 & 0.000 & 0.000 & 0.000 & 0.000 & 0.000 & 0.000 & 0.000 & 0.000 & 0.000 & 0.001\\\\\n",
       "\tunemployed\\_lga & 0     & 0.000 & 0.000 & 0.000 & 0.000 & 0.000 & 0.000 & 0.000 & 0.000 & 0.000 & 0.000 & 0.000 & 0.008 & 0.146\\\\\n",
       "\temployed\\_lga\\_perc & 0     & 0.000 & 0.000 & 0.000 & 0.000 & 0.000 & 0.000 & 0.000 & 0.000 & 0.000 & 0.000 & 0.000 & 0.000 & 0.000\\\\\n",
       "\tunemployed\\_lga\\_perc & 0     & 0.000 & 0.000 & 0.000 & 0.000 & 0.000 & 0.000 & 0.000 & 0.000 & 0.000 & 0.000 & 0.000 & 0.000 & 0.000\\\\\n",
       "\\end{tabular}\n"
      ],
      "text/markdown": [
       "\n",
       "| <!--/--> | crime_tot_per_lga | crime_rate_per_lga | pop_total | pop_dens_km2 | seifa_value | num_service | male_lga | female_lga | female_lga_perc | male_lga_perc | employed_lga | unemployed_lga | employed_lga_perc | unemployed_lga_perc |\n",
       "|---|---|---|---|---|---|---|---|---|---|---|---|---|---|---|\n",
       "| crime_tot_per_lga | 0     | 0.066 | 0.000 | 0.000 | 0.572 | 0.000 | 0.000 | 0.000 | 0.055 | 0.259 | 0.000 | 0.000 | 0.003 | 0.123 |\n",
       "| crime_rate_per_lga | 0     | 0.000 | 0.551 | 0.565 | 0.000 | 0.448 | 0.670 | 0.550 | 0.001 | 0.205 | 0.603 | 0.616 | 0.001 | 0.055 |\n",
       "| pop_total | 0     | 0.000 | 0.000 | 0.002 | 0.037 | 0.000 | 0.000 | 0.000 | 0.010 | 0.144 | 0.000 | 0.000 | 0.000 | 0.009 |\n",
       "| pop_dens_km2 | 0     | 0.000 | 0.000 | 0.000 | 0.168 | 0.000 | 0.000 | 0.001 | 0.000 | 0.024 | 0.000 | 0.004 | 0.000 | 0.001 |\n",
       "| seifa_value | 0     | 0.000 | 0.000 | 0.000 | 0.000 | 0.301 | 0.064 | 0.042 | 0.057 | 0.000 | 0.016 | 0.191 | 0.000 | 0.000 |\n",
       "| num_service | 0     | 0.000 | 0.000 | 0.000 | 0.000 | 0.000 | 0.000 | 0.000 | 0.002 | 0.094 | 0.000 | 0.000 | 0.000 | 0.002 |\n",
       "| male_lga | 0     | 0.000 | 0.000 | 0.000 | 0.000 | 0.000 | 0.000 | 0.000 | 0.006 | 0.335 | 0.000 | 0.000 | 0.000 | 0.013 |\n",
       "| female_lga | 0     | 0.000 | 0.000 | 0.000 | 0.000 | 0.000 | 0.000 | 0.000 | 0.004 | 0.201 | 0.000 | 0.000 | 0.000 | 0.011 |\n",
       "| female_lga_perc | 0     | 0.000 | 0.000 | 0.000 | 0.000 | 0.000 | 0.000 | 0.000 | 0.000 | 0.627 | 0.006 | 0.004 | 0.000 | 0.609 |\n",
       "| male_lga_perc | 0     | 0.000 | 0.000 | 0.000 | 0.000 | 0.000 | 0.000 | 0.000 | 0.000 | 0.000 | 0.248 | 0.293 | 0.099 | 0.000 |\n",
       "| employed_lga | 0     | 0.000 | 0.000 | 0.000 | 0.000 | 0.000 | 0.000 | 0.000 | 0.000 | 0.000 | 0.000 | 0.000 | 0.000 | 0.001 |\n",
       "| unemployed_lga | 0     | 0.000 | 0.000 | 0.000 | 0.000 | 0.000 | 0.000 | 0.000 | 0.000 | 0.000 | 0.000 | 0.000 | 0.008 | 0.146 |\n",
       "| employed_lga_perc | 0     | 0.000 | 0.000 | 0.000 | 0.000 | 0.000 | 0.000 | 0.000 | 0.000 | 0.000 | 0.000 | 0.000 | 0.000 | 0.000 |\n",
       "| unemployed_lga_perc | 0     | 0.000 | 0.000 | 0.000 | 0.000 | 0.000 | 0.000 | 0.000 | 0.000 | 0.000 | 0.000 | 0.000 | 0.000 | 0.000 |\n",
       "\n"
      ],
      "text/plain": [
       "                    crime_tot_per_lga crime_rate_per_lga pop_total pop_dens_km2\n",
       "crime_tot_per_lga   0                 0.066              0.000     0.000       \n",
       "crime_rate_per_lga  0                 0.000              0.551     0.565       \n",
       "pop_total           0                 0.000              0.000     0.002       \n",
       "pop_dens_km2        0                 0.000              0.000     0.000       \n",
       "seifa_value         0                 0.000              0.000     0.000       \n",
       "num_service         0                 0.000              0.000     0.000       \n",
       "male_lga            0                 0.000              0.000     0.000       \n",
       "female_lga          0                 0.000              0.000     0.000       \n",
       "female_lga_perc     0                 0.000              0.000     0.000       \n",
       "male_lga_perc       0                 0.000              0.000     0.000       \n",
       "employed_lga        0                 0.000              0.000     0.000       \n",
       "unemployed_lga      0                 0.000              0.000     0.000       \n",
       "employed_lga_perc   0                 0.000              0.000     0.000       \n",
       "unemployed_lga_perc 0                 0.000              0.000     0.000       \n",
       "                    seifa_value num_service male_lga female_lga female_lga_perc\n",
       "crime_tot_per_lga   0.572       0.000       0.000    0.000      0.055          \n",
       "crime_rate_per_lga  0.000       0.448       0.670    0.550      0.001          \n",
       "pop_total           0.037       0.000       0.000    0.000      0.010          \n",
       "pop_dens_km2        0.168       0.000       0.000    0.001      0.000          \n",
       "seifa_value         0.000       0.301       0.064    0.042      0.057          \n",
       "num_service         0.000       0.000       0.000    0.000      0.002          \n",
       "male_lga            0.000       0.000       0.000    0.000      0.006          \n",
       "female_lga          0.000       0.000       0.000    0.000      0.004          \n",
       "female_lga_perc     0.000       0.000       0.000    0.000      0.000          \n",
       "male_lga_perc       0.000       0.000       0.000    0.000      0.000          \n",
       "employed_lga        0.000       0.000       0.000    0.000      0.000          \n",
       "unemployed_lga      0.000       0.000       0.000    0.000      0.000          \n",
       "employed_lga_perc   0.000       0.000       0.000    0.000      0.000          \n",
       "unemployed_lga_perc 0.000       0.000       0.000    0.000      0.000          \n",
       "                    male_lga_perc employed_lga unemployed_lga employed_lga_perc\n",
       "crime_tot_per_lga   0.259         0.000        0.000          0.003            \n",
       "crime_rate_per_lga  0.205         0.603        0.616          0.001            \n",
       "pop_total           0.144         0.000        0.000          0.000            \n",
       "pop_dens_km2        0.024         0.000        0.004          0.000            \n",
       "seifa_value         0.000         0.016        0.191          0.000            \n",
       "num_service         0.094         0.000        0.000          0.000            \n",
       "male_lga            0.335         0.000        0.000          0.000            \n",
       "female_lga          0.201         0.000        0.000          0.000            \n",
       "female_lga_perc     0.627         0.006        0.004          0.000            \n",
       "male_lga_perc       0.000         0.248        0.293          0.099            \n",
       "employed_lga        0.000         0.000        0.000          0.000            \n",
       "unemployed_lga      0.000         0.000        0.000          0.008            \n",
       "employed_lga_perc   0.000         0.000        0.000          0.000            \n",
       "unemployed_lga_perc 0.000         0.000        0.000          0.000            \n",
       "                    unemployed_lga_perc\n",
       "crime_tot_per_lga   0.123              \n",
       "crime_rate_per_lga  0.055              \n",
       "pop_total           0.009              \n",
       "pop_dens_km2        0.001              \n",
       "seifa_value         0.000              \n",
       "num_service         0.002              \n",
       "male_lga            0.013              \n",
       "female_lga          0.011              \n",
       "female_lga_perc     0.609              \n",
       "male_lga_perc       0.000              \n",
       "employed_lga        0.001              \n",
       "unemployed_lga      0.146              \n",
       "employed_lga_perc   0.000              \n",
       "unemployed_lga_perc 0.000              "
      ]
     },
     "metadata": {},
     "output_type": "display_data"
    }
   ],
   "source": [
    "p.mat.lower <- p.mat %>%\n",
    "    lower.tri(diag = FALSE)\n",
    "\n",
    "p.mat.print <- round(p.mat, 3)\n",
    "\n",
    "p.mat.print[p.mat.lower] <- 0\n",
    "\n",
    "p.mat.print"
   ]
  },
  {
   "cell_type": "markdown",
   "metadata": {},
   "source": [
    "## Crime Rate vs Unemployment"
   ]
  },
  {
   "cell_type": "code",
   "execution_count": 214,
   "metadata": {},
   "outputs": [
    {
     "name": "stderr",
     "output_type": "stream",
     "text": [
      "Saving 6.67 x 6.67 in image\n",
      "Saving 6.67 x 6.67 in image\n"
     ]
    },
    {
     "data": {
      "image/png": "[encoded data removed]",
      "text/plain": [
       "plot without title"
      ]
     },
     "metadata": {},
     "output_type": "display_data"
    }
   ],
   "source": [
    "x_var = \"unemployed_lga_perc\"\n",
    "y_var = \"crime_rate_per_lga\"\n",
    "title = \"Crime Rate vs Level of Unemployment\"\n",
    "\n",
    "ggplot(data_model, aes(!!sym(x_var), !!sym(y_var), size = pop_total)) +\n",
    "    geom_point(alpha = 0.2) +\n",
    "    scale_size_continuous(labels = scales::comma) +\n",
    "    scale_x_continuous(labels = number_format(accuracy = 0.01)) +\n",
    "    xlab(\"Level of Unemployment Rate\") +\n",
    "    ylab(\"Crime Rate Per Capita\") +\n",
    "    # label some points over a certain threshold\n",
    "    #geom_text(aes(label = ifelse((!!sym(x_var) > 1.1) & (!!sym(y_var) > 0), as.character(lga), '')), hjust = 1.3, vjust = 0, size = 3) +\n",
    "    #geom_text(aes(label = ifelse((!!sym(x_var) < 1) & (!!sym(y_var) > 0.2), as.character(lga), '')), hjust = -0.2, vjust = 0, size = 3) +\n",
    "    ggtitle(title) +\n",
    "    my_theme() +\n",
    "    theme(axis.text.x = element_text(angle = 0, vjust = 0.5, hjust = 1))\n",
    "\n",
    "chart_name_svg = paste(\"scatter_\", y_var, \"_vs_\", x_var, \".svg\", sep = \"\")\n",
    "chart_name_png = paste(\"scatter_\", y_var, \"_vs_\", x_var, \".png\", sep = \"\")\n",
    "filename_svg = paste(chart_dir, chart_name_svg, sep = \"/\")\n",
    "filename_png = paste(chart_dir, chart_name_png, sep = \"/\")\n",
    "ggsave(file = filename_svg)\n",
    "ggsave(file = filename_png)"
   ]
  },
  {
   "cell_type": "markdown",
   "metadata": {},
   "source": [
    "## Crime Rate vs Female Percentage"
   ]
  },
  {
   "cell_type": "code",
   "execution_count": 210,
   "metadata": {},
   "outputs": [
    {
     "name": "stderr",
     "output_type": "stream",
     "text": [
      "Saving 6.67 x 6.67 in image\n",
      "Saving 6.67 x 6.67 in image\n"
     ]
    },
    {
     "data": {
      "image/png": "[encoded data removed]",
      "text/plain": [
       "plot without title"
      ]
     },
     "metadata": {},
     "output_type": "display_data"
    }
   ],
   "source": [
    "x_var = \"female_lga_perc\"\n",
    "y_var = \"crime_rate_per_lga\"\n",
    "title = \"Crime Rate vs Female Percentage\"\n",
    "\n",
    "ggplot(data_model, aes(!!sym(x_var), !!sym(y_var), size = pop_total)) +\n",
    "    geom_point(alpha = 0.2) +\n",
    "    scale_size_continuous(labels = scales::comma) +\n",
    "    scale_x_continuous(labels = number_format(accuracy = 0.01)) +\n",
    "    xlab(\"Percentage of Female Residents\") +\n",
    "    ylab(\"Crime Rate Per Capita\") +\n",
    "    # label some points over a certain threshold\n",
    "    #geom_text(aes(label = ifelse((!!sym(x_var) > 1.1) & (!!sym(y_var) > 0), as.character(lga), '')), hjust = 1.3, vjust = 0, size = 3) +\n",
    "    #geom_text(aes(label = ifelse((!!sym(x_var) < 1) & (!!sym(y_var) > 0.2), as.character(lga), '')), hjust = -0.2, vjust = 0, size = 3) +\n",
    "    ggtitle(title) +\n",
    "    my_theme() +\n",
    "    theme(axis.text.x = element_text(angle = 0, vjust = 0.5, hjust = 1))\n",
    "\n",
    "chart_name_svg = paste(\"scatter_\", y_var, \"_vs_\", x_var, \".svg\", sep = \"\")\n",
    "chart_name_png = paste(\"scatter_\", y_var, \"_vs_\", x_var, \".png\", sep = \"\")\n",
    "filename_svg = paste(chart_dir, chart_name_svg, sep = \"/\")\n",
    "filename_png = paste(chart_dir, chart_name_png, sep = \"/\")\n",
    "ggsave(file = filename_svg)\n",
    "ggsave(file = filename_png)"
   ]
  },
  {
   "cell_type": "markdown",
   "metadata": {},
   "source": [
    "## Crime Rate vs Employment"
   ]
  },
  {
   "cell_type": "code",
   "execution_count": 211,
   "metadata": {},
   "outputs": [
    {
     "name": "stderr",
     "output_type": "stream",
     "text": [
      "Saving 6.67 x 6.67 in image\n",
      "Saving 6.67 x 6.67 in image\n"
     ]
    },
    {
     "data": {
      "image/png": "[encoded data removed]",
      "text/plain": [
       "plot without title"
      ]
     },
     "metadata": {},
     "output_type": "display_data"
    }
   ],
   "source": [
    "x_var = \"employed_lga_perc\"\n",
    "y_var = \"crime_rate_per_lga\"\n",
    "title = \"Crime Rate vs Employment Rate\"\n",
    "\n",
    "ggplot(data_model, aes(!!sym(x_var), !!sym(y_var), size = pop_total)) +\n",
    "    geom_point(alpha = 0.2) +\n",
    "    scale_size_continuous(labels = scales::comma) +\n",
    "    scale_x_continuous(labels = number_format(accuracy = 0.01)) +\n",
    "    xlab(\"Percentage of Employed\") +\n",
    "    ylab(\"Crime Rate Per Capita\") +\n",
    "    # label some points over a certain threshold\n",
    "    #geom_text(aes(label = ifelse((!!sym(x_var) > 1.1) & (!!sym(y_var) > 0), as.character(lga), '')), hjust = 1.3, vjust = 0, size = 3) +\n",
    "    #geom_text(aes(label = ifelse((!!sym(x_var) < 1) & (!!sym(y_var) > 0.2), as.character(lga), '')), hjust = -0.2, vjust = 0, size = 3) +\n",
    "    ggtitle(title) +\n",
    "    my_theme() +\n",
    "    theme(axis.text.x = element_text(angle = 0, vjust = 0.5, hjust = 1))\n",
    "\n",
    "chart_name_svg = paste(\"scatter_\", y_var, \"_vs_\", x_var, \".svg\", sep = \"\")\n",
    "chart_name_png = paste(\"scatter_\", y_var, \"_vs_\", x_var, \".png\", sep = \"\")\n",
    "filename_svg = paste(chart_dir, chart_name_svg, sep = \"/\")\n",
    "filename_png = paste(chart_dir, chart_name_png, sep = \"/\")\n",
    "ggsave(file = filename_svg)\n",
    "ggsave(file = filename_png)"
   ]
  },
  {
   "cell_type": "code",
   "execution_count": null,
   "metadata": {},
   "outputs": [],
   "source": []
  },
  {
   "cell_type": "code",
   "execution_count": null,
   "metadata": {},
   "outputs": [],
   "source": []
  },
  {
   "cell_type": "code",
   "execution_count": null,
   "metadata": {},
   "outputs": [],
   "source": []
  },
  {
   "cell_type": "code",
   "execution_count": null,
   "metadata": {},
   "outputs": [],
   "source": []
  },
  {
   "cell_type": "code",
   "execution_count": null,
   "metadata": {},
   "outputs": [],
   "source": []
  },
  {
   "cell_type": "code",
   "execution_count": null,
   "metadata": {},
   "outputs": [],
   "source": []
  },
  {
   "cell_type": "code",
   "execution_count": null,
   "metadata": {},
   "outputs": [],
   "source": []
  },
  {
   "cell_type": "code",
   "execution_count": null,
   "metadata": {},
   "outputs": [],
   "source": []
  },
  {
   "cell_type": "code",
   "execution_count": null,
   "metadata": {},
   "outputs": [],
   "source": []
  },
  {
   "cell_type": "code",
   "execution_count": null,
   "metadata": {},
   "outputs": [],
   "source": []
  },
  {
   "cell_type": "code",
   "execution_count": null,
   "metadata": {},
   "outputs": [],
   "source": []
  },
  {
   "cell_type": "code",
   "execution_count": null,
   "metadata": {},
   "outputs": [],
   "source": []
  },
  {
   "cell_type": "code",
   "execution_count": 213,
   "metadata": {},
   "outputs": [],
   "source": [
    "save.image(file = \"D:/OneDrive - UTS/36103/AT2/Git/STDS-AT2-Transport/clustered_eda.RData\")"
   ]
  }
 ],
 "metadata": {
  "kernelspec": {
   "display_name": "R",
   "language": "R",
   "name": "ir"
  },
  "language_info": {
   "codemirror_mode": "r",
   "file_extension": ".r",
   "mimetype": "text/x-r-source",
   "name": "R",
   "pygments_lexer": "r",
   "version": "3.5.3"
  }
 },
 "nbformat": 4,
 "nbformat_minor": 2
}
