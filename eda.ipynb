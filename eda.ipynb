{
 "cells": [
  {
   "cell_type": "code",
   "execution_count": 3,
   "metadata": {},
   "outputs": [
    {
     "name": "stderr",
     "output_type": "stream",
     "text": [
      "-- \u001b[1mAttaching packages\u001b[22m --------------------------------------- tidyverse 1.2.1 --\n",
      "\u001b[32mv\u001b[39m \u001b[34mggplot2\u001b[39m 3.1.1       \u001b[32mv\u001b[39m \u001b[34mpurrr  \u001b[39m 0.3.2  \n",
      "\u001b[32mv\u001b[39m \u001b[34mtibble \u001b[39m 2.1.1       \u001b[32mv\u001b[39m \u001b[34mdplyr  \u001b[39m 0.8.0.\u001b[31m1\u001b[39m\n",
      "\u001b[32mv\u001b[39m \u001b[34mtidyr  \u001b[39m 0.8.3       \u001b[32mv\u001b[39m \u001b[34mstringr\u001b[39m 1.4.0  \n",
      "\u001b[32mv\u001b[39m \u001b[34mreadr  \u001b[39m 1.3.1       \u001b[32mv\u001b[39m \u001b[34mforcats\u001b[39m 0.4.0  \n",
      "-- \u001b[1mConflicts\u001b[22m ------------------------------------------ tidyverse_conflicts() --\n",
      "\u001b[31mx\u001b[39m \u001b[34mdplyr\u001b[39m::\u001b[32mfilter()\u001b[39m masks \u001b[34mstats\u001b[39m::filter()\n",
      "\u001b[31mx\u001b[39m \u001b[34mdplyr\u001b[39m::\u001b[32mlag()\u001b[39m    masks \u001b[34mstats\u001b[39m::lag()\n",
      "\n",
      "Attaching package: 'magrittr'\n",
      "\n",
      "The following object is masked from 'package:purrr':\n",
      "\n",
      "    set_names\n",
      "\n",
      "The following object is masked from 'package:tidyr':\n",
      "\n",
      "    extract\n",
      "\n",
      "\n",
      "Attaching package: 'reshape2'\n",
      "\n",
      "The following object is masked from 'package:tidyr':\n",
      "\n",
      "    smiths\n",
      "\n",
      "\n",
      "Attaching package: 'scales'\n",
      "\n",
      "The following object is masked from 'package:purrr':\n",
      "\n",
      "    discard\n",
      "\n",
      "The following object is masked from 'package:readr':\n",
      "\n",
      "    col_factor\n",
      "\n",
      "corrplot 0.84 loaded\n",
      "\n",
      "Attaching package: 'rlang'\n",
      "\n",
      "The following object is masked from 'package:magrittr':\n",
      "\n",
      "    set_names\n",
      "\n",
      "The following objects are masked from 'package:purrr':\n",
      "\n",
      "    %@%, as_function, flatten, flatten_chr, flatten_dbl, flatten_int,\n",
      "    flatten_lgl, flatten_raw, invoke, list_along, modify, prepend,\n",
      "    splice\n",
      "\n"
     ]
    }
   ],
   "source": [
    "library(tidyverse)\n",
    "library(magrittr)\n",
    "library(reshape2)\n",
    "library(ggplot2)\n",
    "library(scales)\n",
    "library(ggrepel)\n",
    "library(readxl)\n",
    "library(corrplot)\n",
    "library(purrr)\n",
    "library(rlang)\n",
    "library(svglite)"
   ]
  },
  {
   "cell_type": "code",
   "execution_count": null,
   "metadata": {},
   "outputs": [],
   "source": [
    "my_theme <- function(base_size = 12, base_family = \"sans\"){\n",
    " theme_grey(base_size = base_size, base_family = base_family) +\n",
    "   theme(\n",
    "     axis.text = element_text(size = 12),\n",
    "     axis.text.x = element_text(angle = 90, vjust = 0.5, hjust = 1),\n",
    "     axis.ticks.length = unit(.25, \"cm\"),\n",
    "     axis.title = element_text(size = 14),\n",
    "     panel.grid.major = element_line(color = \"grey\"),\n",
    "     panel.grid.minor = element_blank(),\n",
    "     panel.background = element_rect(fill = \"aliceblue\"), # alice blue could be replaced with NA as well,\n",
    "     panel.border = element_rect(linetype = \"solid\", fill = NA),\n",
    "     strip.background = element_rect(fill = \"lightgrey\", color = \"grey\", size = 1),\n",
    "     strip.text = element_text(face = \"bold\", size = 12, color = \"navy\"),\n",
    "     legend.position = \"right\",\n",
    "     legend.background = element_blank(),\n",
    "     legend.title = element_text(face = \"bold\"),\n",
    "     panel.spacing  = unit(.5, \"lines\")\n",
    "     #panel.border = element_rect(color = \"grey\", fill = NA, size = 0.5)\n",
    "   )\n",
    "}"
   ]
  },
  {
   "cell_type": "code",
   "execution_count": 18,
   "metadata": {},
   "outputs": [],
   "source": [
    "input_path <- \"D:/OneDrive - UTS/36103/AT2B/data2\"\n",
    "char_ouput_path <- \"D:/OneDrive - UTS/36103/AT2B/charts\""
   ]
  },
  {
   "cell_type": "code",
   "execution_count": 19,
   "metadata": {},
   "outputs": [],
   "source": [
    "col_def <- cols(\n",
    "  LGA = readr::col_factor(),\n",
    "  crime_tot_per_lga = readr::col_double(),\n",
    "  crime_rate_per_lga = readr::col_double(),\n",
    "  Sex = readr::col_factor(),\n",
    "  Age = readr::col_factor(),\n",
    "  pop = readr::col_double(),\n",
    "  pop_total = readr::col_double(),\n",
    "  birthplace_of_person = readr::col_factor(),\n",
    "  birth_value = readr::col_double(),\n",
    "  `Industry of Employment` = readr::col_factor(),\n",
    "  emp_value = readr::col_double(),\n",
    "  `Labour force status` = readr::col_factor(),\n",
    "  labour_value = readr::col_double(),\n",
    "  Pop_Dens_km2 = readr::col_double(),\n",
    "  seifa_value = readr::col_double(),\n",
    "  num_service = readr::col_integer()\n",
    ")"
   ]
  },
  {
   "cell_type": "code",
   "execution_count": 20,
   "metadata": {},
   "outputs": [
    {
     "data": {
      "text/html": [
       "<table>\n",
       "<thead><tr><th scope=col>LGA</th><th scope=col>crime_tot_per_lga</th><th scope=col>crime_rate_per_lga</th><th scope=col>Sex</th><th scope=col>Age</th><th scope=col>pop</th><th scope=col>pop_total</th><th scope=col>birthplace_of_person</th><th scope=col>birth_value</th><th scope=col>Industry of Employment</th><th scope=col>emp_value</th><th scope=col>Labour force status</th><th scope=col>labour_value</th><th scope=col>Pop_Dens_km2</th><th scope=col>seifa_value</th><th scope=col>num_service</th></tr></thead>\n",
       "<tbody>\n",
       "\t<tr><td>albury          </td><td>6233            </td><td>0.1220219       </td><td>Females         </td><td>95 - 99         </td><td>78              </td><td>51081           </td><td>New Zealand     </td><td>2510            </td><td>NA              </td><td>NA              </td><td>NA              </td><td>NA              </td><td>170.5           </td><td>964             </td><td>1769            </td></tr>\n",
       "\t<tr><td>albury          </td><td>6233            </td><td>0.1220219       </td><td>Females         </td><td>95 - 99         </td><td>78              </td><td>51081           </td><td>Papua New Guinea</td><td>  99            </td><td>NA              </td><td>NA              </td><td>NA              </td><td>NA              </td><td>170.5           </td><td>964             </td><td>1769            </td></tr>\n",
       "\t<tr><td>albury          </td><td>6233            </td><td>0.1220219       </td><td>Females         </td><td>95 - 99         </td><td>78              </td><td>51081           </td><td>Fiji            </td><td> 218            </td><td>NA              </td><td>NA              </td><td>NA              </td><td>NA              </td><td>170.5           </td><td>964             </td><td>1769            </td></tr>\n",
       "\t<tr><td>albury          </td><td>6233            </td><td>0.1220219       </td><td>Females         </td><td>95 - 99         </td><td>78              </td><td>51081           </td><td>Tonga           </td><td>  24            </td><td>NA              </td><td>NA              </td><td>NA              </td><td>NA              </td><td>170.5           </td><td>964             </td><td>1769            </td></tr>\n",
       "\t<tr><td>albury          </td><td>6233            </td><td>0.1220219       </td><td>Females         </td><td>95 - 99         </td><td>78              </td><td>51081           </td><td>England         </td><td>4254            </td><td>NA              </td><td>NA              </td><td>NA              </td><td>NA              </td><td>170.5           </td><td>964             </td><td>1769            </td></tr>\n",
       "\t<tr><td>albury          </td><td>6233            </td><td>0.1220219       </td><td>Females         </td><td>95 - 99         </td><td>78              </td><td>51081           </td><td>Northern Ireland</td><td>  64            </td><td>NA              </td><td>NA              </td><td>NA              </td><td>NA              </td><td>170.5           </td><td>964             </td><td>1769            </td></tr>\n",
       "</tbody>\n",
       "</table>\n"
      ],
      "text/latex": [
       "\\begin{tabular}{r|llllllllllllllll}\n",
       " LGA & crime\\_tot\\_per\\_lga & crime\\_rate\\_per\\_lga & Sex & Age & pop & pop\\_total & birthplace\\_of\\_person & birth\\_value & Industry of Employment & emp\\_value & Labour force status & labour\\_value & Pop\\_Dens\\_km2 & seifa\\_value & num\\_service\\\\\n",
       "\\hline\n",
       "\t albury           & 6233             & 0.1220219        & Females          & 95 - 99          & 78               & 51081            & New Zealand      & 2510             & NA               & NA               & NA               & NA               & 170.5            & 964              & 1769            \\\\\n",
       "\t albury           & 6233             & 0.1220219        & Females          & 95 - 99          & 78               & 51081            & Papua New Guinea &   99             & NA               & NA               & NA               & NA               & 170.5            & 964              & 1769            \\\\\n",
       "\t albury           & 6233             & 0.1220219        & Females          & 95 - 99          & 78               & 51081            & Fiji             &  218             & NA               & NA               & NA               & NA               & 170.5            & 964              & 1769            \\\\\n",
       "\t albury           & 6233             & 0.1220219        & Females          & 95 - 99          & 78               & 51081            & Tonga            &   24             & NA               & NA               & NA               & NA               & 170.5            & 964              & 1769            \\\\\n",
       "\t albury           & 6233             & 0.1220219        & Females          & 95 - 99          & 78               & 51081            & England          & 4254             & NA               & NA               & NA               & NA               & 170.5            & 964              & 1769            \\\\\n",
       "\t albury           & 6233             & 0.1220219        & Females          & 95 - 99          & 78               & 51081            & Northern Ireland &   64             & NA               & NA               & NA               & NA               & 170.5            & 964              & 1769            \\\\\n",
       "\\end{tabular}\n"
      ],
      "text/markdown": [
       "\n",
       "| LGA | crime_tot_per_lga | crime_rate_per_lga | Sex | Age | pop | pop_total | birthplace_of_person | birth_value | Industry of Employment | emp_value | Labour force status | labour_value | Pop_Dens_km2 | seifa_value | num_service |\n",
       "|---|---|---|---|---|---|---|---|---|---|---|---|---|---|---|---|\n",
       "| albury           | 6233             | 0.1220219        | Females          | 95 - 99          | 78               | 51081            | New Zealand      | 2510             | NA               | NA               | NA               | NA               | 170.5            | 964              | 1769             |\n",
       "| albury           | 6233             | 0.1220219        | Females          | 95 - 99          | 78               | 51081            | Papua New Guinea |   99             | NA               | NA               | NA               | NA               | 170.5            | 964              | 1769             |\n",
       "| albury           | 6233             | 0.1220219        | Females          | 95 - 99          | 78               | 51081            | Fiji             |  218             | NA               | NA               | NA               | NA               | 170.5            | 964              | 1769             |\n",
       "| albury           | 6233             | 0.1220219        | Females          | 95 - 99          | 78               | 51081            | Tonga            |   24             | NA               | NA               | NA               | NA               | 170.5            | 964              | 1769             |\n",
       "| albury           | 6233             | 0.1220219        | Females          | 95 - 99          | 78               | 51081            | England          | 4254             | NA               | NA               | NA               | NA               | 170.5            | 964              | 1769             |\n",
       "| albury           | 6233             | 0.1220219        | Females          | 95 - 99          | 78               | 51081            | Northern Ireland |   64             | NA               | NA               | NA               | NA               | 170.5            | 964              | 1769             |\n",
       "\n"
      ],
      "text/plain": [
       "  LGA    crime_tot_per_lga crime_rate_per_lga Sex     Age     pop pop_total\n",
       "1 albury 6233              0.1220219          Females 95 - 99 78  51081    \n",
       "2 albury 6233              0.1220219          Females 95 - 99 78  51081    \n",
       "3 albury 6233              0.1220219          Females 95 - 99 78  51081    \n",
       "4 albury 6233              0.1220219          Females 95 - 99 78  51081    \n",
       "5 albury 6233              0.1220219          Females 95 - 99 78  51081    \n",
       "6 albury 6233              0.1220219          Females 95 - 99 78  51081    \n",
       "  birthplace_of_person birth_value Industry of Employment emp_value\n",
       "1 New Zealand          2510        NA                     NA       \n",
       "2 Papua New Guinea       99        NA                     NA       \n",
       "3 Fiji                  218        NA                     NA       \n",
       "4 Tonga                  24        NA                     NA       \n",
       "5 England              4254        NA                     NA       \n",
       "6 Northern Ireland       64        NA                     NA       \n",
       "  Labour force status labour_value Pop_Dens_km2 seifa_value num_service\n",
       "1 NA                  NA           170.5        964         1769       \n",
       "2 NA                  NA           170.5        964         1769       \n",
       "3 NA                  NA           170.5        964         1769       \n",
       "4 NA                  NA           170.5        964         1769       \n",
       "5 NA                  NA           170.5        964         1769       \n",
       "6 NA                  NA           170.5        964         1769       "
      ]
     },
     "metadata": {},
     "output_type": "display_data"
    },
    {
     "name": "stdout",
     "output_type": "stream",
     "text": [
      "Observations: 5,485,565\n",
      "Variables: 16\n",
      "$ LGA                      \u001b[3m\u001b[90m<fct>\u001b[39m\u001b[23m albury, albury, albury, albury, albury, al...\n",
      "$ crime_tot_per_lga        \u001b[3m\u001b[90m<dbl>\u001b[39m\u001b[23m 6233, 6233, 6233, 6233, 6233, 6233, 6233, ...\n",
      "$ crime_rate_per_lga       \u001b[3m\u001b[90m<dbl>\u001b[39m\u001b[23m 0.1220219, 0.1220219, 0.1220219, 0.1220219...\n",
      "$ Sex                      \u001b[3m\u001b[90m<fct>\u001b[39m\u001b[23m Females, Females, Females, Females, Female...\n",
      "$ Age                      \u001b[3m\u001b[90m<fct>\u001b[39m\u001b[23m 95 - 99, 95 - 99, 95 - 99, 95 - 99, 95 - 9...\n",
      "$ pop                      \u001b[3m\u001b[90m<dbl>\u001b[39m\u001b[23m 78, 78, 78, 78, 78, 78, 78, 78, 78, 78, 78...\n",
      "$ pop_total                \u001b[3m\u001b[90m<dbl>\u001b[39m\u001b[23m 51081, 51081, 51081, 51081, 51081, 51081, ...\n",
      "$ birthplace_of_person     \u001b[3m\u001b[90m<fct>\u001b[39m\u001b[23m \"New Zealand\", \"Papua New Guinea\", \"Fiji\",...\n",
      "$ birth_value              \u001b[3m\u001b[90m<dbl>\u001b[39m\u001b[23m 2510, 99, 218, 24, 4254, 64, 800, 213, 325...\n",
      "$ `Industry of Employment` \u001b[3m\u001b[90m<fct>\u001b[39m\u001b[23m NA, NA, NA, NA, NA, NA, NA, NA, NA, NA, NA...\n",
      "$ emp_value                \u001b[3m\u001b[90m<dbl>\u001b[39m\u001b[23m NA, NA, NA, NA, NA, NA, NA, NA, NA, NA, NA...\n",
      "$ `Labour force status`    \u001b[3m\u001b[90m<fct>\u001b[39m\u001b[23m NA, NA, NA, NA, NA, NA, NA, NA, NA, NA, NA...\n",
      "$ labour_value             \u001b[3m\u001b[90m<dbl>\u001b[39m\u001b[23m NA, NA, NA, NA, NA, NA, NA, NA, NA, NA, NA...\n",
      "$ Pop_Dens_km2             \u001b[3m\u001b[90m<dbl>\u001b[39m\u001b[23m 170.5, 170.5, 170.5, 170.5, 170.5, 170.5, ...\n",
      "$ seifa_value              \u001b[3m\u001b[90m<dbl>\u001b[39m\u001b[23m 964, 964, 964, 964, 964, 964, 964, 964, 96...\n",
      "$ num_service              \u001b[3m\u001b[90m<int>\u001b[39m\u001b[23m 1769, 1769, 1769, 1769, 1769, 1769, 1769, ...\n"
     ]
    }
   ],
   "source": [
    "data <- readr::read_csv(paste(input_path, \"unified3.csv\", sep = \"/\"), col_types = col_def)\n",
    "\n",
    "head(data)\n",
    "glimpse(data)"
   ]
  },
  {
   "cell_type": "markdown",
   "metadata": {},
   "source": [
    "# Scatter Plots"
   ]
  },
  {
   "cell_type": "code",
   "execution_count": 21,
   "metadata": {},
   "outputs": [
    {
     "name": "stdout",
     "output_type": "stream",
     "text": [
      "Observations: 105\n",
      "Variables: 6\n",
      "$ LGA                \u001b[3m\u001b[90m<fct>\u001b[39m\u001b[23m albury, ballina, balranald, bathurst regional, b...\n",
      "$ crime_rate_per_lga \u001b[3m\u001b[90m<dbl>\u001b[39m\u001b[23m 0.12202189, 0.06439412, 0.08376963, 0.09751314, ...\n",
      "$ Pop_Dens_km2       \u001b[3m\u001b[90m<dbl>\u001b[39m\u001b[23m 170.5, 88.7, 0.1, 11.1, 5.4, 8.1, 4.2, 1449.8, 0...\n",
      "$ seifa_value        \u001b[3m\u001b[90m<dbl>\u001b[39m\u001b[23m 964, 986, 969, 994, 974, 957, 965, 995, 997, 100...\n",
      "$ num_service        \u001b[3m\u001b[90m<dbl>\u001b[39m\u001b[23m 1769, 1353, 4, 2882, 771, 422, 10, 248915, 8, 28...\n",
      "$ pop_total          \u001b[3m\u001b[90m<dbl>\u001b[39m\u001b[23m 51081, 41774, 2292, 41297, 33229, 12656, 8456, 3...\n"
     ]
    }
   ],
   "source": [
    "data_scatter <- data %>% \n",
    "    group_by(LGA) %>%\n",
    "    summarise(crime_rate_per_lga = mean(crime_rate_per_lga), \n",
    "              Pop_Dens_km2 = mean(Pop_Dens_km2), \n",
    "              seifa_value = mean(seifa_value),\n",
    "              num_service = mean(num_service),\n",
    "              pop_total = mean(pop_total)) %>%\n",
    "    drop_na\n",
    "\n",
    "glimpse(data_scatter)"
   ]
  },
  {
   "cell_type": "markdown",
   "metadata": {},
   "source": [
    "## `crime_rate_per_lga` vs `Pop_Dens_km2`"
   ]
  },
  {
   "cell_type": "code",
   "execution_count": 46,
   "metadata": {},
   "outputs": [
    {
     "name": "stderr",
     "output_type": "stream",
     "text": [
      "Saving 6.67 x 6.67 in image\n",
      "Saving 6.67 x 6.67 in image\n"
     ]
    },
    {
     "data": {
      "image/png": "[encoded data removed]",
      "text/plain": [
       "plot without title"
      ]
     },
     "metadata": {},
     "output_type": "display_data"
    }
   ],
   "source": [
    "type = \"scatter\"\n",
    "x_var = \"Pop_Dens_km2\"\n",
    "y_var = \"crime_rate_per_lga\"\n",
    "\n",
    "ggplot(data_scatter, aes(!!sym(x_var), !!sym(y_var), size = pop_total)) +\n",
    "    geom_point(alpha = 0.2) + \n",
    "    scale_size_continuous(labels = scales::comma) +\n",
    "    ylab(\"Crime Rate Per Capita\") +\n",
    "    xlab(\"Population Density (per km squared)\") +\n",
    "    ggtitle(\"Crime Rate vs Population Density\") +\n",
    "    my_theme()\n",
    "\n",
    "chart_name_svg = paste(\"scatter_\", y_var, \"_vs_\", x_var, \".svg\", sep = \"\")\n",
    "chart_name_png = paste(\"scatter_\", y_var, \"_vs_\", x_var, \".png\", sep = \"\")\n",
    "filename_svg = paste(char_ouput_path, chart_name_svg, sep = \"/\")\n",
    "filename_png = paste(char_ouput_path, chart_name_png, sep = \"/\")\n",
    "ggsave(file = filename_svg)\n",
    "ggsave(file = filename_png)"
   ]
  },
  {
   "cell_type": "markdown",
   "metadata": {},
   "source": [
    "## `crime_rate_per_lga` vs `seifa_value`"
   ]
  },
  {
   "cell_type": "code",
   "execution_count": 47,
   "metadata": {},
   "outputs": [
    {
     "name": "stderr",
     "output_type": "stream",
     "text": [
      "Saving 6.67 x 6.67 in image\n",
      "Saving 6.67 x 6.67 in image\n"
     ]
    },
    {
     "data": {
      "image/png": "[encoded data removed]",
      "text/plain": [
       "plot without title"
      ]
     },
     "metadata": {},
     "output_type": "display_data"
    }
   ],
   "source": [
    "x_var = \"seifa_value\"\n",
    "y_var = \"crime_rate_per_lga\"\n",
    "\n",
    "ggplot(data_scatter, aes(!!sym(x_var), !!sym(y_var), size = pop_total)) +\n",
    "    geom_point(alpha = 0.2) +\n",
    "    scale_size_continuous(labels = scales::comma) +\n",
    "    xlab(\"SEIFA Index\") +\n",
    "    ylab(\"Crime Rate Per Capita\") + \n",
    "    ggtitle(\"Crime Rate vs SEIFA\") +\n",
    "    my_theme()\n",
    "\n",
    "chart_name_svg = paste(\"scatter_\", y_var, \"_vs_\", x_var, \".svg\", sep = \"\")\n",
    "chart_name_png = paste(\"scatter_\", y_var, \"_vs_\", x_var, \".png\", sep = \"\")\n",
    "filename_svg = paste(char_ouput_path, chart_name_svg, sep = \"/\")\n",
    "filename_png = paste(char_ouput_path, chart_name_png, sep = \"/\")\n",
    "ggsave(file = filename_svg)\n",
    "ggsave(file = filename_png)"
   ]
  },
  {
   "cell_type": "markdown",
   "metadata": {},
   "source": [
    "## `crime_rate_per_lga` vs `num_service`"
   ]
  },
  {
   "cell_type": "code",
   "execution_count": 48,
   "metadata": {},
   "outputs": [
    {
     "name": "stderr",
     "output_type": "stream",
     "text": [
      "Saving 6.67 x 6.67 in image\n",
      "Saving 6.67 x 6.67 in image\n"
     ]
    },
    {
     "data": {
      "image/png": "[encoded data removed]",
      "text/plain": [
       "plot without title"
      ]
     },
     "metadata": {},
     "output_type": "display_data"
    }
   ],
   "source": [
    "x_var = \"num_service\"\n",
    "y_var = \"crime_rate_per_lga\"\n",
    "title = \"Crime Rate vs Level of Public Transport\"\n",
    "\n",
    "ggplot(data_scatter, aes(!!sym(x_var), !!sym(y_var), size = pop_total)) +\n",
    "    geom_point(alpha = 0.2) +\n",
    "    scale_size_continuous(labels = scales::comma) +\n",
    "    scale_x_continuous(labels = scales::comma) +\n",
    "    xlab(\"Public Transport Service\") +\n",
    "    ylab(\"Crime Rate Per Capita\") +\n",
    "    # label some points over a certain threshold\n",
    "    geom_text(aes(label = ifelse(!!sym(x_var) > 200000, as.character(LGA), '')), hjust = 1, vjust = 0, size = 3) +\n",
    "    geom_text(aes(label = ifelse((!!sym(y_var) > 0.2) & (!!sym(x_var) < 200000), as.character(LGA), '')), hjust = -0.2, vjust = 0, size = 3) +\n",
    "    ggtitle(title) +\n",
    "    my_theme()\n",
    "\n",
    "chart_name_svg = paste(\"scatter_\", y_var, \"_vs_\", x_var, \".svg\", sep = \"\")\n",
    "chart_name_png = paste(\"scatter_\", y_var, \"_vs_\", x_var, \".png\", sep = \"\")\n",
    "filename_svg = paste(char_ouput_path, chart_name_svg, sep = \"/\")\n",
    "filename_png = paste(char_ouput_path, chart_name_png, sep = \"/\")\n",
    "ggsave(file = filename_svg)\n",
    "ggsave(file = filename_png)"
   ]
  },
  {
   "cell_type": "markdown",
   "metadata": {},
   "source": [
    "## `crime_rate_per_lga` vs `num_service` Per Capita"
   ]
  },
  {
   "cell_type": "code",
   "execution_count": 25,
   "metadata": {},
   "outputs": [
    {
     "data": {
      "text/html": [
       "<table>\n",
       "<thead><tr><th scope=col>LGA</th><th scope=col>crime_rate_per_lga</th><th scope=col>Pop_Dens_km2</th><th scope=col>seifa_value</th><th scope=col>num_service</th><th scope=col>pop_total</th></tr></thead>\n",
       "<tbody>\n",
       "\t<tr><td>albury           </td><td>0.12202189       </td><td>170.5            </td><td>964              </td><td>1769             </td><td>51081            </td></tr>\n",
       "\t<tr><td>ballina          </td><td>0.06439412       </td><td> 88.7            </td><td>986              </td><td>1353             </td><td>41774            </td></tr>\n",
       "\t<tr><td>balranald        </td><td>0.08376963       </td><td>  0.1            </td><td>969              </td><td>   4             </td><td> 2292            </td></tr>\n",
       "\t<tr><td>bathurst regional</td><td>0.09751314       </td><td> 11.1            </td><td>994              </td><td>2882             </td><td>41297            </td></tr>\n",
       "\t<tr><td>bega valley      </td><td>0.06376960       </td><td>  5.4            </td><td>974              </td><td> 771             </td><td>33229            </td></tr>\n",
       "\t<tr><td>bellingen        </td><td>0.06305310       </td><td>  8.1            </td><td>957              </td><td> 422             </td><td>12656            </td></tr>\n",
       "</tbody>\n",
       "</table>\n"
      ],
      "text/latex": [
       "\\begin{tabular}{r|llllll}\n",
       " LGA & crime\\_rate\\_per\\_lga & Pop\\_Dens\\_km2 & seifa\\_value & num\\_service & pop\\_total\\\\\n",
       "\\hline\n",
       "\t albury            & 0.12202189        & 170.5             & 964               & 1769              & 51081            \\\\\n",
       "\t ballina           & 0.06439412        &  88.7             & 986               & 1353              & 41774            \\\\\n",
       "\t balranald         & 0.08376963        &   0.1             & 969               &    4              &  2292            \\\\\n",
       "\t bathurst regional & 0.09751314        &  11.1             & 994               & 2882              & 41297            \\\\\n",
       "\t bega valley       & 0.06376960        &   5.4             & 974               &  771              & 33229            \\\\\n",
       "\t bellingen         & 0.06305310        &   8.1             & 957               &  422              & 12656            \\\\\n",
       "\\end{tabular}\n"
      ],
      "text/markdown": [
       "\n",
       "| LGA | crime_rate_per_lga | Pop_Dens_km2 | seifa_value | num_service | pop_total |\n",
       "|---|---|---|---|---|---|\n",
       "| albury            | 0.12202189        | 170.5             | 964               | 1769              | 51081             |\n",
       "| ballina           | 0.06439412        |  88.7             | 986               | 1353              | 41774             |\n",
       "| balranald         | 0.08376963        |   0.1             | 969               |    4              |  2292             |\n",
       "| bathurst regional | 0.09751314        |  11.1             | 994               | 2882              | 41297             |\n",
       "| bega valley       | 0.06376960        |   5.4             | 974               |  771              | 33229             |\n",
       "| bellingen         | 0.06305310        |   8.1             | 957               |  422              | 12656             |\n",
       "\n"
      ],
      "text/plain": [
       "  LGA               crime_rate_per_lga Pop_Dens_km2 seifa_value num_service\n",
       "1 albury            0.12202189         170.5        964         1769       \n",
       "2 ballina           0.06439412          88.7        986         1353       \n",
       "3 balranald         0.08376963           0.1        969            4       \n",
       "4 bathurst regional 0.09751314          11.1        994         2882       \n",
       "5 bega valley       0.06376960           5.4        974          771       \n",
       "6 bellingen         0.06305310           8.1        957          422       \n",
       "  pop_total\n",
       "1 51081    \n",
       "2 41774    \n",
       "3  2292    \n",
       "4 41297    \n",
       "5 33229    \n",
       "6 12656    "
      ]
     },
     "metadata": {},
     "output_type": "display_data"
    }
   ],
   "source": [
    "head(data_scatter)"
   ]
  },
  {
   "cell_type": "code",
   "execution_count": 26,
   "metadata": {},
   "outputs": [
    {
     "data": {
      "text/html": [
       "<table>\n",
       "<thead><tr><th scope=col>LGA</th><th scope=col>crime_rate_per_lga</th><th scope=col>Pop_Dens_km2</th><th scope=col>seifa_value</th><th scope=col>num_service</th><th scope=col>pop_total</th><th scope=col>service_per_capita</th></tr></thead>\n",
       "<tbody>\n",
       "\t<tr><td>albury           </td><td>0.12202189       </td><td>170.5            </td><td>964              </td><td>1769             </td><td>51081            </td><td>0.034631272      </td></tr>\n",
       "\t<tr><td>ballina          </td><td>0.06439412       </td><td> 88.7            </td><td>986              </td><td>1353             </td><td>41774            </td><td>0.032388567      </td></tr>\n",
       "\t<tr><td>balranald        </td><td>0.08376963       </td><td>  0.1            </td><td>969              </td><td>   4             </td><td> 2292            </td><td>0.001745201      </td></tr>\n",
       "\t<tr><td>bathurst regional</td><td>0.09751314       </td><td> 11.1            </td><td>994              </td><td>2882             </td><td>41297            </td><td>0.069787152      </td></tr>\n",
       "\t<tr><td>bega valley      </td><td>0.06376960       </td><td>  5.4            </td><td>974              </td><td> 771             </td><td>33229            </td><td>0.023202624      </td></tr>\n",
       "\t<tr><td>bellingen        </td><td>0.06305310       </td><td>  8.1            </td><td>957              </td><td> 422             </td><td>12656            </td><td>0.033343869      </td></tr>\n",
       "</tbody>\n",
       "</table>\n"
      ],
      "text/latex": [
       "\\begin{tabular}{r|lllllll}\n",
       " LGA & crime\\_rate\\_per\\_lga & Pop\\_Dens\\_km2 & seifa\\_value & num\\_service & pop\\_total & service\\_per\\_capita\\\\\n",
       "\\hline\n",
       "\t albury            & 0.12202189        & 170.5             & 964               & 1769              & 51081             & 0.034631272      \\\\\n",
       "\t ballina           & 0.06439412        &  88.7             & 986               & 1353              & 41774             & 0.032388567      \\\\\n",
       "\t balranald         & 0.08376963        &   0.1             & 969               &    4              &  2292             & 0.001745201      \\\\\n",
       "\t bathurst regional & 0.09751314        &  11.1             & 994               & 2882              & 41297             & 0.069787152      \\\\\n",
       "\t bega valley       & 0.06376960        &   5.4             & 974               &  771              & 33229             & 0.023202624      \\\\\n",
       "\t bellingen         & 0.06305310        &   8.1             & 957               &  422              & 12656             & 0.033343869      \\\\\n",
       "\\end{tabular}\n"
      ],
      "text/markdown": [
       "\n",
       "| LGA | crime_rate_per_lga | Pop_Dens_km2 | seifa_value | num_service | pop_total | service_per_capita |\n",
       "|---|---|---|---|---|---|---|\n",
       "| albury            | 0.12202189        | 170.5             | 964               | 1769              | 51081             | 0.034631272       |\n",
       "| ballina           | 0.06439412        |  88.7             | 986               | 1353              | 41774             | 0.032388567       |\n",
       "| balranald         | 0.08376963        |   0.1             | 969               |    4              |  2292             | 0.001745201       |\n",
       "| bathurst regional | 0.09751314        |  11.1             | 994               | 2882              | 41297             | 0.069787152       |\n",
       "| bega valley       | 0.06376960        |   5.4             | 974               |  771              | 33229             | 0.023202624       |\n",
       "| bellingen         | 0.06305310        |   8.1             | 957               |  422              | 12656             | 0.033343869       |\n",
       "\n"
      ],
      "text/plain": [
       "  LGA               crime_rate_per_lga Pop_Dens_km2 seifa_value num_service\n",
       "1 albury            0.12202189         170.5        964         1769       \n",
       "2 ballina           0.06439412          88.7        986         1353       \n",
       "3 balranald         0.08376963           0.1        969            4       \n",
       "4 bathurst regional 0.09751314          11.1        994         2882       \n",
       "5 bega valley       0.06376960           5.4        974          771       \n",
       "6 bellingen         0.06305310           8.1        957          422       \n",
       "  pop_total service_per_capita\n",
       "1 51081     0.034631272       \n",
       "2 41774     0.032388567       \n",
       "3  2292     0.001745201       \n",
       "4 41297     0.069787152       \n",
       "5 33229     0.023202624       \n",
       "6 12656     0.033343869       "
      ]
     },
     "metadata": {},
     "output_type": "display_data"
    }
   ],
   "source": [
    "data_scatter %<>%\n",
    "    mutate(service_per_capita = num_service / pop_total)\n",
    "\n",
    "head(data_scatter)"
   ]
  },
  {
   "cell_type": "code",
   "execution_count": 49,
   "metadata": {},
   "outputs": [
    {
     "name": "stderr",
     "output_type": "stream",
     "text": [
      "Saving 6.67 x 6.67 in image\n",
      "Saving 6.67 x 6.67 in image\n"
     ]
    },
    {
     "data": {
      "image/png": "[encoded data removed]",
      "text/plain": [
       "plot without title"
      ]
     },
     "metadata": {},
     "output_type": "display_data"
    }
   ],
   "source": [
    "x_var = \"service_per_capita\"\n",
    "y_var = \"crime_rate_per_lga\"\n",
    "title = \"Crime Rate vs Level of Public Transport\"\n",
    "\n",
    "ggplot(data_scatter, aes(!!sym(x_var), !!sym(y_var), size = pop_total)) +\n",
    "    geom_point(alpha = 0.2) +\n",
    "    scale_size_continuous(labels = scales::comma) +\n",
    "    scale_x_continuous(labels = number_format(accuracy = 0.01)) +\n",
    "    xlab(\"Public Transport Service per Capita\") +\n",
    "    ylab(\"Crime Rate Per Capita\") +\n",
    "    # label some points over a certain threshold\n",
    "    geom_text(aes(label = ifelse(!!sym(x_var) > 2, as.character(LGA), '')), hjust = 1.3, vjust = 0, size = 3) +\n",
    "    geom_text(aes(label = ifelse((!!sym(y_var) > 0.2) & (!!sym(x_var) < 0.5), as.character(LGA), '')), hjust = -0.2, vjust = 0, size = 3) +\n",
    "    ggtitle(title) +\n",
    "    my_theme()\n",
    "\n",
    "chart_name_svg = paste(\"scatter_\", y_var, \"_vs_\", x_var, \".svg\", sep = \"\")\n",
    "chart_name_png = paste(\"scatter_\", y_var, \"_vs_\", x_var, \".png\", sep = \"\")\n",
    "filename_svg = paste(char_ouput_path, chart_name_svg, sep = \"/\")\n",
    "filename_png = paste(char_ouput_path, chart_name_png, sep = \"/\")\n",
    "ggsave(file = filename_svg)\n",
    "ggsave(file = filename_png)"
   ]
  },
  {
   "cell_type": "markdown",
   "metadata": {},
   "source": [
    "## `crime_rate_per_lga` vs `age`"
   ]
  },
  {
   "cell_type": "code",
   "execution_count": 34,
   "metadata": {},
   "outputs": [],
   "source": [
    "col_def = cols(\n",
    "  LGA = readr::col_factor(),\n",
    "  Offence = readr::col_factor(),\n",
    "  Crim_Count = readr::col_integer(),\n",
    "  crime_tot_per_lga = readr::col_double(),\n",
    "  Sex = readr::col_factor(),\n",
    "  Age = readr::col_factor(),\n",
    "  pop_sex_age = readr::col_double(),\n",
    "  pop_total = readr::col_double(),\n",
    "  crime_rate_per_lga = readr::col_double()\n",
    ")"
   ]
  },
  {
   "cell_type": "code",
   "execution_count": 39,
   "metadata": {},
   "outputs": [
    {
     "data": {
      "text/html": [
       "<table>\n",
       "<thead><tr><th scope=col>LGA</th><th scope=col>Sex</th><th scope=col>Age</th><th scope=col>pop_sex_age</th><th scope=col>pop_total</th><th scope=col>crime_rate_per_lga</th></tr></thead>\n",
       "<tbody>\n",
       "\t<tr><td>albury   </td><td>Females  </td><td>95 - 99  </td><td> 78      </td><td>51081    </td><td>0.1220219</td></tr>\n",
       "\t<tr><td>albury   </td><td>Males    </td><td>95 - 99  </td><td> 21      </td><td>51081    </td><td>0.1220219</td></tr>\n",
       "\t<tr><td>albury   </td><td>Females  </td><td>90 - 94  </td><td>271      </td><td>51081    </td><td>0.1220219</td></tr>\n",
       "\t<tr><td>albury   </td><td>Males    </td><td>90 - 94  </td><td>117      </td><td>51081    </td><td>0.1220219</td></tr>\n",
       "\t<tr><td>albury   </td><td>Females  </td><td>85 - 89  </td><td>484      </td><td>51081    </td><td>0.1220219</td></tr>\n",
       "\t<tr><td>albury   </td><td>Males    </td><td>85 - 89  </td><td>351      </td><td>51081    </td><td>0.1220219</td></tr>\n",
       "</tbody>\n",
       "</table>\n"
      ],
      "text/latex": [
       "\\begin{tabular}{r|llllll}\n",
       " LGA & Sex & Age & pop\\_sex\\_age & pop\\_total & crime\\_rate\\_per\\_lga\\\\\n",
       "\\hline\n",
       "\t albury    & Females   & 95 - 99   &  78       & 51081     & 0.1220219\\\\\n",
       "\t albury    & Males     & 95 - 99   &  21       & 51081     & 0.1220219\\\\\n",
       "\t albury    & Females   & 90 - 94   & 271       & 51081     & 0.1220219\\\\\n",
       "\t albury    & Males     & 90 - 94   & 117       & 51081     & 0.1220219\\\\\n",
       "\t albury    & Females   & 85 - 89   & 484       & 51081     & 0.1220219\\\\\n",
       "\t albury    & Males     & 85 - 89   & 351       & 51081     & 0.1220219\\\\\n",
       "\\end{tabular}\n"
      ],
      "text/markdown": [
       "\n",
       "| LGA | Sex | Age | pop_sex_age | pop_total | crime_rate_per_lga |\n",
       "|---|---|---|---|---|---|\n",
       "| albury    | Females   | 95 - 99   |  78       | 51081     | 0.1220219 |\n",
       "| albury    | Males     | 95 - 99   |  21       | 51081     | 0.1220219 |\n",
       "| albury    | Females   | 90 - 94   | 271       | 51081     | 0.1220219 |\n",
       "| albury    | Males     | 90 - 94   | 117       | 51081     | 0.1220219 |\n",
       "| albury    | Females   | 85 - 89   | 484       | 51081     | 0.1220219 |\n",
       "| albury    | Males     | 85 - 89   | 351       | 51081     | 0.1220219 |\n",
       "\n"
      ],
      "text/plain": [
       "  LGA    Sex     Age     pop_sex_age pop_total crime_rate_per_lga\n",
       "1 albury Females 95 - 99  78         51081     0.1220219         \n",
       "2 albury Males   95 - 99  21         51081     0.1220219         \n",
       "3 albury Females 90 - 94 271         51081     0.1220219         \n",
       "4 albury Males   90 - 94 117         51081     0.1220219         \n",
       "5 albury Females 85 - 89 484         51081     0.1220219         \n",
       "6 albury Males   85 - 89 351         51081     0.1220219         "
      ]
     },
     "metadata": {},
     "output_type": "display_data"
    },
    {
     "name": "stdout",
     "output_type": "stream",
     "text": [
      "Observations: 5,500\n",
      "Variables: 6\n",
      "$ LGA                \u001b[3m\u001b[90m<fct>\u001b[39m\u001b[23m albury, albury, albury, albury, albury, albury, ...\n",
      "$ Sex                \u001b[3m\u001b[90m<fct>\u001b[39m\u001b[23m Females, Males, Females, Males, Females, Males, ...\n",
      "$ Age                \u001b[3m\u001b[90m<fct>\u001b[39m\u001b[23m 95 - 99, 95 - 99, 90 - 94, 90 - 94, 85 - 89, 85 ...\n",
      "$ pop_sex_age        \u001b[3m\u001b[90m<dbl>\u001b[39m\u001b[23m 78, 21, 271, 117, 484, 351, 734, 501, 924, 746, ...\n",
      "$ pop_total          \u001b[3m\u001b[90m<dbl>\u001b[39m\u001b[23m 51081, 51081, 51081, 51081, 51081, 51081, 51081,...\n",
      "$ crime_rate_per_lga \u001b[3m\u001b[90m<dbl>\u001b[39m\u001b[23m 0.1220219, 0.1220219, 0.1220219, 0.1220219, 0.12...\n"
     ]
    }
   ],
   "source": [
    "data_crime_age <- data %>%\n",
    "    distinct(LGA, Sex, Age, pop_sex_age, pop_total, crime_rate_per_lga) %>%\n",
    "    drop_na\n",
    "\n",
    "head(data_crime_age)\n",
    "glimpse(data_crime_age)"
   ]
  },
  {
   "cell_type": "code",
   "execution_count": 40,
   "metadata": {},
   "outputs": [],
   "source": [
    "# Ordering the age group\n",
    "data_crime_age$Age <- factor(data_crime_age$Age, levels = c(\"0 - 4\",\"5 - 9\",\"10 -14\",\"15 - 19\",\"20 - 24\",\"25 - 29\",\"30 - 34\",\"35 - 39\",\"40 - 44\",\"45 - 49\",\"50 - 54\",\"55 - 59\",\"60 - 64\",\"65 - 69\",\"70 - 74\",\"75 - 79\",\"80 - 84\",\"85 - 89\",\"90 - 94\",\"95 - 99\",\"100 and over\",\"115 years and over\"))\n",
    "\n",
    "data_crime_age %<>% \n",
    "    drop_na"
   ]
  },
  {
   "cell_type": "code",
   "execution_count": 41,
   "metadata": {},
   "outputs": [],
   "source": [
    "# Function to plot the age distribution in an lga\n",
    "\n",
    "plot_bar = function(data, lga, x_var, y_var){\n",
    "    title = paste(\"Age distribution in \", lga, sep = \"\")\n",
    "    \n",
    "    p <- ggplot(data %>% filter(LGA == !!lga), aes(x = !!sym(x_var), y = !!sym(y_var), fill = Sex)) + \n",
    "    geom_bar(stat = \"identity\", position = \"dodge\") + \n",
    "    theme(axis.text.x = element_text(angle = 90, hjust = 1)) + \n",
    "    scale_y_continuous(labels = scales::comma) +\n",
    "    ylab(\"Population\") +\n",
    "    xlab(\"Age Group\") +\n",
    "    ggtitle(title)\n",
    "    \n",
    "    return(p)\n",
    "}"
   ]
  },
  {
   "cell_type": "markdown",
   "metadata": {},
   "source": [
    "## `crime_rate` vs `labour`"
   ]
  },
  {
   "cell_type": "code",
   "execution_count": 42,
   "metadata": {},
   "outputs": [
    {
     "name": "stderr",
     "output_type": "stream",
     "text": [
      "Parsed with column specification:\n",
      "cols(\n",
      "  X1 = \u001b[32mcol_double()\u001b[39m,\n",
      "  LGA = \u001b[31mcol_character()\u001b[39m,\n",
      "  Offence = \u001b[31mcol_character()\u001b[39m,\n",
      "  Crim_Count = \u001b[32mcol_double()\u001b[39m,\n",
      "  crime_tot_per_lga = \u001b[32mcol_double()\u001b[39m,\n",
      "  pop_total = \u001b[32mcol_double()\u001b[39m,\n",
      "  crime_rate_per_lga = \u001b[32mcol_double()\u001b[39m,\n",
      "  Age = \u001b[31mcol_character()\u001b[39m,\n",
      "  Sex = \u001b[31mcol_character()\u001b[39m,\n",
      "  `Labour force status` = \u001b[31mcol_character()\u001b[39m,\n",
      "  pop_count = \u001b[32mcol_double()\u001b[39m\n",
      ")\n"
     ]
    },
    {
     "data": {
      "text/html": [
       "<table>\n",
       "<thead><tr><th scope=col>X1</th><th scope=col>LGA</th><th scope=col>Offence</th><th scope=col>Crim_Count</th><th scope=col>crime_tot_per_lga</th><th scope=col>pop_total</th><th scope=col>crime_rate_per_lga</th><th scope=col>Age</th><th scope=col>Sex</th><th scope=col>Labour force status</th><th scope=col>pop_count</th></tr></thead>\n",
       "<tbody>\n",
       "\t<tr><td>1                         </td><td>albury                    </td><td>Murder *                  </td><td>2                         </td><td>6233                      </td><td>51081                     </td><td>0.1220219                 </td><td>15 - 19                   </td><td>Males                     </td><td>Employed, worked full-time</td><td> 236                      </td></tr>\n",
       "\t<tr><td>1                         </td><td>albury                    </td><td>Murder *                  </td><td>2                         </td><td>6233                      </td><td>51081                     </td><td>0.1220219                 </td><td>15 - 19                   </td><td>Females                   </td><td>Employed, worked full-time</td><td> 113                      </td></tr>\n",
       "\t<tr><td>1                         </td><td>albury                    </td><td>Murder *                  </td><td>2                         </td><td>6233                      </td><td>51081                     </td><td>0.1220219                 </td><td>15 - 19                   </td><td>Persons                   </td><td>Employed, worked full-time</td><td> 348                      </td></tr>\n",
       "\t<tr><td>1                         </td><td>albury                    </td><td>Murder *                  </td><td>2                         </td><td>6233                      </td><td>51081                     </td><td>0.1220219                 </td><td>15 - 19                   </td><td>Males                     </td><td>Employed, worked part-time</td><td> 431                      </td></tr>\n",
       "\t<tr><td>1                         </td><td>albury                    </td><td>Murder *                  </td><td>2                         </td><td>6233                      </td><td>51081                     </td><td>0.1220219                 </td><td>15 - 19                   </td><td>Females                   </td><td>Employed, worked part-time</td><td> 641                      </td></tr>\n",
       "\t<tr><td>1                         </td><td>albury                    </td><td>Murder *                  </td><td>2                         </td><td>6233                      </td><td>51081                     </td><td>0.1220219                 </td><td>15 - 19                   </td><td>Persons                   </td><td>Employed, worked part-time</td><td>1074                      </td></tr>\n",
       "</tbody>\n",
       "</table>\n"
      ],
      "text/latex": [
       "\\begin{tabular}{r|lllllllllll}\n",
       " X1 & LGA & Offence & Crim\\_Count & crime\\_tot\\_per\\_lga & pop\\_total & crime\\_rate\\_per\\_lga & Age & Sex & Labour force status & pop\\_count\\\\\n",
       "\\hline\n",
       "\t 1                          & albury                     & Murder *                   & 2                          & 6233                       & 51081                      & 0.1220219                  & 15 - 19                    & Males                      & Employed, worked full-time &  236                      \\\\\n",
       "\t 1                          & albury                     & Murder *                   & 2                          & 6233                       & 51081                      & 0.1220219                  & 15 - 19                    & Females                    & Employed, worked full-time &  113                      \\\\\n",
       "\t 1                          & albury                     & Murder *                   & 2                          & 6233                       & 51081                      & 0.1220219                  & 15 - 19                    & Persons                    & Employed, worked full-time &  348                      \\\\\n",
       "\t 1                          & albury                     & Murder *                   & 2                          & 6233                       & 51081                      & 0.1220219                  & 15 - 19                    & Males                      & Employed, worked part-time &  431                      \\\\\n",
       "\t 1                          & albury                     & Murder *                   & 2                          & 6233                       & 51081                      & 0.1220219                  & 15 - 19                    & Females                    & Employed, worked part-time &  641                      \\\\\n",
       "\t 1                          & albury                     & Murder *                   & 2                          & 6233                       & 51081                      & 0.1220219                  & 15 - 19                    & Persons                    & Employed, worked part-time & 1074                      \\\\\n",
       "\\end{tabular}\n"
      ],
      "text/markdown": [
       "\n",
       "| X1 | LGA | Offence | Crim_Count | crime_tot_per_lga | pop_total | crime_rate_per_lga | Age | Sex | Labour force status | pop_count |\n",
       "|---|---|---|---|---|---|---|---|---|---|---|\n",
       "| 1                          | albury                     | Murder *                   | 2                          | 6233                       | 51081                      | 0.1220219                  | 15 - 19                    | Males                      | Employed, worked full-time |  236                       |\n",
       "| 1                          | albury                     | Murder *                   | 2                          | 6233                       | 51081                      | 0.1220219                  | 15 - 19                    | Females                    | Employed, worked full-time |  113                       |\n",
       "| 1                          | albury                     | Murder *                   | 2                          | 6233                       | 51081                      | 0.1220219                  | 15 - 19                    | Persons                    | Employed, worked full-time |  348                       |\n",
       "| 1                          | albury                     | Murder *                   | 2                          | 6233                       | 51081                      | 0.1220219                  | 15 - 19                    | Males                      | Employed, worked part-time |  431                       |\n",
       "| 1                          | albury                     | Murder *                   | 2                          | 6233                       | 51081                      | 0.1220219                  | 15 - 19                    | Females                    | Employed, worked part-time |  641                       |\n",
       "| 1                          | albury                     | Murder *                   | 2                          | 6233                       | 51081                      | 0.1220219                  | 15 - 19                    | Persons                    | Employed, worked part-time | 1074                       |\n",
       "\n"
      ],
      "text/plain": [
       "  X1 LGA    Offence  Crim_Count crime_tot_per_lga pop_total crime_rate_per_lga\n",
       "1 1  albury Murder * 2          6233              51081     0.1220219         \n",
       "2 1  albury Murder * 2          6233              51081     0.1220219         \n",
       "3 1  albury Murder * 2          6233              51081     0.1220219         \n",
       "4 1  albury Murder * 2          6233              51081     0.1220219         \n",
       "5 1  albury Murder * 2          6233              51081     0.1220219         \n",
       "6 1  albury Murder * 2          6233              51081     0.1220219         \n",
       "  Age     Sex     Labour force status        pop_count\n",
       "1 15 - 19 Males   Employed, worked full-time  236     \n",
       "2 15 - 19 Females Employed, worked full-time  113     \n",
       "3 15 - 19 Persons Employed, worked full-time  348     \n",
       "4 15 - 19 Males   Employed, worked part-time  431     \n",
       "5 15 - 19 Females Employed, worked part-time  641     \n",
       "6 15 - 19 Persons Employed, worked part-time 1074     "
      ]
     },
     "metadata": {},
     "output_type": "display_data"
    },
    {
     "name": "stdout",
     "output_type": "stream",
     "text": [
      "Observations: 2,511,310\n",
      "Variables: 11\n",
      "$ X1                    \u001b[3m\u001b[90m<dbl>\u001b[39m\u001b[23m 1, 1, 1, 1, 1, 1, 1, 1, 1, 1, 1, 1, 1, 1, 1, ...\n",
      "$ LGA                   \u001b[3m\u001b[90m<chr>\u001b[39m\u001b[23m \"albury\", \"albury\", \"albury\", \"albury\", \"albu...\n",
      "$ Offence               \u001b[3m\u001b[90m<chr>\u001b[39m\u001b[23m \"Murder *\", \"Murder *\", \"Murder *\", \"Murder *...\n",
      "$ Crim_Count            \u001b[3m\u001b[90m<dbl>\u001b[39m\u001b[23m 2, 2, 2, 2, 2, 2, 2, 2, 2, 2, 2, 2, 2, 2, 2, ...\n",
      "$ crime_tot_per_lga     \u001b[3m\u001b[90m<dbl>\u001b[39m\u001b[23m 6233, 6233, 6233, 6233, 6233, 6233, 6233, 623...\n",
      "$ pop_total             \u001b[3m\u001b[90m<dbl>\u001b[39m\u001b[23m 51081, 51081, 51081, 51081, 51081, 51081, 510...\n",
      "$ crime_rate_per_lga    \u001b[3m\u001b[90m<dbl>\u001b[39m\u001b[23m 0.1220219, 0.1220219, 0.1220219, 0.1220219, 0...\n",
      "$ Age                   \u001b[3m\u001b[90m<chr>\u001b[39m\u001b[23m \"15 - 19\", \"15 - 19\", \"15 - 19\", \"15 - 19\", \"...\n",
      "$ Sex                   \u001b[3m\u001b[90m<chr>\u001b[39m\u001b[23m \"Males\", \"Females\", \"Persons\", \"Males\", \"Fema...\n",
      "$ `Labour force status` \u001b[3m\u001b[90m<chr>\u001b[39m\u001b[23m \"Employed, worked full-time\", \"Employed, work...\n",
      "$ pop_count             \u001b[3m\u001b[90m<dbl>\u001b[39m\u001b[23m 236, 113, 348, 431, 641, 1074, 27, 26, 59, 22...\n"
     ]
    }
   ],
   "source": [
    "data <- read_csv(paste(input_path, \"joined_crime_labour.csv\", sep = \"/\"))\n",
    "head(data)\n",
    "glimpse(data)"
   ]
  },
  {
   "cell_type": "code",
   "execution_count": 44,
   "metadata": {},
   "outputs": [
    {
     "data": {
      "text/html": [
       "<table>\n",
       "<thead><tr><th scope=col>LGA</th><th scope=col>employment_status</th><th scope=col>num_employed</th><th scope=col>pop_total</th><th scope=col>crime_rate_per_lga</th><th scope=col>employed_percentage</th></tr></thead>\n",
       "<tbody>\n",
       "\t<tr><td>albury           </td><td>employed         </td><td>45818            </td><td>51081            </td><td>0.12202189       </td><td>0.8969676        </td></tr>\n",
       "\t<tr><td>armidale regional</td><td>employed         </td><td>24620            </td><td>29429            </td><td>0.13687179       </td><td>0.8365898        </td></tr>\n",
       "\t<tr><td>ballina          </td><td>employed         </td><td>34944            </td><td>41774            </td><td>0.06439412       </td><td>0.8365012        </td></tr>\n",
       "\t<tr><td>balranald        </td><td>employed         </td><td> 1979            </td><td> 2292            </td><td>0.08376963       </td><td>0.8634380        </td></tr>\n",
       "\t<tr><td>bathurst regional</td><td>employed         </td><td>36334            </td><td>41297            </td><td>0.09751314       </td><td>0.8798218        </td></tr>\n",
       "\t<tr><td>bega valley      </td><td>employed         </td><td>26343            </td><td>33229            </td><td>0.06376960       </td><td>0.7927714        </td></tr>\n",
       "</tbody>\n",
       "</table>\n"
      ],
      "text/latex": [
       "\\begin{tabular}{r|llllll}\n",
       " LGA & employment\\_status & num\\_employed & pop\\_total & crime\\_rate\\_per\\_lga & employed\\_percentage\\\\\n",
       "\\hline\n",
       "\t albury            & employed          & 45818             & 51081             & 0.12202189        & 0.8969676        \\\\\n",
       "\t armidale regional & employed          & 24620             & 29429             & 0.13687179        & 0.8365898        \\\\\n",
       "\t ballina           & employed          & 34944             & 41774             & 0.06439412        & 0.8365012        \\\\\n",
       "\t balranald         & employed          &  1979             &  2292             & 0.08376963        & 0.8634380        \\\\\n",
       "\t bathurst regional & employed          & 36334             & 41297             & 0.09751314        & 0.8798218        \\\\\n",
       "\t bega valley       & employed          & 26343             & 33229             & 0.06376960        & 0.7927714        \\\\\n",
       "\\end{tabular}\n"
      ],
      "text/markdown": [
       "\n",
       "| LGA | employment_status | num_employed | pop_total | crime_rate_per_lga | employed_percentage |\n",
       "|---|---|---|---|---|---|\n",
       "| albury            | employed          | 45818             | 51081             | 0.12202189        | 0.8969676         |\n",
       "| armidale regional | employed          | 24620             | 29429             | 0.13687179        | 0.8365898         |\n",
       "| ballina           | employed          | 34944             | 41774             | 0.06439412        | 0.8365012         |\n",
       "| balranald         | employed          |  1979             |  2292             | 0.08376963        | 0.8634380         |\n",
       "| bathurst regional | employed          | 36334             | 41297             | 0.09751314        | 0.8798218         |\n",
       "| bega valley       | employed          | 26343             | 33229             | 0.06376960        | 0.7927714         |\n",
       "\n"
      ],
      "text/plain": [
       "  LGA               employment_status num_employed pop_total crime_rate_per_lga\n",
       "1 albury            employed          45818        51081     0.12202189        \n",
       "2 armidale regional employed          24620        29429     0.13687179        \n",
       "3 ballina           employed          34944        41774     0.06439412        \n",
       "4 balranald         employed           1979         2292     0.08376963        \n",
       "5 bathurst regional employed          36334        41297     0.09751314        \n",
       "6 bega valley       employed          26343        33229     0.06376960        \n",
       "  employed_percentage\n",
       "1 0.8969676          \n",
       "2 0.8365898          \n",
       "3 0.8365012          \n",
       "4 0.8634380          \n",
       "5 0.8798218          \n",
       "6 0.7927714          "
      ]
     },
     "metadata": {},
     "output_type": "display_data"
    },
    {
     "name": "stdout",
     "output_type": "stream",
     "text": [
      "Observations: 125\n",
      "Variables: 6\n",
      "Groups: LGA [125]\n",
      "$ LGA                 \u001b[3m\u001b[90m<chr>\u001b[39m\u001b[23m \"albury\", \"armidale regional\", \"ballina\", \"balr...\n",
      "$ employment_status   \u001b[3m\u001b[90m<chr>\u001b[39m\u001b[23m \"employed\", \"employed\", \"employed\", \"employed\",...\n",
      "$ num_employed        \u001b[3m\u001b[90m<dbl>\u001b[39m\u001b[23m 45818, 24620, 34944, 1979, 36334, 26343, 9774, ...\n",
      "$ pop_total           \u001b[3m\u001b[90m<dbl>\u001b[39m\u001b[23m 51081, 29429, 41774, 2292, 41297, 33229, 12656,...\n",
      "$ crime_rate_per_lga  \u001b[3m\u001b[90m<dbl>\u001b[39m\u001b[23m 0.12202189, 0.13687179, 0.06439412, 0.08376963,...\n",
      "$ employed_percentage \u001b[3m\u001b[90m<dbl>\u001b[39m\u001b[23m 0.8969676, 0.8365898, 0.8365012, 0.8634380, 0.8...\n"
     ]
    }
   ],
   "source": [
    "data_crime_labour <- data %>%\n",
    "    distinct(LGA, pop_total, crime_rate_per_lga, Age, Sex, `Labour force status`, pop_count) %>%\n",
    "    filter(Sex != \"Persons\") %>%\n",
    "    mutate(employment_status = ifelse(grepl(\"Employed\", `Labour force status`), \"employed\", \"unemployed\")) %>%\n",
    "    group_by(LGA, employment_status) %>%\n",
    "    summarise(num_employed = sum(pop_count), pop_total = mean(pop_total), crime_rate_per_lga = mean(crime_rate_per_lga)) %>%\n",
    "    filter(employment_status == \"employed\") %>%\n",
    "    mutate(employed_percentage = num_employed / pop_total)\n",
    "\n",
    "head(data_crime_labour)\n",
    "glimpse(data_crime_labour)"
   ]
  },
  {
   "cell_type": "code",
   "execution_count": 50,
   "metadata": {},
   "outputs": [
    {
     "name": "stderr",
     "output_type": "stream",
     "text": [
      "Saving 6.67 x 6.67 in image\n",
      "Saving 6.67 x 6.67 in image\n"
     ]
    },
    {
     "data": {
      "image/png": "[encoded data removed]",
      "text/plain": [
       "plot without title"
      ]
     },
     "metadata": {},
     "output_type": "display_data"
    }
   ],
   "source": [
    "x_var = \"employed_percentage\"\n",
    "y_var = \"crime_rate_per_lga\"\n",
    "title = \"Crime Rate vs Level of Employment\"\n",
    "\n",
    "ggplot(data_crime_labour, aes(!!sym(x_var), !!sym(y_var), size = pop_total)) +\n",
    "    geom_point(alpha = 0.2) +\n",
    "    scale_size_continuous(labels = scales::comma) +\n",
    "    scale_x_continuous(labels = number_format(accuracy = 0.01)) +\n",
    "    xlab(\"Level of Employment\") +\n",
    "    ylab(\"Crime Rate Per Capita\") +\n",
    "    # label some points over a certain threshold\n",
    "    geom_text(aes(label = ifelse((!!sym(x_var) > 1.1) & (!!sym(y_var) > 0), as.character(LGA), '')), hjust = 1.3, vjust = 0, size = 3) +\n",
    "    geom_text(aes(label = ifelse((!!sym(x_var) < 1) & (!!sym(y_var) > 0.2), as.character(LGA), '')), hjust = -0.2, vjust = 0, size = 3) +\n",
    "    ggtitle(title) +\n",
    "    my_theme()\n",
    "\n",
    "chart_name_svg = paste(\"scatter_\", y_var, \"_vs_\", x_var, \".svg\", sep = \"\")\n",
    "chart_name_png = paste(\"scatter_\", y_var, \"_vs_\", x_var, \".png\", sep = \"\")\n",
    "filename_svg = paste(char_ouput_path, chart_name_svg, sep = \"/\")\n",
    "filename_png = paste(char_ouput_path, chart_name_png, sep = \"/\")\n",
    "ggsave(file = filename_svg)\n",
    "ggsave(file = filename_png)"
   ]
  },
  {
   "cell_type": "markdown",
   "metadata": {},
   "source": [
    "# Correlations"
   ]
  },
  {
   "cell_type": "code",
   "execution_count": 14,
   "metadata": {},
   "outputs": [
    {
     "data": {
      "text/html": [
       "<table>\n",
       "<thead><tr><th scope=col>LGA</th><th scope=col>crime_rate_per_lga</th><th scope=col>Pop_Dens_km2</th><th scope=col>seifa_value</th><th scope=col>num_service</th><th scope=col>pop_total</th></tr></thead>\n",
       "<tbody>\n",
       "\t<tr><td>albury           </td><td>0.12202189       </td><td>170.5            </td><td>964              </td><td>1769             </td><td>51081            </td></tr>\n",
       "\t<tr><td>ballina          </td><td>0.06439412       </td><td> 88.7            </td><td>986              </td><td>1353             </td><td>41774            </td></tr>\n",
       "\t<tr><td>balranald        </td><td>0.08376963       </td><td>  0.1            </td><td>969              </td><td>   4             </td><td> 2292            </td></tr>\n",
       "\t<tr><td>bathurst regional</td><td>0.09751314       </td><td> 11.1            </td><td>994              </td><td>2882             </td><td>41297            </td></tr>\n",
       "\t<tr><td>bega valley      </td><td>0.06376960       </td><td>  5.4            </td><td>974              </td><td> 771             </td><td>33229            </td></tr>\n",
       "\t<tr><td>bellingen        </td><td>0.06305310       </td><td>  8.1            </td><td>957              </td><td> 422             </td><td>12656            </td></tr>\n",
       "</tbody>\n",
       "</table>\n"
      ],
      "text/latex": [
       "\\begin{tabular}{r|llllll}\n",
       " LGA & crime\\_rate\\_per\\_lga & Pop\\_Dens\\_km2 & seifa\\_value & num\\_service & pop\\_total\\\\\n",
       "\\hline\n",
       "\t albury            & 0.12202189        & 170.5             & 964               & 1769              & 51081            \\\\\n",
       "\t ballina           & 0.06439412        &  88.7             & 986               & 1353              & 41774            \\\\\n",
       "\t balranald         & 0.08376963        &   0.1             & 969               &    4              &  2292            \\\\\n",
       "\t bathurst regional & 0.09751314        &  11.1             & 994               & 2882              & 41297            \\\\\n",
       "\t bega valley       & 0.06376960        &   5.4             & 974               &  771              & 33229            \\\\\n",
       "\t bellingen         & 0.06305310        &   8.1             & 957               &  422              & 12656            \\\\\n",
       "\\end{tabular}\n"
      ],
      "text/markdown": [
       "\n",
       "| LGA | crime_rate_per_lga | Pop_Dens_km2 | seifa_value | num_service | pop_total |\n",
       "|---|---|---|---|---|---|\n",
       "| albury            | 0.12202189        | 170.5             | 964               | 1769              | 51081             |\n",
       "| ballina           | 0.06439412        |  88.7             | 986               | 1353              | 41774             |\n",
       "| balranald         | 0.08376963        |   0.1             | 969               |    4              |  2292             |\n",
       "| bathurst regional | 0.09751314        |  11.1             | 994               | 2882              | 41297             |\n",
       "| bega valley       | 0.06376960        |   5.4             | 974               |  771              | 33229             |\n",
       "| bellingen         | 0.06305310        |   8.1             | 957               |  422              | 12656             |\n",
       "\n"
      ],
      "text/plain": [
       "  LGA               crime_rate_per_lga Pop_Dens_km2 seifa_value num_service\n",
       "1 albury            0.12202189         170.5        964         1769       \n",
       "2 ballina           0.06439412          88.7        986         1353       \n",
       "3 balranald         0.08376963           0.1        969            4       \n",
       "4 bathurst regional 0.09751314          11.1        994         2882       \n",
       "5 bega valley       0.06376960           5.4        974          771       \n",
       "6 bellingen         0.06305310           8.1        957          422       \n",
       "  pop_total\n",
       "1 51081    \n",
       "2 41774    \n",
       "3  2292    \n",
       "4 41297    \n",
       "5 33229    \n",
       "6 12656    "
      ]
     },
     "metadata": {},
     "output_type": "display_data"
    }
   ],
   "source": [
    "head(data_scatter)"
   ]
  },
  {
   "cell_type": "code",
   "execution_count": null,
   "metadata": {},
   "outputs": [],
   "source": []
  },
  {
   "cell_type": "code",
   "execution_count": null,
   "metadata": {},
   "outputs": [],
   "source": []
  },
  {
   "cell_type": "code",
   "execution_count": null,
   "metadata": {},
   "outputs": [],
   "source": []
  },
  {
   "cell_type": "code",
   "execution_count": null,
   "metadata": {},
   "outputs": [],
   "source": []
  },
  {
   "cell_type": "code",
   "execution_count": null,
   "metadata": {},
   "outputs": [],
   "source": []
  },
  {
   "cell_type": "code",
   "execution_count": null,
   "metadata": {},
   "outputs": [],
   "source": []
  },
  {
   "cell_type": "code",
   "execution_count": null,
   "metadata": {},
   "outputs": [],
   "source": []
  }
 ],
 "metadata": {
  "kernelspec": {
   "display_name": "R",
   "language": "R",
   "name": "ir"
  },
  "language_info": {
   "codemirror_mode": "r",
   "file_extension": ".r",
   "mimetype": "text/x-r-source",
   "name": "R",
   "pygments_lexer": "r",
   "version": "3.5.3"
  }
 },
 "nbformat": 4,
 "nbformat_minor": 2
}
